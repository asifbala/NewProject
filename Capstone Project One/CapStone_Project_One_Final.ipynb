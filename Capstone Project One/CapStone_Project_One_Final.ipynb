{
 "cells": [
  {
   "cell_type": "code",
   "execution_count": 312,
   "metadata": {},
   "outputs": [],
   "source": [
    "import pandas as pd\n",
    "import numpy as np\n",
    "import matplotlib.pyplot as plt\n",
    "import seaborn as sns\n",
    "from sklearn.linear_model import SGDClassifier\n",
    "from sklearn.ensemble import RandomForestClassifier\n",
    "from sklearn.ensemble import GradientBoostingClassifier \n",
    "from sklearn.ensemble import VotingClassifier\n",
    "from sklearn.pipeline import make_pipeline\n",
    "from sklearn.model_selection import train_test_split\n",
    "from sklearn.metrics import classification_report\n",
    "from sklearn.metrics import accuracy_score\n",
    "from sklearn.model_selection import cross_val_score\n",
    "from sklearn.model_selection import GridSearchCV\n",
    "from xgboost import XGBClassifier\n",
    "from scipy.stats import pearsonr\n",
    "from sklearn.linear_model import LogisticRegression\n",
    "import os\n",
    "os.environ['KMP_DUPLICATE_LIB_OK']='True'"
   ]
  },
  {
   "cell_type": "markdown",
   "metadata": {},
   "source": [
    "# DATA PREPARATION"
   ]
  },
  {
   "cell_type": "code",
   "execution_count": 313,
   "metadata": {},
   "outputs": [
    {
     "name": "stdout",
     "output_type": "stream",
     "text": [
      "(4572, 19)\n"
     ]
    }
   ],
   "source": [
    "data = pd.read_csv('/Users/asifbala/Documents/Data Science/CapstoneProject/CSV Files/WorldCupMatches.csv',index_col='Year')\n",
    "print(data.shape)"
   ]
  },
  {
   "cell_type": "code",
   "execution_count": 314,
   "metadata": {},
   "outputs": [
    {
     "name": "stdout",
     "output_type": "stream",
     "text": [
      "(272, 19)\n"
     ]
    }
   ],
   "source": [
    "df = data.loc[2002.0:2014.0]\n",
    "print(df.shape)"
   ]
  },
  {
   "cell_type": "code",
   "execution_count": 315,
   "metadata": {},
   "outputs": [
    {
     "name": "stdout",
     "output_type": "stream",
     "text": [
      "(256, 19)\n"
     ]
    }
   ],
   "source": [
    "df = df.drop_duplicates()\n",
    "print(df.shape)"
   ]
  },
  {
   "cell_type": "code",
   "execution_count": 316,
   "metadata": {},
   "outputs": [
    {
     "name": "stdout",
     "output_type": "stream",
     "text": [
      "                    Datetime    Stage                   Stadium      City  \\\n",
      "Year                                                                        \n",
      "2002.0  31 May 2002 - 20:30   Group A   Seoul World Cup Stadium    Seoul    \n",
      "2002.0  01 Jun 2002 - 18:00   Group A    Munsu Football Stadium    Ulsan    \n",
      "2002.0  01 Jun 2002 - 15:30   Group E  Niigata Stadium Big Swan  Niigata    \n",
      "2002.0  01 Jun 2002 - 20:30   Group E              Sapporo Dome  Sapporo    \n",
      "2002.0  02 Jun 2002 - 14:30   Group F           Kashima Stadium  Ibaraki    \n",
      "\n",
      "                 Home Team Name  Home Team Goals  Away Team Goals  \\\n",
      "Year                                                                \n",
      "2002.0                   France              0.0              1.0   \n",
      "2002.0                  Uruguay              1.0              2.0   \n",
      "2002.0  rn\">Republic of Ireland              1.0              1.0   \n",
      "2002.0                  Germany              8.0              0.0   \n",
      "2002.0                Argentina              1.0              0.0   \n",
      "\n",
      "       Away Team Name Win conditions  Attendance  Half-time Home Goals  \\\n",
      "Year                                                                     \n",
      "2002.0        Senegal                    62561.0                   0.0   \n",
      "2002.0        Denmark                    30157.0                   0.0   \n",
      "2002.0       Cameroon                    33679.0                   0.0   \n",
      "2002.0   Saudi Arabia                    32218.0                   4.0   \n",
      "2002.0        Nigeria                    34050.0                   0.0   \n",
      "\n",
      "        Half-time Away Goals                 Referee  \\\n",
      "Year                                                   \n",
      "2002.0                   1.0       BUJSAIM Ali (UAE)   \n",
      "2002.0                   1.0         MANE Saad (KUW)   \n",
      "2002.0                   1.0     KAMIKAWA Toru (JPN)   \n",
      "2002.0                   0.0     AQUINO Ubaldo (PAR)   \n",
      "2002.0                   0.0  VEISSIERE Gilles (FRA)   \n",
      "\n",
      "                        Assistant 1              Assistant 2     RoundID  \\\n",
      "Year                                                                       \n",
      "2002.0           ALTRAIFI Ali (KSA)    RATTALINO Jorge (ARG)  43950100.0   \n",
      "2002.0         HASSOUNEH Awni (JOR)      DANTE Dramane (MLI)  43950100.0   \n",
      "2002.0  AWANG HAMAT Mat Lazim (MAS)   VAN NYLEN Roland (BEL)  43950100.0   \n",
      "2002.0      GIACOMUZZI Miguel (PAR)  RAGOONATH Michael (TRI)  43950100.0   \n",
      "2002.0       ARNAULT Frederic (FRA)     MUELLER Heiner (GER)  43950100.0   \n",
      "\n",
      "           MatchID Home Team Initials Away Team Initials  \n",
      "Year                                                      \n",
      "2002.0  43950001.0                FRA                SEN  \n",
      "2002.0  43950003.0                URU                DEN  \n",
      "2002.0  43950002.0                IRL                CMR  \n",
      "2002.0  43950004.0                GER                KSA  \n",
      "2002.0  43950007.0                ARG                NGA  \n"
     ]
    }
   ],
   "source": [
    "print(df.head())"
   ]
  },
  {
   "cell_type": "markdown",
   "metadata": {},
   "source": [
    "# EXPLORATORY DATA ANALYSIS"
   ]
  },
  {
   "cell_type": "code",
   "execution_count": 317,
   "metadata": {},
   "outputs": [
    {
     "name": "stdout",
     "output_type": "stream",
     "text": [
      "Index(['Datetime', 'Stage', 'Stadium', 'City', 'Home Team Name',\n",
      "       'Home Team Goals', 'Away Team Goals', 'Away Team Name',\n",
      "       'Win conditions', 'Attendance', 'Half-time Home Goals',\n",
      "       'Half-time Away Goals', 'Referee', 'Assistant 1', 'Assistant 2',\n",
      "       'RoundID', 'MatchID', 'Home Team Initials', 'Away Team Initials'],\n",
      "      dtype='object')\n"
     ]
    }
   ],
   "source": [
    "print(df.columns)"
   ]
  },
  {
   "cell_type": "code",
   "execution_count": 318,
   "metadata": {},
   "outputs": [
    {
     "name": "stdout",
     "output_type": "stream",
     "text": [
      "<class 'pandas.core.frame.DataFrame'>\n",
      "Float64Index: 256 entries, 2002.0 to 2014.0\n",
      "Data columns (total 19 columns):\n",
      "Datetime                256 non-null object\n",
      "Stage                   256 non-null object\n",
      "Stadium                 256 non-null object\n",
      "City                    256 non-null object\n",
      "Home Team Name          256 non-null object\n",
      "Home Team Goals         256 non-null float64\n",
      "Away Team Goals         256 non-null float64\n",
      "Away Team Name          256 non-null object\n",
      "Win conditions          256 non-null object\n",
      "Attendance              255 non-null float64\n",
      "Half-time Home Goals    256 non-null float64\n",
      "Half-time Away Goals    256 non-null float64\n",
      "Referee                 256 non-null object\n",
      "Assistant 1             256 non-null object\n",
      "Assistant 2             256 non-null object\n",
      "RoundID                 256 non-null float64\n",
      "MatchID                 256 non-null float64\n",
      "Home Team Initials      256 non-null object\n",
      "Away Team Initials      256 non-null object\n",
      "dtypes: float64(7), object(12)\n",
      "memory usage: 40.0+ KB\n",
      "None\n"
     ]
    }
   ],
   "source": [
    "info = df.info()\n",
    "print(info)"
   ]
  },
  {
   "cell_type": "code",
   "execution_count": 319,
   "metadata": {},
   "outputs": [
    {
     "name": "stdout",
     "output_type": "stream",
     "text": [
      "       Home Team Goals  Away Team Goals    Attendance  Half-time Home Goals  \\\n",
      "count       256.000000       256.000000    255.000000            256.000000   \n",
      "mean          1.296875         1.140625  49530.596078              0.503906   \n",
      "std           1.248430         1.179793  13976.841018              0.746222   \n",
      "min           0.000000         0.000000  23871.000000              0.000000   \n",
      "25%           0.000000         0.000000  39257.500000              0.000000   \n",
      "50%           1.000000         1.000000  46000.000000              0.000000   \n",
      "75%           2.000000         2.000000  61986.000000              1.000000   \n",
      "max           8.000000         7.000000  84490.000000              4.000000   \n",
      "\n",
      "       Half-time Away Goals       RoundID       MatchID  \n",
      "count            256.000000  2.560000e+02  2.560000e+02  \n",
      "mean               0.476562  3.546649e+07  1.854034e+08  \n",
      "std                0.745863  4.004388e+07  1.164977e+08  \n",
      "min                0.000000  2.497170e+05  4.395000e+07  \n",
      "25%                0.000000  2.543788e+05  8.404502e+07  \n",
      "50%                0.000000  2.210303e+07  1.987358e+08  \n",
      "75%                1.000000  5.731548e+07  3.001300e+08  \n",
      "max                5.000000  9.741060e+07  3.001865e+08  \n"
     ]
    }
   ],
   "source": [
    "description = df.describe()\n",
    "print(description)"
   ]
  },
  {
   "cell_type": "markdown",
   "metadata": {},
   "source": [
    "Total matches played by each team as both 'home' and 'away'"
   ]
  },
  {
   "cell_type": "code",
   "execution_count": 320,
   "metadata": {},
   "outputs": [
    {
     "name": "stdout",
     "output_type": "stream",
     "text": [
      "Germany           28\n",
      "Brazil            24\n",
      "Argentina         20\n",
      "Spain             19\n",
      "Netherlands       18\n",
      "France            18\n",
      "Korea Republic    17\n",
      "Portugal          17\n",
      "England           17\n",
      "Italy             17\n",
      "USA               16\n",
      "Mexico            16\n",
      "Uruguay           14\n",
      "Japan             14\n",
      "Ghana             12\n",
      "Paraguay          12\n",
      "Switzerland       11\n",
      "Costa Rica        11\n",
      "Ecuador           10\n",
      "Nigeria           10\n",
      "dtype: int64\n"
     ]
    }
   ],
   "source": [
    "home_value_count = df['Home Team Name'].value_counts()\n",
    "\n",
    "away_value_count = df['Away Team Name'].value_counts()\n",
    "\n",
    "total_matches = home_value_count + away_value_count\n",
    "\n",
    "total_matches = total_matches.sort_values(ascending=False).head(20)\n",
    "\n",
    "print(total_matches)"
   ]
  },
  {
   "attachments": {},
   "cell_type": "markdown",
   "metadata": {},
   "source": [
    "Obtain the winning percentages by year for the world cup teams in the dataset. Only interested in teams that qualified for all four world cups (2002, 2006, 2010, 2014), so teams that only played from 2006 onwards for example were excluded. In order to do this, create four separate data frames, one for each world cup of 2002, 2006, 2012, and 2014. For each data frame, calculate the winning percentage for each team that qualified for all world cups since 2002 and then concatenated the 4 data frames into one."
   ]
  },
  {
   "cell_type": "code",
   "execution_count": 321,
   "metadata": {},
   "outputs": [
    {
     "name": "stdout",
     "output_type": "stream",
     "text": [
      "      Argentina    Brazil  England    France   Germany     Italy  Japan  \\\n",
      "2002   0.333333  1.000000     0.40  0.000000  0.714286  0.250000    0.5   \n",
      "2006   0.600000  0.800000     0.60  0.571429  0.714286  0.714286    0.0   \n",
      "2010   0.800000  0.600000     0.25  0.000000  0.714286  0.000000    0.5   \n",
      "2014   0.636364  0.363636     0.00  0.571429  0.909091  0.333333    0.0   \n",
      "\n",
      "      Korea Republic  Mexico  Portugal     Spain   USA  \n",
      "2002        0.428571    0.50  0.333333  0.600000  0.40  \n",
      "2006        0.333333    0.25  0.571429  0.750000  0.00  \n",
      "2010        0.250000    0.25  0.250000  0.857143  0.25  \n",
      "2014        0.000000    0.40  0.333333  0.333333  0.20  \n"
     ]
    },
    {
     "name": "stderr",
     "output_type": "stream",
     "text": [
      "/Users/asifbala/anaconda3/lib/python3.7/site-packages/ipykernel_launcher.py:97: FutureWarning: Sorting because non-concatenation axis is not aligned. A future version\n",
      "of pandas will change to not sort by default.\n",
      "\n",
      "To accept the future behavior, pass 'sort=False'.\n",
      "\n",
      "To retain the current behavior and silence the warning, pass 'sort=True'.\n",
      "\n"
     ]
    }
   ],
   "source": [
    "df2 = data.loc[2002.0]\n",
    "\n",
    "df2['Tie'] = np.where(df2['Home Team Goals'] == df2['Away Team Goals'],1, 0)\n",
    "\n",
    "df2['HomeTeamWins'] = np.where(df2['Home Team Goals'] > df2['Away Team Goals'],1, 0)\n",
    "\n",
    "df2['AwayTeamWins'] = np.where(df2['Away Team Goals'] > df2['Home Team Goals'],1, 0)\n",
    "\n",
    "hometeamwins_sum2 = df2.groupby('Home Team Name')['HomeTeamWins'].sum()\n",
    "\n",
    "awayteamwins_sum2 = df2.groupby('Away Team Name')['AwayTeamWins'].sum()\n",
    "\n",
    "totalwins_sum2 = hometeamwins_sum2 + awayteamwins_sum2\n",
    "\n",
    "total_hometeams2 = df2.groupby('Home Team Name')['Home Team Initials'].count()\n",
    "\n",
    "total_awayteams2 = df2.groupby('Away Team Name')['Away Team Initials'].count()\n",
    "\n",
    "total_teams2 = total_hometeams2 + total_awayteams2\n",
    "\n",
    "team_winpercentage2 = totalwins_sum2/total_teams2\n",
    "        \n",
    "#Team winning percentages for only 2006 world cup\n",
    "\n",
    "df3 = data.loc[2006.0]\n",
    "\n",
    "df3['Tie'] = np.where(df3['Home Team Goals'] == df3['Away Team Goals'],1, 0)\n",
    "\n",
    "df3['HomeTeamWins'] = np.where(df3['Home Team Goals'] > df3['Away Team Goals'],1, 0)\n",
    "\n",
    "df3['AwayTeamWins'] = np.where(df3['Away Team Goals'] > df3['Home Team Goals'],1, 0)\n",
    "\n",
    "hometeamwins_sum3 = df3.groupby('Home Team Name')['HomeTeamWins'].sum()\n",
    "\n",
    "awayteamwins_sum3 = df3.groupby('Away Team Name')['AwayTeamWins'].sum()\n",
    "\n",
    "totalwins_sum3 = hometeamwins_sum3 + awayteamwins_sum3\n",
    "\n",
    "total_hometeams3 = df3.groupby('Home Team Name')['Home Team Initials'].count()\n",
    "\n",
    "total_awayteams3 = df3.groupby('Away Team Name')['Away Team Initials'].count()\n",
    "\n",
    "total_teams3 = total_hometeams3 + total_awayteams3\n",
    "\n",
    "team_winpercentage3 = totalwins_sum3/total_teams3\n",
    "\n",
    "#Team winning percentages for only 2010 world cup\n",
    "\n",
    "df4 = data.loc[2010.0]\n",
    "\n",
    "df4['Tie'] = np.where(df4['Home Team Goals'] == df4['Away Team Goals'],1, 0)\n",
    "\n",
    "df4['HomeTeamWins'] = np.where(df4['Home Team Goals'] > df4['Away Team Goals'],1, 0)\n",
    "\n",
    "df4['AwayTeamWins'] = np.where(df4['Away Team Goals'] > df4['Home Team Goals'],1, 0)\n",
    "\n",
    "hometeamwins_sum4 = df4.groupby('Home Team Name')['HomeTeamWins'].sum()\n",
    "\n",
    "awayteamwins_sum4 = df4.groupby('Away Team Name')['AwayTeamWins'].sum()\n",
    "\n",
    "totalwins_sum4 = hometeamwins_sum4 + awayteamwins_sum4\n",
    "\n",
    "total_hometeams4 = df4.groupby('Home Team Name')['Home Team Initials'].count()\n",
    "\n",
    "total_awayteams4 = df4.groupby('Away Team Name')['Away Team Initials'].count()\n",
    "\n",
    "total_teams4 = total_hometeams4 + total_awayteams4\n",
    "\n",
    "team_winpercentage4 = totalwins_sum4/total_teams4\n",
    "\n",
    "#Team winning percentages for only 2014 world cup\n",
    "\n",
    "df5 = data.loc[2014.0]\n",
    "\n",
    "df5['Tie'] = np.where(df5['Home Team Goals'] == df5['Away Team Goals'],1, 0)\n",
    "\n",
    "df5['HomeTeamWins'] = np.where(df5['Home Team Goals'] > df5['Away Team Goals'],1, 0)\n",
    "\n",
    "df5['AwayTeamWins'] = np.where(df5['Away Team Goals'] > df5['Home Team Goals'],1, 0)\n",
    "\n",
    "hometeamwins_sum5 = df5.groupby('Home Team Name')['HomeTeamWins'].sum()\n",
    "\n",
    "awayteamwins_sum5 = df5.groupby('Away Team Name')['AwayTeamWins'].sum()\n",
    "\n",
    "totalwins_sum5 = hometeamwins_sum5 + awayteamwins_sum5\n",
    "\n",
    "total_hometeams5 = df5.groupby('Home Team Name')['Home Team Initials'].count()\n",
    "\n",
    "total_awayteams5 = df5.groupby('Away Team Name')['Away Team Initials'].count()\n",
    "\n",
    "total_teams5 = total_hometeams5 + total_awayteams5\n",
    "\n",
    "team_winpercentage5 = totalwins_sum5/total_teams5\n",
    "\n",
    "#Concatenate dataframes for 2002,2006,2010,and 2014\n",
    "\n",
    "winningpercentage_byyear = pd.concat([team_winpercentage2,team_winpercentage3,team_winpercentage4,team_winpercentage5],axis=1)\n",
    "\n",
    "#Drop teams that didnt participate in all 4 world cups\n",
    "\n",
    "winningpercentage_byyear = winningpercentage_byyear.dropna()\n",
    "\n",
    "winningpercentage_byyear.columns = ['2002','2006','2010','2014']\n",
    "\n",
    "winningpercentage_byyear = winningpercentage_byyear.T\n",
    "\n",
    "print(winningpercentage_byyear)"
   ]
  },
  {
   "attachments": {},
   "cell_type": "markdown",
   "metadata": {},
   "source": [
    "Create a separate subplot for each team with year on the x axis and winning percentage on the y axis. This will provide a nice visual of how each team fared each year in terms of their winning rates. \n",
    "\n",
    "Winning Percentage of each team in subplots:"
   ]
  },
  {
   "cell_type": "code",
   "execution_count": 322,
   "metadata": {},
   "outputs": [
    {
     "data": {
      "image/png": "[encoded data removed]",
      "text/plain": [
       "<Figure size 1440x1440 with 12 Axes>"
      ]
     },
     "metadata": {
      "needs_background": "light"
     },
     "output_type": "display_data"
    }
   ],
   "source": [
    "winningpercentage_byyear_plot = winningpercentage_byyear.plot(subplots=True,figsize=(20,20))\n",
    "\n",
    "plt.show()"
   ]
  },
  {
   "cell_type": "markdown",
   "metadata": {},
   "source": [
    "Winning Percentage of each team in a single plot:"
   ]
  },
  {
   "cell_type": "code",
   "execution_count": 323,
   "metadata": {},
   "outputs": [
    {
     "data": {
      "image/png": "[encoded data removed]",
      "text/plain": [
       "<Figure size 432x288 with 1 Axes>"
      ]
     },
     "metadata": {
      "needs_background": "light"
     },
     "output_type": "display_data"
    }
   ],
   "source": [
    "winningpercentage_byyear_plot = winningpercentage_byyear.plot()\n",
    "\n",
    "winningpercentage_byyear_plot.legend(loc='center left', bbox_to_anchor=(1, 0.5))\n",
    "\n",
    "winningpercentage_byyear_plot.set(xlabel='Year', ylabel='Winning Percentage')\n",
    "\n",
    "plt.show()"
   ]
  },
  {
   "cell_type": "markdown",
   "metadata": {},
   "source": [
    "It is important to examine the variance as well. I want to see how the winning percentages varied over the years by team. A box plot is the best option to easily visualize this.\n",
    "\n",
    "Box plot showcasing winning percentage variance:"
   ]
  },
  {
   "cell_type": "code",
   "execution_count": 324,
   "metadata": {},
   "outputs": [
    {
     "data": {
      "image/png": "[encoded data removed]",
      "text/plain": [
       "<Figure size 1440x720 with 1 Axes>"
      ]
     },
     "metadata": {
      "needs_background": "light"
     },
     "output_type": "display_data"
    }
   ],
   "source": [
    "winningpercentage_byyear.plot(kind='box',figsize=(20,10))\n",
    "\n",
    "plt.show()"
   ]
  },
  {
   "cell_type": "markdown",
   "metadata": {},
   "source": [
    "# FEATURE ENGINEERING"
   ]
  },
  {
   "cell_type": "markdown",
   "metadata": {},
   "source": [
    "Get winning percentages for all the matches played since 2002 for each team(as both home and away)."
   ]
  },
  {
   "cell_type": "code",
   "execution_count": 325,
   "metadata": {},
   "outputs": [
    {
     "name": "stdout",
     "output_type": "stream",
     "text": [
      "Team Name\n",
      "Algeria      0.285714\n",
      "Angola       0.666667\n",
      "Argentina    0.200000\n",
      "Australia    0.200000\n",
      "Belgium      0.222222\n",
      "dtype: float64\n",
      "Team Name\n",
      "Algeria      0.142857\n",
      "Angola       0.000000\n",
      "Argentina    0.650000\n",
      "Australia    0.200000\n",
      "Belgium      0.555556\n",
      "dtype: float64\n"
     ]
    }
   ],
   "source": [
    "df['Tie'] = np.where(df['Home Team Goals'] == df['Away Team Goals'],1, 0)\n",
    "\n",
    "df['HomeTeamWins'] = np.where(df['Home Team Goals'] > df['Away Team Goals'],1, 0)\n",
    "\n",
    "df['AwayTeamWins'] = np.where(df['Away Team Goals'] > df['Home Team Goals'],1, 0)\n",
    "\n",
    "hometeamwins_sum = df.groupby('Home Team Name')['HomeTeamWins'].sum()\n",
    "\n",
    "awayteamwins_sum = df.groupby('Away Team Name')['AwayTeamWins'].sum()\n",
    "\n",
    "home_ties_sum = df.groupby('Home Team Name')['Tie'].sum()\n",
    "\n",
    "away_ties_sum = df.groupby('Away Team Name')['Tie'].sum()\n",
    "\n",
    "totalwins_sum = hometeamwins_sum + awayteamwins_sum\n",
    "\n",
    "total_ties_sum = home_ties_sum + away_ties_sum\n",
    "\n",
    "total_hometeams = df.groupby('Home Team Name')['Home Team Initials'].count()\n",
    "\n",
    "total_awayteams = df.groupby('Away Team Name')['Away Team Initials'].count()\n",
    "\n",
    "total_teams = total_hometeams + total_awayteams\n",
    "\n",
    "team_tp = total_ties_sum/total_teams\n",
    "\n",
    "team_tp = team_tp.rename_axis('Team Name')\n",
    "\n",
    "print(team_tp.head())\n",
    "\n",
    "team_wp = totalwins_sum/total_teams\n",
    "\n",
    "team_wp = team_wp.rename_axis('Team Name')\n",
    "\n",
    "print(team_wp.head())"
   ]
  },
  {
   "attachments": {},
   "cell_type": "markdown",
   "metadata": {},
   "source": [
    "Need to remove the home/away factor.In actuality, it does not make sense since all the matches for a world cup happen in the same country. Thus, for each world cup, all the teams would be away except for the host country, essentially making the home and away fields not useful!\n",
    "\n",
    "First assign a unique ID to each team in the ‘home team name’ and ‘away team name’ columns. Each team was now assigned a unique number, regardless of whether that team was labeled as the home team or away team in any particular match. "
   ]
  },
  {
   "cell_type": "code",
   "execution_count": 326,
   "metadata": {},
   "outputs": [
    {
     "name": "stdout",
     "output_type": "stream",
     "text": [
      "                 Home Team Name Away Team Name  id  id2\n",
      "Year                                                   \n",
      "2002.0                   France        Senegal  17   37\n",
      "2002.0                  Uruguay        Denmark  50   14\n",
      "2002.0  rn\">Republic of Ireland       Cameroon  52    6\n",
      "2002.0                  Germany   Saudi Arabia  18   36\n",
      "2002.0                Argentina        Nigeria   2   31\n"
     ]
    }
   ],
   "source": [
    "df = df.assign(id=(df['Home Team Name']).astype('category').cat.codes)\n",
    "\n",
    "df = df.assign(id2=(df['Away Team Name']).astype('category').cat.codes)\n",
    "\n",
    "print(df[['Home Team Name','Away Team Name','id','id2']].head())"
   ]
  },
  {
   "cell_type": "markdown",
   "metadata": {},
   "source": [
    "Now I need to ensure that when two teams played each other, the IDs were displayed in the same order in the data frame the same way each time.\n",
    "\n",
    "To accomplish this, I set it up so that anytime the ID of the home team is greater than the ID of the away team, it would swap the columns of those respective teams. This would allow all combinations to be displayed the same way; the team with the smaller ID will always be displayed first and the team with the larger ID will always be displayed second in the data frame. \n",
    "\n",
    "This allowed for easier calculation of features in any match combination because it takes the away the home/away matchup factor which wasn’t useful. Teams with the smaller ID (on the left) were labeled as Team0 and teams with the higher Id (on the right) were labeled as Team1. "
   ]
  },
  {
   "cell_type": "code",
   "execution_count": 327,
   "metadata": {},
   "outputs": [
    {
     "name": "stdout",
     "output_type": "stream",
     "text": [
      "            Team0                    Team1  id  id2\n",
      "Year                                               \n",
      "2002.0     France                  Senegal  17   37\n",
      "2002.0    Denmark                  Uruguay  50   14\n",
      "2002.0   Cameroon  rn\">Republic of Ireland  52    6\n",
      "2002.0    Germany             Saudi Arabia  18   36\n",
      "2002.0  Argentina                  Nigeria   2   31\n"
     ]
    }
   ],
   "source": [
    "df['Winning Team'] = np.where(df['Home Team Goals'] > df['Away Team Goals'], df['Home Team Name'],df['Away Team Name'])\n",
    "\n",
    "df['Home Team Name'],df['Away Team Name'] = np.where(df['id'] > df['id2'],[df['Away Team Name'],df['Home Team Name']],[df['Home Team Name'], df['Away Team Name']])\n",
    "\n",
    "df['Home Team Goals'],df['Away Team Goals'] = np.where(df['id'] > df['id2'],[df['Away Team Goals'],df['Home Team Goals']],[df['Home Team Goals'], df['Away Team Goals']])\n",
    "\n",
    "df['HomeTeamWins'],df['AwayTeamWins'] = np.where(df['id'] > df['id2'],[df['AwayTeamWins'],df['HomeTeamWins']],[df['HomeTeamWins'], df['AwayTeamWins']])\n",
    "\n",
    "df.rename(columns={'Home Team Name': 'Team0', 'Away Team Name': 'Team1', 'HomeTeamWins':'Team0Wins','AwayTeamWins':'Team1Wins', 'Home Team Goals': 'Team 0 Goals','Away Team Goals':'Team 1 Goals'}, inplace=True)\n",
    "\n",
    "print(df[['Team0','Team1','id','id2']].head())"
   ]
  },
  {
   "attachments": {},
   "cell_type": "markdown",
   "metadata": {},
   "source": [
    "Calculate following features:\n",
    "\n",
    "-The respective win percentages of team0 and team1 of all the matches in which they played against one another. \n",
    "\n",
    "-Their tie percentage in all of their matches played against one another."
   ]
  },
  {
   "cell_type": "code",
   "execution_count": 328,
   "metadata": {},
   "outputs": [
    {
     "name": "stdout",
     "output_type": "stream",
     "text": [
      "                        Team0_Win%_InMatchUp  Team1_Win%_InMatchUp  \\\n",
      "Team0   Team1                                                        \n",
      "Algeria Belgium                          0.0                   1.0   \n",
      "        England                          0.0                   0.0   \n",
      "        Germany                          0.0                   1.0   \n",
      "        Korea Republic                   1.0                   0.0   \n",
      "        Russia                           0.0                   0.0   \n",
      "\n",
      "                        BothTeams_Tie%_InMatchUp  \n",
      "Team0   Team1                                     \n",
      "Algeria Belgium                              0.0  \n",
      "        England                              1.0  \n",
      "        Germany                              0.0  \n",
      "        Korea Republic                       0.0  \n",
      "        Russia                               1.0  \n"
     ]
    }
   ],
   "source": [
    "total_matches = df.groupby(['Team0','Team1'])['Team0'].count()\n",
    "\n",
    "team1wins_sum = df.groupby(['Team0','Team1'])['Team0Wins'].sum()\n",
    "\n",
    "team2wins_sum = df.groupby(['Team0','Team1'])['Team1Wins'].sum()\n",
    "\n",
    "ties_sum = df.groupby(['Team0','Team1'])['Tie'].sum()\n",
    "\n",
    "team1_winpercent = team1wins_sum/total_matches\n",
    "\n",
    "team2_winpercent = team2wins_sum/total_matches\n",
    "\n",
    "tiespercent = ties_sum/total_matches\n",
    "\n",
    "wp_df = pd.concat([team1_winpercent,team2_winpercent,tiespercent],axis=1)\n",
    "\n",
    "wp_df.columns = ['Team0_Win%_InMatchUp','Team1_Win%_InMatchUp','BothTeams_Tie%_InMatchUp']\n",
    "\n",
    "print(wp_df.head())"
   ]
  },
  {
   "attachments": {},
   "cell_type": "markdown",
   "metadata": {},
   "source": [
    "Create the target variable/column called the ‘winning team.’ This variable was labeled either zero, one, or two for each match/sample. A zero signified that the winning team was team0 (team on the left), a one signified the winning team in the match was team1 (team on the right), and a two signified that the teams had tied for that particular match. "
   ]
  },
  {
   "cell_type": "code",
   "execution_count": 329,
   "metadata": {},
   "outputs": [],
   "source": [
    "df = df.reset_index()\n",
    "\n",
    "def newfunction(df):\n",
    "    if df['Team 0 Goals'] > df['Team 1 Goals']:          \n",
    "        return 0\n",
    "    if df['Team 0 Goals'] == df['Team 1 Goals']:\n",
    "        return 2\n",
    "    else:\n",
    "        return 1\n",
    "    \n",
    "df['Winning Team'] = df.apply(newfunction,axis=1)"
   ]
  },
  {
   "cell_type": "markdown",
   "metadata": {},
   "source": [
    "Create a base df with a sorted multi-level index with Team0 being the first index level and Team1 being the second index level."
   ]
  },
  {
   "cell_type": "code",
   "execution_count": 330,
   "metadata": {},
   "outputs": [
    {
     "name": "stdout",
     "output_type": "stream",
     "text": [
      "                        Winning Team\n",
      "Team0   Team1                       \n",
      "Algeria Belgium                    1\n",
      "        England                    2\n",
      "        Germany                    1\n",
      "        Korea Republic             0\n",
      "        Russia                     2\n"
     ]
    }
   ],
   "source": [
    "base_df = df[['Team0','Team1','Winning Team']]\n",
    "\n",
    "base_df = base_df.set_index(['Team0','Team1'])\n",
    "\n",
    "base_df = base_df.sort_index()\n",
    "\n",
    "print(base_df.head())"
   ]
  },
  {
   "attachments": {},
   "cell_type": "markdown",
   "metadata": {},
   "source": [
    "Calculate following features:\n",
    "\n",
    "-The overall respective win percentages for team0 and team1 in all their respective matches from all world cups 2002 onwards.\n",
    "\n",
    "-The overall tie percentages for team0 and team1 in all their respective matches from all world cups 2002 onwards. "
   ]
  },
  {
   "cell_type": "code",
   "execution_count": 331,
   "metadata": {},
   "outputs": [
    {
     "name": "stdout",
     "output_type": "stream",
     "text": [
      "           Team0_Tie%_Overall\n",
      "Team0                        \n",
      "Algeria              0.285714\n",
      "Angola               0.666667\n",
      "Argentina            0.200000\n",
      "Australia            0.200000\n",
      "Belgium              0.222222\n",
      "           Team1_Tie%_Overall\n",
      "Team1                        \n",
      "Algeria              0.285714\n",
      "Angola               0.666667\n",
      "Argentina            0.200000\n",
      "Australia            0.200000\n",
      "Belgium              0.222222\n",
      "           Team0_Win%_Overall\n",
      "Team0                        \n",
      "Algeria              0.142857\n",
      "Angola               0.000000\n",
      "Argentina            0.650000\n",
      "Australia            0.200000\n",
      "Belgium              0.555556\n",
      "           Team1_Win%_Overall\n",
      "Team1                        \n",
      "Algeria              0.142857\n",
      "Angola               0.000000\n",
      "Argentina            0.650000\n",
      "Australia            0.200000\n",
      "Belgium              0.555556\n"
     ]
    }
   ],
   "source": [
    "team_tp = team_tp.reset_index()\n",
    "\n",
    "team_tp.columns = ['Team0','Team0_Tie%_Overall']\n",
    "\n",
    "team_tp = team_tp.set_index('Team0')\n",
    "\n",
    "print(team_tp.head())\n",
    "\n",
    "team_tp2 = team_tp.reset_index()\n",
    "\n",
    "team_tp2.columns = ['Team1','Team1_Tie%_Overall']\n",
    "\n",
    "team_tp2 = team_tp2.set_index('Team1')\n",
    "\n",
    "print(team_tp2.head())\n",
    "\n",
    "team_wp = team_wp.reset_index()\n",
    "\n",
    "team_wp.columns = ['Team0','Team0_Win%_Overall']\n",
    "\n",
    "team_wp = team_wp.set_index('Team0')\n",
    "\n",
    "print(team_wp.head())\n",
    "\n",
    "team_wp2 = team_wp.reset_index()\n",
    "\n",
    "team_wp2.columns = ['Team1','Team1_Win%_Overall']\n",
    "\n",
    "team_wp2 = team_wp2.set_index('Team1')\n",
    "\n",
    "print(team_wp2.head())"
   ]
  },
  {
   "cell_type": "markdown",
   "metadata": {},
   "source": [
    "Combine all the features so far into the base df."
   ]
  },
  {
   "cell_type": "code",
   "execution_count": 332,
   "metadata": {},
   "outputs": [
    {
     "name": "stdout",
     "output_type": "stream",
     "text": [
      "                        Winning Team  Team0_Win%_Overall  Team1_Win%_Overall  \\\n",
      "Team0   Team1                                                                  \n",
      "Algeria Belgium                    1            0.142857            0.555556   \n",
      "        England                    2            0.142857            0.352941   \n",
      "        Germany                    1            0.142857            0.750000   \n",
      "        Korea Republic             0            0.142857            0.294118   \n",
      "        Russia                     2            0.142857            0.166667   \n",
      "\n",
      "                        Team0_Win%_InMatchUp  Team1_Win%_InMatchUp  \\\n",
      "Team0   Team1                                                        \n",
      "Algeria Belgium                          0.0                   1.0   \n",
      "        England                          0.0                   0.0   \n",
      "        Germany                          0.0                   1.0   \n",
      "        Korea Republic                   1.0                   0.0   \n",
      "        Russia                           0.0                   0.0   \n",
      "\n",
      "                        BothTeams_Tie%_InMatchUp  Team0_Tie%_Overall  \\\n",
      "Team0   Team1                                                          \n",
      "Algeria Belgium                              0.0            0.285714   \n",
      "        England                              1.0            0.285714   \n",
      "        Germany                              0.0            0.285714   \n",
      "        Korea Republic                       0.0            0.285714   \n",
      "        Russia                               1.0            0.285714   \n",
      "\n",
      "                        Team1_Tie%_Overall  \n",
      "Team0   Team1                               \n",
      "Algeria Belgium                   0.222222  \n",
      "        England                   0.411765  \n",
      "        Germany                   0.107143  \n",
      "        Korea Republic            0.294118  \n",
      "        Russia                    0.333333  \n"
     ]
    }
   ],
   "source": [
    "base_df = base_df.join([team_wp,team_wp2,wp_df,team_tp,team_tp2])\n",
    "\n",
    "print(base_df.head())"
   ]
  },
  {
   "cell_type": "markdown",
   "metadata": {},
   "source": [
    "Create following features:\n",
    "\n",
    "-Employed the recency effect, which indicates that recent events have more impact or more weight on future events than older events. Thus, I generated the win percentage for team0 in all their matches played in the last two world cups and did the same for team1. For those teams that didn’t play in the last two world cups, I reused their win percentage overall for all world cups. \n",
    "\n",
    "-Continuing the recency effect, I generated the tie percentage in all matches played in the last 2 world cups for team 0 as well as team 1."
   ]
  },
  {
   "cell_type": "code",
   "execution_count": 333,
   "metadata": {},
   "outputs": [],
   "source": [
    "df = data.loc[2010.0:2014.0]\n",
    "\n",
    "df = df.drop_duplicates()\n",
    "\n",
    "df['Tie'] = np.where(df['Home Team Goals'] == df['Away Team Goals'],1, 0)\n",
    "\n",
    "df['HomeTeamWins'] = np.where(df['Home Team Goals'] > df['Away Team Goals'],1, 0)\n",
    "\n",
    "df['AwayTeamWins'] = np.where(df['Away Team Goals'] > df['Home Team Goals'],1, 0)\n",
    "\n",
    "hometeamwins_sum = df.groupby('Home Team Name')['HomeTeamWins'].sum()\n",
    "\n",
    "awayteamwins_sum = df.groupby('Away Team Name')['AwayTeamWins'].sum()\n",
    "\n",
    "home_ties_sum = df.groupby('Home Team Name')['Tie'].sum()\n",
    "\n",
    "away_ties_sum = df.groupby('Away Team Name')['Tie'].sum()\n",
    "\n",
    "totalwins_sum = hometeamwins_sum + awayteamwins_sum\n",
    "\n",
    "total_ties_sum = home_ties_sum + away_ties_sum\n",
    "\n",
    "total_hometeams = df.groupby('Home Team Name')['Home Team Initials'].count()\n",
    "\n",
    "total_awayteams = df.groupby('Away Team Name')['Away Team Initials'].count()\n",
    "\n",
    "total_teams = total_hometeams + total_awayteams\n",
    "\n",
    "team_tp = total_ties_sum/total_teams\n",
    "\n",
    "team_tp = team_tp.reset_index()\n",
    "\n",
    "team_tp.columns = ['Team0','Team0_Tie%_Last2WC']\n",
    "\n",
    "team_tp = team_tp.set_index('Team0')\n",
    "\n",
    "team_tp2 = team_tp.reset_index()\n",
    "\n",
    "team_tp2.columns = ['Team1','Team1_Tie%_Last2WC']\n",
    "\n",
    "team_tp2 = team_tp2.set_index('Team1')\n",
    "\n",
    "team_wp = totalwins_sum/total_teams\n",
    "\n",
    "team_wp = team_wp.reset_index()\n",
    "\n",
    "team_wp.columns = ['Team0','Team0_Win%_Last2WC']\n",
    "\n",
    "team_wp = team_wp.set_index('Team0')\n",
    "\n",
    "team_wp2 = team_wp.reset_index()\n",
    "\n",
    "team_wp2.columns = ['Team1','Team1_Win%_Last2WC']\n",
    "\n",
    "team_wp2 = team_wp2.set_index('Team1')"
   ]
  },
  {
   "cell_type": "markdown",
   "metadata": {},
   "source": [
    "Add the recency features to the base df.\n",
    "\n",
    "The base df with all the features is now ready for machine learning."
   ]
  },
  {
   "cell_type": "code",
   "execution_count": 334,
   "metadata": {},
   "outputs": [
    {
     "name": "stdout",
     "output_type": "stream",
     "text": [
      "                        Winning Team  Team0_Win%_Overall  Team1_Win%_Overall  \\\n",
      "Team0   Team1                                                                  \n",
      "Algeria Belgium                    1            0.142857            0.555556   \n",
      "        England                    2            0.142857            0.352941   \n",
      "        Germany                    1            0.142857            0.750000   \n",
      "        Korea Republic             0            0.142857            0.294118   \n",
      "        Russia                     2            0.142857            0.166667   \n",
      "\n",
      "                        Team0_Win%_InMatchUp  Team1_Win%_InMatchUp  \\\n",
      "Team0   Team1                                                        \n",
      "Algeria Belgium                          0.0                   1.0   \n",
      "        England                          0.0                   0.0   \n",
      "        Germany                          0.0                   1.0   \n",
      "        Korea Republic                   1.0                   0.0   \n",
      "        Russia                           0.0                   0.0   \n",
      "\n",
      "                        BothTeams_Tie%_InMatchUp  Team0_Tie%_Overall  \\\n",
      "Team0   Team1                                                          \n",
      "Algeria Belgium                              0.0            0.285714   \n",
      "        England                              1.0            0.285714   \n",
      "        Germany                              0.0            0.285714   \n",
      "        Korea Republic                       0.0            0.285714   \n",
      "        Russia                               1.0            0.285714   \n",
      "\n",
      "                        Team1_Tie%_Overall  Team0_Win%_Last2WC  \\\n",
      "Team0   Team1                                                    \n",
      "Algeria Belgium                   0.222222            0.142857   \n",
      "        England                   0.411765            0.142857   \n",
      "        Germany                   0.107143            0.142857   \n",
      "        Korea Republic            0.294118            0.142857   \n",
      "        Russia                    0.333333            0.142857   \n",
      "\n",
      "                        Team1_Win%_Last2WC  Team0_Tie%_Last2WC  \\\n",
      "Team0   Team1                                                    \n",
      "Algeria Belgium                   0.800000            0.285714   \n",
      "        England                   0.142857            0.285714   \n",
      "        Germany                   0.785714            0.285714   \n",
      "        Korea Republic            0.142857            0.285714   \n",
      "        Russia                    0.000000            0.285714   \n",
      "\n",
      "                        Team1_Tie%_Last2WC  \n",
      "Team0   Team1                               \n",
      "Algeria Belgium                   0.000000  \n",
      "        England                   0.428571  \n",
      "        Germany                   0.071429  \n",
      "        Korea Republic            0.285714  \n",
      "        Russia                    0.666667  \n"
     ]
    }
   ],
   "source": [
    "base_df = base_df.join([team_wp,team_wp2,team_tp,team_tp2])\n",
    "\n",
    "base_df['Team0_Win%_Last2WC'] = np.where(base_df['Team0_Win%_Last2WC'].isnull(), base_df['Team0_Win%_Overall'],base_df['Team0_Win%_Last2WC'])\n",
    "\n",
    "base_df['Team1_Win%_Last2WC'] = np.where(base_df['Team1_Win%_Last2WC'].isnull(), base_df['Team1_Win%_Overall'],base_df['Team1_Win%_Last2WC'])\n",
    "\n",
    "base_df['Team0_Tie%_Last2WC'] = np.where(base_df['Team0_Tie%_Last2WC'].isnull(), base_df['Team0_Tie%_Overall'],base_df['Team0_Tie%_Last2WC'])\n",
    "\n",
    "base_df['Team1_Tie%_Last2WC'] = np.where(base_df['Team1_Tie%_Last2WC'].isnull(), base_df['Team1_Tie%_Overall'],base_df['Team1_Tie%_Last2WC'])\n",
    "\n",
    "print(base_df.head())"
   ]
  },
  {
   "cell_type": "markdown",
   "metadata": {},
   "source": [
    "# MODEL"
   ]
  },
  {
   "cell_type": "code",
   "execution_count": 335,
   "metadata": {},
   "outputs": [
    {
     "name": "stdout",
     "output_type": "stream",
     "text": [
      "                        Team0_Win%_Overall  Team1_Win%_Overall  \\\n",
      "Team0   Team1                                                    \n",
      "Algeria Belgium                   0.142857            0.555556   \n",
      "        England                   0.142857            0.352941   \n",
      "        Germany                   0.142857            0.750000   \n",
      "        Korea Republic            0.142857            0.294118   \n",
      "        Russia                    0.142857            0.166667   \n",
      "\n",
      "                        Team0_Win%_InMatchUp  Team1_Win%_InMatchUp  \\\n",
      "Team0   Team1                                                        \n",
      "Algeria Belgium                          0.0                   1.0   \n",
      "        England                          0.0                   0.0   \n",
      "        Germany                          0.0                   1.0   \n",
      "        Korea Republic                   1.0                   0.0   \n",
      "        Russia                           0.0                   0.0   \n",
      "\n",
      "                        BothTeams_Tie%_InMatchUp  Team0_Tie%_Overall  \\\n",
      "Team0   Team1                                                          \n",
      "Algeria Belgium                              0.0            0.285714   \n",
      "        England                              1.0            0.285714   \n",
      "        Germany                              0.0            0.285714   \n",
      "        Korea Republic                       0.0            0.285714   \n",
      "        Russia                               1.0            0.285714   \n",
      "\n",
      "                        Team1_Tie%_Overall  Team0_Win%_Last2WC  \\\n",
      "Team0   Team1                                                    \n",
      "Algeria Belgium                   0.222222            0.142857   \n",
      "        England                   0.411765            0.142857   \n",
      "        Germany                   0.107143            0.142857   \n",
      "        Korea Republic            0.294118            0.142857   \n",
      "        Russia                    0.333333            0.142857   \n",
      "\n",
      "                        Team1_Win%_Last2WC  Team0_Tie%_Last2WC  \\\n",
      "Team0   Team1                                                    \n",
      "Algeria Belgium                   0.800000            0.285714   \n",
      "        England                   0.142857            0.285714   \n",
      "        Germany                   0.785714            0.285714   \n",
      "        Korea Republic            0.142857            0.285714   \n",
      "        Russia                    0.000000            0.285714   \n",
      "\n",
      "                        Team1_Tie%_Last2WC  \n",
      "Team0   Team1                               \n",
      "Algeria Belgium                   0.000000  \n",
      "        England                   0.428571  \n",
      "        Germany                   0.071429  \n",
      "        Korea Republic            0.285714  \n",
      "        Russia                    0.666667  \n"
     ]
    }
   ],
   "source": [
    "x = base_df.drop('Winning Team',axis=1)\n",
    "\n",
    "print(x.head())"
   ]
  },
  {
   "cell_type": "code",
   "execution_count": 336,
   "metadata": {},
   "outputs": [
    {
     "name": "stdout",
     "output_type": "stream",
     "text": [
      "Team0    Team1         \n",
      "Algeria  Belgium           1\n",
      "         England           2\n",
      "         Germany           1\n",
      "         Korea Republic    0\n",
      "         Russia            2\n",
      "Name: Winning Team, dtype: int64\n"
     ]
    }
   ],
   "source": [
    "y = base_df['Winning Team']\n",
    "\n",
    "print(y.head())"
   ]
  },
  {
   "cell_type": "code",
   "execution_count": 337,
   "metadata": {},
   "outputs": [
    {
     "name": "stdout",
     "output_type": "stream",
     "text": [
      "1    78\n",
      "0    78\n",
      "2    48\n",
      "Name: Winning Team, dtype: int64\n",
      "1    20\n",
      "0    20\n",
      "2    12\n",
      "Name: Winning Team, dtype: int64\n"
     ]
    }
   ],
   "source": [
    "x_train,x_test,y_train,y_test = train_test_split(x,y,test_size=0.2,random_state=21,stratify=y)\n",
    "\n",
    "print(y_train.value_counts())\n",
    "\n",
    "print(y_test.value_counts())"
   ]
  },
  {
   "cell_type": "code",
   "execution_count": 338,
   "metadata": {},
   "outputs": [
    {
     "name": "stdout",
     "output_type": "stream",
     "text": [
      "0.9412307692307692\n"
     ]
    }
   ],
   "source": [
    "rf = RandomForestClassifier(max_depth=3,n_estimators=250)\n",
    "\n",
    "cv_scores_rf = cross_val_score(rf,x,y,cv=5)\n",
    "\n",
    "mean_cv_scores_rf = np.mean(cv_scores_rf)\n",
    "\n",
    "print(mean_cv_scores_rf)"
   ]
  },
  {
   "cell_type": "code",
   "execution_count": 339,
   "metadata": {},
   "outputs": [
    {
     "name": "stdout",
     "output_type": "stream",
     "text": [
      "[1 1 2 1 0 1 0 2 1 0 1 1 1 0 2 1 1 1 0 0 2 2 0 2 0 0 2 2 0 1 2 1 0 1 1 0 0\n",
      " 2 0 2 1 1 0 0 2 2 1 1 2 0 1 0]\n"
     ]
    }
   ],
   "source": [
    "rf = rf.fit(x_train,y_train)\n",
    "\n",
    "y_pred_rf = rf.predict(x_test)\n",
    "\n",
    "print(y_pred_rf)"
   ]
  },
  {
   "cell_type": "code",
   "execution_count": 340,
   "metadata": {},
   "outputs": [
    {
     "name": "stdout",
     "output_type": "stream",
     "text": [
      "              precision    recall  f1-score   support\n",
      "\n",
      "           0       1.00      0.90      0.95        20\n",
      "           1       1.00      1.00      1.00        20\n",
      "           2       0.86      1.00      0.92        12\n",
      "\n",
      "   micro avg       0.96      0.96      0.96        52\n",
      "   macro avg       0.95      0.97      0.96        52\n",
      "weighted avg       0.97      0.96      0.96        52\n",
      "\n"
     ]
    }
   ],
   "source": [
    "cr_rf = classification_report(y_test,y_pred_rf)\n",
    "\n",
    "print(cr_rf)"
   ]
  },
  {
   "cell_type": "code",
   "execution_count": 341,
   "metadata": {},
   "outputs": [
    {
     "name": "stdout",
     "output_type": "stream",
     "text": [
      "          0         1         2\n",
      "0  0.032777  0.913165  0.054058\n",
      "1  0.133131  0.809830  0.057038\n",
      "2  0.083043  0.068450  0.848507\n",
      "3  0.036085  0.921994  0.041920\n",
      "4  0.934753  0.036535  0.028712\n"
     ]
    }
   ],
   "source": [
    "y_pred_proba_rf = rf.predict_proba(x_test)\n",
    "\n",
    "y_pred_proba_rf_df = pd.DataFrame(y_pred_proba_rf)\n",
    "\n",
    "print(y_pred_proba_rf_df.head())"
   ]
  },
  {
   "cell_type": "code",
   "execution_count": null,
   "metadata": {},
   "outputs": [],
   "source": []
  },
  {
   "cell_type": "code",
   "execution_count": 342,
   "metadata": {},
   "outputs": [
    {
     "name": "stdout",
     "output_type": "stream",
     "text": [
      "0.9532307692307691\n"
     ]
    }
   ],
   "source": [
    "logreg = LogisticRegression(multi_class='multinomial',solver='saga')\n",
    "\n",
    "cv_scores_logreg = cross_val_score(logreg,x,y,cv=5)\n",
    "\n",
    "mean_cv_scores_logreg = np.mean(cv_scores_logreg)\n",
    "\n",
    "print(mean_cv_scores_logreg)"
   ]
  },
  {
   "cell_type": "code",
   "execution_count": 343,
   "metadata": {},
   "outputs": [
    {
     "name": "stdout",
     "output_type": "stream",
     "text": [
      "[1 1 2 1 0 1 0 2 1 0 1 1 1 0 2 1 1 1 0 0 2 2 0 2 0 0 2 2 0 1 2 1 0 1 1 0 0\n",
      " 0 0 2 1 1 0 0 2 2 1 1 2 0 1 0]\n"
     ]
    }
   ],
   "source": [
    "logreg = logreg.fit(x_train,y_train)\n",
    "\n",
    "y_pred_logreg = logreg.predict(x_test)\n",
    "\n",
    "print(y_pred_logreg)"
   ]
  },
  {
   "cell_type": "code",
   "execution_count": 344,
   "metadata": {},
   "outputs": [
    {
     "name": "stdout",
     "output_type": "stream",
     "text": [
      "              precision    recall  f1-score   support\n",
      "\n",
      "           0       1.00      0.95      0.97        20\n",
      "           1       1.00      1.00      1.00        20\n",
      "           2       0.92      1.00      0.96        12\n",
      "\n",
      "   micro avg       0.98      0.98      0.98        52\n",
      "   macro avg       0.97      0.98      0.98        52\n",
      "weighted avg       0.98      0.98      0.98        52\n",
      "\n"
     ]
    }
   ],
   "source": [
    "cr_logreg = classification_report(y_test,y_pred_logreg)\n",
    "\n",
    "print(cr_logreg)"
   ]
  },
  {
   "cell_type": "code",
   "execution_count": 345,
   "metadata": {},
   "outputs": [
    {
     "name": "stdout",
     "output_type": "stream",
     "text": [
      "          0         1         2\n",
      "0  0.015277  0.964491  0.020232\n",
      "1  0.029207  0.942116  0.028677\n",
      "2  0.012164  0.024869  0.962967\n",
      "3  0.014003  0.968431  0.017566\n",
      "4  0.964827  0.016111  0.019062\n"
     ]
    }
   ],
   "source": [
    "y_pred_proba_logreg = logreg.predict_proba(x_test)\n",
    "\n",
    "y_pred_proba_logreg_df = pd.DataFrame(y_pred_proba_logreg)\n",
    "\n",
    "print(y_pred_proba_logreg_df.head())"
   ]
  },
  {
   "cell_type": "code",
   "execution_count": 346,
   "metadata": {},
   "outputs": [
    {
     "name": "stdout",
     "output_type": "stream",
     "text": [
      "0.9412307692307692\n"
     ]
    }
   ],
   "source": [
    "xgb = XGBClassifier(max_depth=3,n_estimators=250,learning_rate=0.1)\n",
    "\n",
    "cv_scores_xgb = cross_val_score(xgb,x,y,cv=5)\n",
    "\n",
    "mean_cv_scores_xgb = np.mean(cv_scores_xgb)\n",
    "\n",
    "print(mean_cv_scores_xgb)"
   ]
  },
  {
   "cell_type": "code",
   "execution_count": 347,
   "metadata": {},
   "outputs": [
    {
     "name": "stdout",
     "output_type": "stream",
     "text": [
      "[1 1 2 1 0 1 0 2 1 0 1 1 1 0 2 1 1 1 0 0 2 2 0 2 0 0 2 2 0 1 2 1 0 1 1 0 0\n",
      " 2 0 2 1 1 0 0 2 2 1 1 2 0 1 0]\n"
     ]
    }
   ],
   "source": [
    "xgb = xgb.fit(x_train,y_train)\n",
    "\n",
    "y_pred_xgb = xgb.predict(x_test)\n",
    "\n",
    "print(y_pred_xgb)"
   ]
  },
  {
   "cell_type": "code",
   "execution_count": 348,
   "metadata": {},
   "outputs": [
    {
     "name": "stdout",
     "output_type": "stream",
     "text": [
      "              precision    recall  f1-score   support\n",
      "\n",
      "           0       1.00      0.90      0.95        20\n",
      "           1       1.00      1.00      1.00        20\n",
      "           2       0.86      1.00      0.92        12\n",
      "\n",
      "   micro avg       0.96      0.96      0.96        52\n",
      "   macro avg       0.95      0.97      0.96        52\n",
      "weighted avg       0.97      0.96      0.96        52\n",
      "\n"
     ]
    }
   ],
   "source": [
    "cr_xgb = classification_report(y_test,y_pred_xgb)\n",
    "\n",
    "print(cr_xgb)"
   ]
  },
  {
   "cell_type": "code",
   "execution_count": 349,
   "metadata": {},
   "outputs": [
    {
     "name": "stdout",
     "output_type": "stream",
     "text": [
      "          0         1         2\n",
      "0  0.000378  0.999121  0.000501\n",
      "1  0.001977  0.997050  0.000973\n",
      "2  0.000579  0.000594  0.998827\n",
      "3  0.000462  0.999016  0.000522\n",
      "4  0.998922  0.000642  0.000437\n"
     ]
    }
   ],
   "source": [
    "y_pred_proba_xgb = xgb.predict_proba(x_test)\n",
    "\n",
    "y_pred_proba_xgb_df = pd.DataFrame(y_pred_proba_xgb)\n",
    "\n",
    "print(y_pred_proba_xgb_df.head())"
   ]
  },
  {
   "attachments": {},
   "cell_type": "markdown",
   "metadata": {},
   "source": [
    "After performing these three machine learning algorithms, I examined the results of each model and experimented applying different weights to each of them. I then ensembled the results using the different weight combinations to see if I can get an even better accuracy. To do this, I multiplied the weights to the predicted probabilities for each class (0,1,2) generated by each of the machine learning models on the test set.\n",
    "\n",
    "After this, I put the ensemble results (predicted probabilities of the models with the assigned weights) into a Pandas data frame that assigned a column for the predicted probabilities of each class label. "
   ]
  },
  {
   "cell_type": "code",
   "execution_count": 350,
   "metadata": {},
   "outputs": [
    {
     "name": "stdout",
     "output_type": "stream",
     "text": [
      "          0         1         2\n",
      "0  0.015667  0.961986  0.022346\n",
      "1  0.040711  0.930513  0.028776\n",
      "2  0.021058  0.027765  0.951177\n",
      "3  0.015284  0.966053  0.018663\n",
      "4  0.965430  0.016855  0.017716\n"
     ]
    }
   ],
   "source": [
    "y_test = y_test.reset_index()\n",
    "\n",
    "ensemble_output= 0.15 * y_pred_proba_xgb + 0.7 * y_pred_proba_logreg + 0.15 * y_pred_proba_rf\n",
    "\n",
    "new_df = pd.DataFrame(ensemble_output)\n",
    "\n",
    "print(new_df.head())"
   ]
  },
  {
   "cell_type": "code",
   "execution_count": 351,
   "metadata": {},
   "outputs": [
    {
     "name": "stdout",
     "output_type": "stream",
     "text": [
      "                                     Winning Team         0         1  \\\n",
      "Team0       Team1                                                       \n",
      "Australia   Italy                               1  0.015667  0.961986   \n",
      "Netherlands Portugal                            1  0.040711  0.930513   \n",
      "Cameroon    rn\">Republic of Ireland             2  0.021058  0.027765   \n",
      "Portugal    Spain                               1  0.015284  0.966053   \n",
      "Germany     Uruguay                             0  0.965430  0.016855   \n",
      "\n",
      "                                            2  \n",
      "Team0       Team1                              \n",
      "Australia   Italy                    0.022346  \n",
      "Netherlands Portugal                 0.028776  \n",
      "Cameroon    rn\">Republic of Ireland  0.951177  \n",
      "Portugal    Spain                    0.018663  \n",
      "Germany     Uruguay                  0.017716  \n"
     ]
    }
   ],
   "source": [
    "joined_df = pd.concat([y_test,new_df],axis=1)\n",
    "\n",
    "joined_df = joined_df.set_index(['Team0','Team1'])\n",
    "\n",
    "print(joined_df.head())"
   ]
  },
  {
   "cell_type": "markdown",
   "metadata": {},
   "source": [
    "The class label with the highest probability is essentially the prediction of the model for that particular record/sample. Thus, I took the class label that had the highest prediction probability for each record in the ensembled results. "
   ]
  },
  {
   "cell_type": "code",
   "execution_count": 352,
   "metadata": {},
   "outputs": [
    {
     "name": "stdout",
     "output_type": "stream",
     "text": [
      "Team0        Team1                  \n",
      "Australia    Italy                      1\n",
      "Netherlands  Portugal                   1\n",
      "Cameroon     rn\">Republic of Ireland    2\n",
      "Portugal     Spain                      1\n",
      "Germany      Uruguay                    0\n",
      "Name: label_highestprob, dtype: int64\n"
     ]
    }
   ],
   "source": [
    "joined_df['label_highestprob'] = joined_df[[0,1,2]].idxmax(axis=1)\n",
    "\n",
    "print(joined_df['label_highestprob'].head())"
   ]
  },
  {
   "cell_type": "markdown",
   "metadata": {},
   "source": [
    "Compare these predictions to the y test set ground truth and obtained a classification report. "
   ]
  },
  {
   "cell_type": "code",
   "execution_count": 353,
   "metadata": {},
   "outputs": [
    {
     "name": "stdout",
     "output_type": "stream",
     "text": [
      "              precision    recall  f1-score   support\n",
      "\n",
      "           0       1.00      0.90      0.95        20\n",
      "           1       1.00      1.00      1.00        20\n",
      "           2       0.86      1.00      0.92        12\n",
      "\n",
      "   micro avg       0.96      0.96      0.96        52\n",
      "   macro avg       0.95      0.97      0.96        52\n",
      "weighted avg       0.97      0.96      0.96        52\n",
      "\n"
     ]
    }
   ],
   "source": [
    "cr_ensemble = classification_report(joined_df['Winning Team'],joined_df['label_highestprob'])\n",
    "\n",
    "print(cr_ensemble)"
   ]
  },
  {
   "cell_type": "markdown",
   "metadata": {},
   "source": [
    "I repeated these steps with multiple different weight combinations for each of the three models. However, the highest accuracy I could achieve was 96 percent with a .7 weight on logistic regression and .15 weight on both the XGBoost Classifier and Random Forest Classifier. Other weight combinations produced a 96 percent accuracy as well however that was the highest accuracy I could achieve. The weighted ensemble model essentially ended up duplicating the results that the XGBoost Classifier and Random Forest Classifier gave individually. This was due to the lack of samples/matches to work with overall.\n",
    "\n",
    "This was also less than the 98 percent accuracy I obtained using soft-max logistic regression by itself. Thus, using soft-max/multinomial logistic regression alone proved to be a best option rather than using any combination of weights for each of the models. "
   ]
  },
  {
   "cell_type": "code",
   "execution_count": null,
   "metadata": {},
   "outputs": [],
   "source": []
  }
 ],
 "metadata": {
  "kernelspec": {
   "display_name": "Python 3",
   "language": "python",
   "name": "python3"
  },
  "language_info": {
   "codemirror_mode": {
    "name": "ipython",
    "version": 3
   },
   "file_extension": ".py",
   "mimetype": "text/x-python",
   "name": "python",
   "nbconvert_exporter": "python",
   "pygments_lexer": "ipython3",
   "version": "3.7.1"
  }
 },
 "nbformat": 4,
 "nbformat_minor": 2
}
