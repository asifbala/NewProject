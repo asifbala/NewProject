{
 "cells": [
  {
   "cell_type": "markdown",
   "metadata": {},
   "source": [
    "Import Modules"
   ]
  },
  {
   "cell_type": "code",
   "execution_count": 1,
   "metadata": {},
   "outputs": [],
   "source": [
    "import pandas as pd\n",
    "import numpy as np\n",
    "import matplotlib.pyplot as plt\n",
    "import seaborn as sns\n",
    "from sklearn.linear_model import SGDClassifier\n",
    "from sklearn.ensemble import RandomForestClassifier\n",
    "from sklearn.ensemble import GradientBoostingClassifier \n",
    "from sklearn.ensemble import VotingClassifier\n",
    "from sklearn.pipeline import make_pipeline\n",
    "from sklearn.model_selection import train_test_split\n",
    "from sklearn.metrics import classification_report\n",
    "from sklearn.metrics import accuracy_score\n",
    "from sklearn.model_selection import cross_val_score\n",
    "from sklearn.model_selection import GridSearchCV\n",
    "from xgboost import XGBClassifier\n",
    "from scipy.stats import pearsonr\n",
    "from sklearn.linear_model import LogisticRegression"
   ]
  },
  {
   "cell_type": "markdown",
   "metadata": {},
   "source": [
    "Data Importing and Cleaning"
   ]
  },
  {
   "cell_type": "code",
   "execution_count": 2,
   "metadata": {},
   "outputs": [],
   "source": [
    "df_timestamp = pd.read_csv('/Users/asifbala/Springboard-Data-Science/data_science_take_home_challenge_relax_inc/takehome_user_engagement.csv',encoding='latin-1')\n",
    "df_users = pd.read_csv('/Users/asifbala/Springboard-Data-Science/data_science_take_home_challenge_relax_inc/takehome_users.csv', encoding='latin-1')"
   ]
  },
  {
   "cell_type": "markdown",
   "metadata": {},
   "source": [
    "Create Binary Target Variable 'Adopted' to check for user adoption"
   ]
  },
  {
   "cell_type": "code",
   "execution_count": 3,
   "metadata": {},
   "outputs": [
    {
     "name": "stdout",
     "output_type": "stream",
     "text": [
      "user_id   \n",
      "1        0     NaN\n",
      "2        1     NaN\n",
      "         2     NaN\n",
      "         3    24.0\n",
      "         4    26.0\n",
      "Name: time_stamp, dtype: float64\n",
      "Int64Index([8192,    2, 8196, 8201,   10,   20, 8214, 8217, 8220, 8221,\n",
      "            ...\n",
      "            8130, 8134, 8137, 8149, 8156, 8159, 8161, 8166, 8169, 8191],\n",
      "           dtype='int64', length=1656)\n",
      "0    0\n",
      "1    1\n",
      "2    0\n",
      "3    0\n",
      "4    0\n",
      "Name: adopted, dtype: int64\n",
      "   object_id        creation_time               name  \\\n",
      "0          1  2014-04-22 03:53:30     Clausen August   \n",
      "1          2  2013-11-15 03:45:04      Poole Matthew   \n",
      "2          3  2013-03-19 23:14:52  Bottrill Mitchell   \n",
      "3          4  2013-05-21 08:09:28    Clausen Nicklas   \n",
      "4          5  2013-01-17 10:14:20          Raw Grace   \n",
      "\n",
      "                        email creation_source  last_session_creation_time  \\\n",
      "0    AugustCClausen@yahoo.com    GUEST_INVITE                1.398139e+09   \n",
      "1      MatthewPoole@gustr.com      ORG_INVITE                1.396238e+09   \n",
      "2  MitchellBottrill@gustr.com      ORG_INVITE                1.363735e+09   \n",
      "3   NicklasSClausen@yahoo.com    GUEST_INVITE                1.369210e+09   \n",
      "4          GraceRaw@yahoo.com    GUEST_INVITE                1.358850e+09   \n",
      "\n",
      "   opted_in_to_mailing_list  enabled_for_marketing_drip  org_id  \\\n",
      "0                         1                           0      11   \n",
      "1                         0                           0       1   \n",
      "2                         0                           0      94   \n",
      "3                         0                           0       1   \n",
      "4                         0                           0     193   \n",
      "\n",
      "   invited_by_user_id  adopted  \n",
      "0             10803.0        0  \n",
      "1               316.0        1  \n",
      "2              1525.0        0  \n",
      "3              5151.0        0  \n",
      "4              5240.0        0  \n"
     ]
    }
   ],
   "source": [
    "date_list = list(df_timestamp['time_stamp'])\n",
    "\n",
    "date = pd.to_datetime(date_list)\n",
    "\n",
    "df_timestamp['time_stamp'] = list(date)\n",
    "\n",
    "df_timestamp['time_stamp'] = df_timestamp['time_stamp'].dt.floor('d').astype(np.int64)\n",
    "\n",
    "df_timestamp = df_timestamp.sort_values(['user_id', 'time_stamp']).drop_duplicates()\n",
    "\n",
    "rolling_timestamp = df_timestamp.groupby('user_id')['time_stamp'].rolling(window=3)\n",
    "\n",
    "days_rolling_timestamp = pd.to_timedelta((rolling_timestamp.max()- rolling_timestamp.min())).dt.days\n",
    "\n",
    "print(days_rolling_timestamp.head())\n",
    "\n",
    "adopted_users = days_rolling_timestamp[days_rolling_timestamp < 8].index.get_level_values('user_id').tolist()\n",
    "\n",
    "adopted_users_set = set(adopted_users)\n",
    "\n",
    "adopted_users_list = list(adopted_users_set)\n",
    "\n",
    "new_df = pd.DataFrame({'range': range(len(adopted_users_list))}, index = adopted_users_list)\n",
    "\n",
    "print(new_df.index)\n",
    "\n",
    "df_users['adopted'] = np.where(df_users['object_id'].isin(new_df.index),1,0)\n",
    "\n",
    "print(df_users['adopted'].head())\n",
    "\n",
    "print(df_users.head())"
   ]
  },
  {
   "cell_type": "markdown",
   "metadata": {},
   "source": [
    "Check for Class Imbalance"
   ]
  },
  {
   "cell_type": "code",
   "execution_count": 4,
   "metadata": {},
   "outputs": [
    {
     "name": "stdout",
     "output_type": "stream",
     "text": [
      "0    10344\n",
      "1     1656\n",
      "Name: adopted, dtype: int64\n"
     ]
    }
   ],
   "source": [
    "class_counts = df_users['adopted'].value_counts()\n",
    "\n",
    "print(class_counts)"
   ]
  },
  {
   "cell_type": "markdown",
   "metadata": {},
   "source": [
    "Fix Class Imbalance"
   ]
  },
  {
   "cell_type": "code",
   "execution_count": 5,
   "metadata": {},
   "outputs": [
    {
     "name": "stdout",
     "output_type": "stream",
     "text": [
      "1    1656\n",
      "0    1656\n",
      "Name: adopted, dtype: int64\n"
     ]
    },
    {
     "data": {
      "image/png": "[encoded data removed]",
      "text/plain": [
       "<Figure size 432x288 with 1 Axes>"
      ]
     },
     "metadata": {
      "needs_background": "light"
     },
     "output_type": "display_data"
    },
    {
     "name": "stdout",
     "output_type": "stream",
     "text": [
      "    object_id        creation_time            name  \\\n",
      "1           2  2013-11-15 03:45:04   Poole Matthew   \n",
      "9          10  2013-01-16 22:08:03    Santos Carla   \n",
      "19         20  2014-03-06 11:46:38   Helms Mikayla   \n",
      "32         33  2014-03-11 06:29:09     Araujo José   \n",
      "41         42  2012-11-11 19:05:07  Pinto Giovanna   \n",
      "\n",
      "                            email creation_source  last_session_creation_time  \\\n",
      "1          MatthewPoole@gustr.com      ORG_INVITE                1.396238e+09   \n",
      "9   CarlaFerreiraSantos@gustr.com      ORG_INVITE                1.401833e+09   \n",
      "19             lqyvjilf@uhzdq.com          SIGNUP                1.401364e+09   \n",
      "32     JoseMartinsAraujo@cuvox.de    GUEST_INVITE                1.401518e+09   \n",
      "41    GiovannaCunhaPinto@cuvox.de          SIGNUP                1.401045e+09   \n",
      "\n",
      "    opted_in_to_mailing_list  enabled_for_marketing_drip  org_id  \\\n",
      "1                          0                           0       1   \n",
      "9                          1                           1     318   \n",
      "19                         0                           0      58   \n",
      "32                         0                           0     401   \n",
      "41                         1                           0     235   \n",
      "\n",
      "    invited_by_user_id  adopted  \n",
      "1                316.0        1  \n",
      "9               4143.0        1  \n",
      "19                 NaN        1  \n",
      "32                79.0        1  \n",
      "41                 NaN        1  \n"
     ]
    }
   ],
   "source": [
    "#Find Number of samples which are adopted\n",
    "no_adopted = len(df_users[df_users['adopted'] == 1])\n",
    "\n",
    "#Get indices of non adopted samples\n",
    "non_adopted_indices = df_users[df_users.adopted == 0].index\n",
    "\n",
    "#Random sample non adopted indices\n",
    "random_indices = np.random.choice(non_adopted_indices,no_adopted, replace=False)\n",
    "\n",
    "#Find the indices of adopted samples\n",
    "adopted_indices = df_users[df_users.adopted == 1].index\n",
    "\n",
    "#Concat adopted indices with sample non-adopted ones\n",
    "under_sample_indices = np.concatenate([adopted_indices,random_indices])\n",
    "\n",
    "#Get Balanced Dataframe\n",
    "under_sample = df_users.loc[under_sample_indices]\n",
    "\n",
    "class_counts = under_sample['adopted'].value_counts()\n",
    "\n",
    "print(class_counts)\n",
    "\n",
    "class_counts.plot(kind='bar')\n",
    "\n",
    "plt.show()\n",
    "\n",
    "print(under_sample.head())"
   ]
  },
  {
   "cell_type": "markdown",
   "metadata": {},
   "source": [
    "# VISUAL EDA"
   ]
  },
  {
   "cell_type": "code",
   "execution_count": 6,
   "metadata": {},
   "outputs": [
    {
     "name": "stdout",
     "output_type": "stream",
     "text": [
      "adopted               0    1\n",
      "creation_source             \n",
      "GUEST_INVITE        273  369\n",
      "ORG_INVITE          604  574\n",
      "PERSONAL_PROJECTS   335  172\n",
      "SIGNUP              274  302\n",
      "SIGNUP_GOOGLE_AUTH  170  239\n"
     ]
    },
    {
     "data": {
      "image/png": "[encoded data removed]",
      "text/plain": [
       "<Figure size 432x288 with 1 Axes>"
      ]
     },
     "metadata": {
      "needs_background": "light"
     },
     "output_type": "display_data"
    }
   ],
   "source": [
    "creation_source_adopted = pd.crosstab(under_sample['creation_source'],under_sample['adopted'])\n",
    "\n",
    "print(creation_source_adopted)\n",
    "\n",
    "creation_source_adopted.plot(kind='bar')\n",
    "\n",
    "plt.show()"
   ]
  },
  {
   "cell_type": "code",
   "execution_count": 7,
   "metadata": {},
   "outputs": [
    {
     "name": "stdout",
     "output_type": "stream",
     "text": [
      "<class 'pandas.core.frame.DataFrame'>\n",
      "adopted   0   1\n",
      "org_id         \n",
      "0        45  12\n",
      "1        36  16\n",
      "2        30  15\n",
      "3        27  14\n",
      "4        20  17\n",
      "5        15  12\n",
      "6        32  11\n",
      "7        16  16\n",
      "8        11  10\n",
      "9        20  14\n",
      "10       22  10\n",
      "11        8   8\n",
      "12       12   6\n",
      "13        8  14\n",
      "14       12   5\n",
      "15       10   8\n",
      "16        8   8\n",
      "17       10   5\n",
      "18        9   7\n",
      "19        9   7\n",
      "20       12  10\n",
      "21        6   4\n",
      "22       11   4\n",
      "23       10   5\n",
      "24        9  10\n",
      "25       10   8\n",
      "26        4   2\n",
      "27        7   6\n",
      "28       12   5\n",
      "29        9   3\n"
     ]
    }
   ],
   "source": [
    "org_id_adopted = pd.crosstab(under_sample['org_id'],under_sample['adopted'])\n",
    "\n",
    "print(type(org_id_adopted))\n",
    "\n",
    "print(org_id_adopted.head(30))\n",
    "\n",
    "#There isnt any significant difference between adopted and not adopted for the many organizations. "
   ]
  },
  {
   "cell_type": "code",
   "execution_count": 8,
   "metadata": {},
   "outputs": [
    {
     "name": "stdout",
     "output_type": "stream",
     "text": [
      "adopted                      0     1\n",
      "opted_in_to_mailing_list            \n",
      "0                         1240  1227\n",
      "1                          416   429\n"
     ]
    },
    {
     "data": {
      "image/png": "[encoded data removed]",
      "text/plain": [
       "<Figure size 432x288 with 1 Axes>"
      ]
     },
     "metadata": {
      "needs_background": "light"
     },
     "output_type": "display_data"
    }
   ],
   "source": [
    "opted_mailing_list_adopted = pd.crosstab(under_sample['opted_in_to_mailing_list'],under_sample['adopted'])\n",
    "\n",
    "print(opted_mailing_list_adopted)\n",
    "\n",
    "opted_mailing_list_adopted.plot(kind='bar')\n",
    "\n",
    "plt.show()"
   ]
  },
  {
   "cell_type": "code",
   "execution_count": 9,
   "metadata": {},
   "outputs": [
    {
     "name": "stdout",
     "output_type": "stream",
     "text": [
      "adopted                        0     1\n",
      "enabled_for_marketing_drip            \n",
      "0                           1429  1399\n",
      "1                            227   257\n"
     ]
    },
    {
     "data": {
      "image/png": "[encoded data removed]",
      "text/plain": [
       "<Figure size 432x288 with 1 Axes>"
      ]
     },
     "metadata": {
      "needs_background": "light"
     },
     "output_type": "display_data"
    }
   ],
   "source": [
    "enabled_marketing_drip_adopted = pd.crosstab(under_sample['enabled_for_marketing_drip'],under_sample['adopted'])\n",
    "\n",
    "print(enabled_marketing_drip_adopted)\n",
    "\n",
    "enabled_marketing_drip_adopted.plot(kind='bar')\n",
    "\n",
    "plt.show()"
   ]
  },
  {
   "cell_type": "code",
   "execution_count": 10,
   "metadata": {},
   "outputs": [
    {
     "name": "stdout",
     "output_type": "stream",
     "text": [
      "adopted             0  1\n",
      "invited_by_user_id      \n",
      "23.0                1  0\n",
      "29.0                0  1\n",
      "37.0                1  0\n",
      "47.0                4  0\n",
      "49.0                0  1\n",
      "50.0                0  2\n",
      "69.0                1  0\n",
      "78.0                1  0\n",
      "79.0                0  1\n",
      "93.0                1  0\n"
     ]
    }
   ],
   "source": [
    "invited_by_user_id_adopted = pd.crosstab(under_sample['invited_by_user_id'],under_sample['adopted'])\n",
    "\n",
    "print(invited_by_user_id_adopted.head(10))"
   ]
  },
  {
   "cell_type": "markdown",
   "metadata": {},
   "source": [
    "Determined the effect of the the month of the user creation on being adopted/not adopted. Resampled creation time to monthly and determined the number of adopted/not adopted for each month."
   ]
  },
  {
   "cell_type": "code",
   "execution_count": 11,
   "metadata": {},
   "outputs": [
    {
     "name": "stdout",
     "output_type": "stream",
     "text": [
      "creation_time\n",
      "2012-05-31     2\n",
      "2012-06-30    73\n",
      "2012-07-31    60\n",
      "2012-08-31    68\n",
      "2012-09-30    68\n",
      "Freq: M, Name: adopted, dtype: int64\n",
      "creation_time\n",
      "2012-05-31     2\n",
      "2012-06-30    62\n",
      "2012-07-31    48\n",
      "2012-08-31    42\n",
      "2012-09-30    58\n",
      "Freq: M, Name: not_adopted, dtype: int64\n",
      "               adopted  not_adopted\n",
      "creation_time                      \n",
      "2012-05-31           2            2\n",
      "2012-06-30          73           62\n",
      "2012-07-31          60           48\n",
      "2012-08-31          68           42\n",
      "2012-09-30          68           58\n",
      "2012-10-31          69           60\n",
      "2012-11-30          65           57\n",
      "2012-12-31          63           45\n",
      "2013-01-31          58           54\n",
      "2013-02-28          72           50\n",
      "2013-03-31          69           65\n",
      "2013-04-30          70           58\n",
      "2013-05-31          60           54\n",
      "2013-06-30          80           57\n",
      "2013-07-31          63           66\n",
      "2013-08-31          77           65\n",
      "2013-09-30          74           70\n",
      "2013-10-31          93           67\n",
      "2013-11-30          86           85\n",
      "2013-12-31          73           79\n",
      "2014-01-31          92           71\n",
      "2014-02-28          65           77\n",
      "2014-03-31          95          119\n",
      "2014-04-30          45          106\n",
      "2014-05-31          16          139\n"
     ]
    },
    {
     "data": {
      "image/png": "[encoded data removed]",
      "text/plain": [
       "<Figure size 432x288 with 1 Axes>"
      ]
     },
     "metadata": {
      "needs_background": "light"
     },
     "output_type": "display_data"
    }
   ],
   "source": [
    "under_sample['creation_time'] = pd.to_datetime(under_sample['creation_time'])\n",
    "\n",
    "under_sample2 = under_sample.set_index('creation_time')\n",
    "\n",
    "under_sample_monthly_sum = under_sample2.resample('M').sum()\n",
    "\n",
    "adopted_monthly = under_sample_monthly_sum['adopted']\n",
    "\n",
    "print(adopted_monthly.head(5))\n",
    "\n",
    "under_sample_monthly_count = under_sample2.resample('M').count()\n",
    "\n",
    "total_monthly = under_sample_monthly_count['adopted']\n",
    "\n",
    "not_adopted_monthly = total_monthly - adopted_monthly\n",
    "\n",
    "not_adopted_monthly.name = 'not_adopted'\n",
    "\n",
    "print(not_adopted_monthly.head(5))\n",
    "\n",
    "monthly_dataset = pd.concat([adopted_monthly,not_adopted_monthly],axis=1)\n",
    "\n",
    "print(monthly_dataset)\n",
    "\n",
    "monthly_dataset.plot()\n",
    "\n",
    "plt.show()"
   ]
  },
  {
   "cell_type": "markdown",
   "metadata": {},
   "source": [
    "I would use the following features after preprocessing, creating the target variable, and EDA. These features have demonstrated a strong difference in results between adoped and non adopted users.\n",
    "\n",
    "Feature One:\n",
    "Whether user is in group Guest_invite or not.\n",
    "\n",
    "Feature Two:\n",
    "Whether user is in group personal projects or not.\n",
    "\n",
    "Feature Three:\n",
    "Whether user is in group SignUp_Google_auth or not.\n",
    "\n",
    "There were no other features that held a significant difference between adopted and not adopted users."
   ]
  },
  {
   "cell_type": "code",
   "execution_count": null,
   "metadata": {},
   "outputs": [],
   "source": []
  }
 ],
 "metadata": {
  "kernelspec": {
   "display_name": "Python 3",
   "language": "python",
   "name": "python3"
  },
  "language_info": {
   "codemirror_mode": {
    "name": "ipython",
    "version": 3
   },
   "file_extension": ".py",
   "mimetype": "text/x-python",
   "name": "python",
   "nbconvert_exporter": "python",
   "pygments_lexer": "ipython3",
   "version": "3.7.1"
  }
 },
 "nbformat": 4,
 "nbformat_minor": 2
}
