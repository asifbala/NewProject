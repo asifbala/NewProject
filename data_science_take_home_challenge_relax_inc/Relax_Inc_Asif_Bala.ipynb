{
 "cells": [
  {
   "cell_type": "markdown",
   "metadata": {},
   "source": [
    "Import Modules"
   ]
  },
  {
   "cell_type": "code",
   "execution_count": 1,
   "metadata": {},
   "outputs": [],
   "source": [
    "import pandas as pd\n",
    "import numpy as np\n",
    "import matplotlib.pyplot as plt\n",
    "from sklearn.model_selection import train_test_split\n",
    "from sklearn.metrics import classification_report\n",
    "from sklearn.model_selection import cross_val_score\n",
    "from sklearn.preprocessing import LabelEncoder\n",
    "import datetime\n",
    "import os\n",
    "os.environ['KMP_DUPLICATE_LIB_OK']='True'\n",
    "from xgboost import XGBClassifier"
   ]
  },
  {
   "cell_type": "markdown",
   "metadata": {},
   "source": [
    "Data Importing and Cleaning"
   ]
  },
  {
   "cell_type": "code",
   "execution_count": 2,
   "metadata": {},
   "outputs": [],
   "source": [
    "df_timestamp = pd.read_csv('/Users/asifbala/Springboard-Data-Science/data_science_take_home_challenge_relax_inc/takehome_user_engagement.csv',encoding='latin-1')\n",
    "df_users = pd.read_csv('/Users/asifbala/Springboard-Data-Science/data_science_take_home_challenge_relax_inc/takehome_users.csv', encoding='latin-1')"
   ]
  },
  {
   "cell_type": "markdown",
   "metadata": {},
   "source": [
    "Create Binary Target Variable 'Adopted' to check for user adoption"
   ]
  },
  {
   "cell_type": "code",
   "execution_count": 3,
   "metadata": {},
   "outputs": [
    {
     "name": "stdout",
     "output_type": "stream",
     "text": [
      "user_id   \n",
      "1        0     NaN\n",
      "2        1     NaN\n",
      "         2     NaN\n",
      "         3    24.0\n",
      "         4    26.0\n",
      "Name: time_stamp, dtype: float64\n",
      "Int64Index([8192,    2, 8196, 8201,   10,   20, 8214, 8217, 8220, 8221,\n",
      "            ...\n",
      "            8130, 8134, 8137, 8149, 8156, 8159, 8161, 8166, 8169, 8191],\n",
      "           dtype='int64', length=1656)\n",
      "0    0\n",
      "1    1\n",
      "2    0\n",
      "3    0\n",
      "4    0\n",
      "Name: adopted, dtype: int64\n",
      "   object_id        creation_time               name  \\\n",
      "0          1  2014-04-22 03:53:30     Clausen August   \n",
      "1          2  2013-11-15 03:45:04      Poole Matthew   \n",
      "2          3  2013-03-19 23:14:52  Bottrill Mitchell   \n",
      "3          4  2013-05-21 08:09:28    Clausen Nicklas   \n",
      "4          5  2013-01-17 10:14:20          Raw Grace   \n",
      "\n",
      "                        email creation_source  last_session_creation_time  \\\n",
      "0    AugustCClausen@yahoo.com    GUEST_INVITE                1.398139e+09   \n",
      "1      MatthewPoole@gustr.com      ORG_INVITE                1.396238e+09   \n",
      "2  MitchellBottrill@gustr.com      ORG_INVITE                1.363735e+09   \n",
      "3   NicklasSClausen@yahoo.com    GUEST_INVITE                1.369210e+09   \n",
      "4          GraceRaw@yahoo.com    GUEST_INVITE                1.358850e+09   \n",
      "\n",
      "   opted_in_to_mailing_list  enabled_for_marketing_drip  org_id  \\\n",
      "0                         1                           0      11   \n",
      "1                         0                           0       1   \n",
      "2                         0                           0      94   \n",
      "3                         0                           0       1   \n",
      "4                         0                           0     193   \n",
      "\n",
      "   invited_by_user_id  adopted  \n",
      "0             10803.0        0  \n",
      "1               316.0        1  \n",
      "2              1525.0        0  \n",
      "3              5151.0        0  \n",
      "4              5240.0        0  \n"
     ]
    }
   ],
   "source": [
    "date_list = list(df_timestamp['time_stamp'])\n",
    "\n",
    "date = pd.to_datetime(date_list)\n",
    "\n",
    "df_timestamp['time_stamp'] = list(date)\n",
    "\n",
    "df_timestamp['time_stamp'] = df_timestamp['time_stamp'].dt.floor('d').astype(np.int64)\n",
    "\n",
    "df_timestamp = df_timestamp.sort_values(['user_id', 'time_stamp']).drop_duplicates()\n",
    "\n",
    "rolling_timestamp = df_timestamp.groupby('user_id')['time_stamp'].rolling(window=3)\n",
    "\n",
    "days_rolling_timestamp = pd.to_timedelta((rolling_timestamp.max()- rolling_timestamp.min())).dt.days\n",
    "\n",
    "print(days_rolling_timestamp.head())\n",
    "\n",
    "adopted_users = days_rolling_timestamp[days_rolling_timestamp < 8].index.get_level_values('user_id').tolist()\n",
    "\n",
    "adopted_users_set = set(adopted_users)\n",
    "\n",
    "adopted_users_list = list(adopted_users_set)\n",
    "\n",
    "new_df = pd.DataFrame({'range': range(len(adopted_users_list))}, index = adopted_users_list)\n",
    "\n",
    "print(new_df.index)\n",
    "\n",
    "df_users['adopted'] = np.where(df_users['object_id'].isin(new_df.index),1,0)\n",
    "\n",
    "print(df_users['adopted'].head())\n",
    "\n",
    "print(df_users.head())"
   ]
  },
  {
   "cell_type": "markdown",
   "metadata": {},
   "source": [
    "Check for Class Imbalance"
   ]
  },
  {
   "cell_type": "code",
   "execution_count": 4,
   "metadata": {},
   "outputs": [
    {
     "name": "stdout",
     "output_type": "stream",
     "text": [
      "0    10344\n",
      "1     1656\n",
      "Name: adopted, dtype: int64\n"
     ]
    }
   ],
   "source": [
    "class_counts = df_users['adopted'].value_counts()\n",
    "\n",
    "print(class_counts)"
   ]
  },
  {
   "cell_type": "markdown",
   "metadata": {},
   "source": [
    "Fix Class Imbalance"
   ]
  },
  {
   "cell_type": "code",
   "execution_count": 5,
   "metadata": {},
   "outputs": [
    {
     "name": "stdout",
     "output_type": "stream",
     "text": [
      "1    1656\n",
      "0    1656\n",
      "Name: adopted, dtype: int64\n"
     ]
    },
    {
     "data": {
      "image/png": "[encoded data removed]",
      "text/plain": [
       "<Figure size 432x288 with 1 Axes>"
      ]
     },
     "metadata": {
      "needs_background": "light"
     },
     "output_type": "display_data"
    },
    {
     "name": "stdout",
     "output_type": "stream",
     "text": [
      "    object_id        creation_time            name  \\\n",
      "1           2  2013-11-15 03:45:04   Poole Matthew   \n",
      "9          10  2013-01-16 22:08:03    Santos Carla   \n",
      "19         20  2014-03-06 11:46:38   Helms Mikayla   \n",
      "32         33  2014-03-11 06:29:09     Araujo José   \n",
      "41         42  2012-11-11 19:05:07  Pinto Giovanna   \n",
      "\n",
      "                            email creation_source  last_session_creation_time  \\\n",
      "1          MatthewPoole@gustr.com      ORG_INVITE                1.396238e+09   \n",
      "9   CarlaFerreiraSantos@gustr.com      ORG_INVITE                1.401833e+09   \n",
      "19             lqyvjilf@uhzdq.com          SIGNUP                1.401364e+09   \n",
      "32     JoseMartinsAraujo@cuvox.de    GUEST_INVITE                1.401518e+09   \n",
      "41    GiovannaCunhaPinto@cuvox.de          SIGNUP                1.401045e+09   \n",
      "\n",
      "    opted_in_to_mailing_list  enabled_for_marketing_drip  org_id  \\\n",
      "1                          0                           0       1   \n",
      "9                          1                           1     318   \n",
      "19                         0                           0      58   \n",
      "32                         0                           0     401   \n",
      "41                         1                           0     235   \n",
      "\n",
      "    invited_by_user_id  adopted  \n",
      "1                316.0        1  \n",
      "9               4143.0        1  \n",
      "19                 NaN        1  \n",
      "32                79.0        1  \n",
      "41                 NaN        1  \n"
     ]
    }
   ],
   "source": [
    "#Find Number of samples which are adopted\n",
    "no_adopted = len(df_users[df_users['adopted'] == 1])\n",
    "\n",
    "#Get indices of non adopted samples\n",
    "non_adopted_indices = df_users[df_users.adopted == 0].index\n",
    "\n",
    "#Random sample non adopted indices\n",
    "random_indices = np.random.choice(non_adopted_indices,no_adopted, replace=False)\n",
    "\n",
    "#Find the indices of adopted samples\n",
    "adopted_indices = df_users[df_users.adopted == 1].index\n",
    "\n",
    "#Concat adopted indices with sample non-adopted ones\n",
    "under_sample_indices = np.concatenate([adopted_indices,random_indices])\n",
    "\n",
    "#Get Balanced Dataframe\n",
    "under_sample = df_users.loc[under_sample_indices]\n",
    "\n",
    "class_counts = under_sample['adopted'].value_counts()\n",
    "\n",
    "print(class_counts)\n",
    "\n",
    "class_counts.plot(kind='bar')\n",
    "\n",
    "plt.show()\n",
    "\n",
    "print(under_sample.head())"
   ]
  },
  {
   "cell_type": "markdown",
   "metadata": {},
   "source": [
    "# FEATURE ENGINEERING"
   ]
  },
  {
   "cell_type": "markdown",
   "metadata": {},
   "source": [
    "Create Time_Active Feature"
   ]
  },
  {
   "cell_type": "markdown",
   "metadata": {},
   "source": [
    "Important to use utcfromtimestamp and NOT fromtimestamp because we need to factor in timezones."
   ]
  },
  {
   "cell_type": "code",
   "execution_count": 6,
   "metadata": {},
   "outputs": [],
   "source": [
    "under_sample['creation_time'] = pd.to_datetime(under_sample['creation_time'])\n",
    "under_sample['last_session_creation_time'] = under_sample['last_session_creation_time'].map(lambda data: \n",
    "                                    datetime.datetime.utcfromtimestamp(int(data)).strftime('%Y-%m-%d %H:%M:%S'),na_action='ignore')"
   ]
  },
  {
   "cell_type": "code",
   "execution_count": 7,
   "metadata": {},
   "outputs": [
    {
     "name": "stdout",
     "output_type": "stream",
     "text": [
      "         creation_time last_session_creation_time\n",
      "1  2013-11-15 03:45:04        2014-03-31 03:45:04\n",
      "9  2013-01-16 22:08:03        2014-06-03 22:08:03\n",
      "19 2014-03-06 11:46:38        2014-05-29 11:46:38\n",
      "32 2014-03-11 06:29:09        2014-05-31 06:29:09\n",
      "41 2012-11-11 19:05:07        2014-05-25 19:05:07\n"
     ]
    }
   ],
   "source": [
    "print(under_sample[['creation_time','last_session_creation_time']].head())"
   ]
  },
  {
   "cell_type": "code",
   "execution_count": 8,
   "metadata": {},
   "outputs": [
    {
     "name": "stdout",
     "output_type": "stream",
     "text": [
      "1     11750400.0\n",
      "9     43459200.0\n",
      "19     7257600.0\n",
      "32     6998400.0\n",
      "41    48384000.0\n",
      "Name: time_active, dtype: float64\n"
     ]
    }
   ],
   "source": [
    "under_sample['last_session_creation_time'] = pd.to_datetime(under_sample['last_session_creation_time'])\n",
    "under_sample['time_active'] = under_sample['last_session_creation_time'] - under_sample['creation_time']\n",
    "under_sample['time_active'] = [x.total_seconds() for x in under_sample['time_active']]\n",
    "under_sample['time_active'] = under_sample['time_active'].fillna(0)\n",
    "print(under_sample['time_active'].head())"
   ]
  },
  {
   "cell_type": "markdown",
   "metadata": {},
   "source": [
    "Extract email domains as a feature."
   ]
  },
  {
   "cell_type": "code",
   "execution_count": 9,
   "metadata": {},
   "outputs": [
    {
     "name": "stdout",
     "output_type": "stream",
     "text": [
      "1        gustr.com\n",
      "9        gustr.com\n",
      "19    domain_other\n",
      "32        cuvox.de\n",
      "41        cuvox.de\n",
      "Name: email_domain, dtype: object\n"
     ]
    }
   ],
   "source": [
    "under_sample['email_domain'] = [x.split('@')[1] for x in under_sample.email]\n",
    "top_emails = under_sample.email_domain.value_counts().index[:6]\n",
    "under_sample['email_domain'] = [x if x in top_emails else 'domain_other' for x in under_sample.email_domain]\n",
    "print(under_sample['email_domain'].head())"
   ]
  },
  {
   "cell_type": "code",
   "execution_count": 10,
   "metadata": {},
   "outputs": [
    {
     "name": "stdout",
     "output_type": "stream",
     "text": [
      "1      316.0\n",
      "9     4143.0\n",
      "19       0.0\n",
      "32      79.0\n",
      "41       0.0\n",
      "Name: invited_by_user_id, dtype: float64\n"
     ]
    }
   ],
   "source": [
    "under_sample['invited_by_user_id'] = under_sample['invited_by_user_id'].fillna(0)\n",
    "print(under_sample['invited_by_user_id'].head())"
   ]
  },
  {
   "cell_type": "markdown",
   "metadata": {},
   "source": [
    "Convert categoricals to numeric."
   ]
  },
  {
   "cell_type": "code",
   "execution_count": 11,
   "metadata": {},
   "outputs": [
    {
     "name": "stdout",
     "output_type": "stream",
     "text": [
      "    object_id       creation_time            name  \\\n",
      "1           2 2013-11-15 03:45:04   Poole Matthew   \n",
      "9          10 2013-01-16 22:08:03    Santos Carla   \n",
      "19         20 2014-03-06 11:46:38   Helms Mikayla   \n",
      "32         33 2014-03-11 06:29:09     Araujo José   \n",
      "41         42 2012-11-11 19:05:07  Pinto Giovanna   \n",
      "\n",
      "                            email  creation_source last_session_creation_time  \\\n",
      "1          MatthewPoole@gustr.com                1        2014-03-31 03:45:04   \n",
      "9   CarlaFerreiraSantos@gustr.com                1        2014-06-03 22:08:03   \n",
      "19             lqyvjilf@uhzdq.com                3        2014-05-29 11:46:38   \n",
      "32     JoseMartinsAraujo@cuvox.de                0        2014-05-31 06:29:09   \n",
      "41    GiovannaCunhaPinto@cuvox.de                3        2014-05-25 19:05:07   \n",
      "\n",
      "    opted_in_to_mailing_list  enabled_for_marketing_drip  org_id  \\\n",
      "1                          0                           0       1   \n",
      "9                          1                           1     318   \n",
      "19                         0                           0      58   \n",
      "32                         0                           0     401   \n",
      "41                         1                           0     235   \n",
      "\n",
      "    invited_by_user_id  adopted  time_active  email_domain  \n",
      "1                316.0        1   11750400.0             3  \n",
      "9               4143.0        1   43459200.0             3  \n",
      "19                 0.0        1    7257600.0             1  \n",
      "32                79.0        1    6998400.0             0  \n",
      "41                 0.0        1   48384000.0             0  \n"
     ]
    }
   ],
   "source": [
    "le = LabelEncoder()\n",
    "\n",
    "creation_source_labels = le.fit_transform(under_sample['creation_source'])\n",
    "under_sample['creation_source'] = creation_source_labels\n",
    "\n",
    "email_domain_labels = le.fit_transform(under_sample['email_domain'])\n",
    "under_sample['email_domain'] = email_domain_labels\n",
    "\n",
    "print(under_sample.head())"
   ]
  },
  {
   "cell_type": "markdown",
   "metadata": {},
   "source": [
    "Specify the feature df."
   ]
  },
  {
   "cell_type": "code",
   "execution_count": 12,
   "metadata": {},
   "outputs": [
    {
     "name": "stdout",
     "output_type": "stream",
     "text": [
      "    creation_source  time_active  email_domain  org_id  invited_by_user_id  \\\n",
      "1                 1   11750400.0             3       1               316.0   \n",
      "9                 1   43459200.0             3     318              4143.0   \n",
      "19                3    7257600.0             1      58                 0.0   \n",
      "32                0    6998400.0             0     401                79.0   \n",
      "41                3   48384000.0             0     235                 0.0   \n",
      "\n",
      "    enabled_for_marketing_drip  opted_in_to_mailing_list  adopted  \n",
      "1                            0                         0        1  \n",
      "9                            1                         1        1  \n",
      "19                           0                         0        1  \n",
      "32                           0                         0        1  \n",
      "41                           0                         1        1  \n"
     ]
    }
   ],
   "source": [
    "feature_df = under_sample[['creation_source','time_active','email_domain','org_id','invited_by_user_id','enabled_for_marketing_drip','opted_in_to_mailing_list','adopted']]\n",
    "\n",
    "print(feature_df.head())"
   ]
  },
  {
   "cell_type": "markdown",
   "metadata": {},
   "source": [
    "# MODEL"
   ]
  },
  {
   "cell_type": "markdown",
   "metadata": {},
   "source": [
    "Split into Train and Test For Model"
   ]
  },
  {
   "cell_type": "code",
   "execution_count": 13,
   "metadata": {},
   "outputs": [],
   "source": [
    "x = feature_df.drop('adopted',axis=1)\n",
    "\n",
    "y = feature_df['adopted']\n",
    "\n",
    "x_train,x_test,y_train,y_test = train_test_split(x,y,test_size=0.3,random_state=21)"
   ]
  },
  {
   "cell_type": "markdown",
   "metadata": {},
   "source": [
    "XGBoost Model"
   ]
  },
  {
   "cell_type": "code",
   "execution_count": 14,
   "metadata": {},
   "outputs": [
    {
     "name": "stdout",
     "output_type": "stream",
     "text": [
      "[0.95331325 0.95317221 0.95468278 0.96676737 0.94410876]\n",
      "0.9544088741673644\n",
      "[1 0 0 1 1 0 0 0 0 0]\n",
      "              precision    recall  f1-score   support\n",
      "\n",
      "           0       0.97      0.95      0.96       491\n",
      "           1       0.95      0.97      0.96       503\n",
      "\n",
      "   micro avg       0.96      0.96      0.96       994\n",
      "   macro avg       0.96      0.96      0.96       994\n",
      "weighted avg       0.96      0.96      0.96       994\n",
      "\n",
      "<class 'numpy.ndarray'>\n",
      "          0         1\n",
      "0  0.000317  0.999683\n",
      "1  0.997778  0.002222\n",
      "2  0.999175  0.000825\n",
      "3  0.000854  0.999146\n",
      "4  0.000519  0.999481\n",
      "5  0.998449  0.001551\n",
      "6  0.932948  0.067052\n",
      "7  0.997332  0.002668\n",
      "8  0.999844  0.000156\n",
      "9  0.887476  0.112524\n"
     ]
    }
   ],
   "source": [
    "xgb = XGBClassifier(max_depth=3,n_estimators=250,learning_rate=0.1)\n",
    "\n",
    "cv_scores_xgb = cross_val_score(xgb,x,y,cv=5)\n",
    "\n",
    "print(cv_scores_xgb)\n",
    "\n",
    "mean_cv_scores_xgb = np.mean(cv_scores_xgb)\n",
    "\n",
    "print(mean_cv_scores_xgb)\n",
    "\n",
    "xgb = xgb.fit(x_train,y_train)\n",
    "\n",
    "y_pred_xgb = xgb.predict(x_test)\n",
    "\n",
    "print(y_pred_xgb[:10])\n",
    "\n",
    "cr_xgb = classification_report(y_test,y_pred_xgb)\n",
    "\n",
    "print(cr_xgb)\n",
    "\n",
    "y_pred_proba_xgb = xgb.predict_proba(x_test)\n",
    "\n",
    "print(type(y_pred_proba_xgb))\n",
    "\n",
    "y_pred_proba_xgb_df = pd.DataFrame(y_pred_proba_xgb)\n",
    "\n",
    "print(y_pred_proba_xgb_df[:10])"
   ]
  },
  {
   "cell_type": "markdown",
   "metadata": {},
   "source": [
    "Generate the coefficients(weights) given to each feature by XGBoost Classifier"
   ]
  },
  {
   "cell_type": "code",
   "execution_count": 17,
   "metadata": {},
   "outputs": [
    {
     "data": {
      "text/plain": [
       "time_active                   0.395331\n",
       "org_id                        0.288716\n",
       "invited_by_user_id            0.181323\n",
       "email_domain                  0.068482\n",
       "creation_source               0.036576\n",
       "opted_in_to_mailing_list      0.017899\n",
       "enabled_for_marketing_drip    0.011673\n",
       "Name: coef, dtype: float32"
      ]
     },
     "execution_count": 17,
     "metadata": {},
     "output_type": "execute_result"
    }
   ],
   "source": [
    "feature_importance = pd.DataFrame()\n",
    "feature_importance['coef'] = xgb.feature_importances_\n",
    "feature_importance = feature_importance.set_index(x.columns)\n",
    "feature_importance['coef'].nlargest(10)"
   ]
  },
  {
   "cell_type": "markdown",
   "metadata": {},
   "source": [
    "Plot the cofficients of each of the features for visualization."
   ]
  },
  {
   "cell_type": "code",
   "execution_count": 18,
   "metadata": {},
   "outputs": [
    {
     "data": {
      "image/png": "[encoded data removed]",
      "text/plain": [
       "<Figure size 720x360 with 1 Axes>"
      ]
     },
     "metadata": {
      "needs_background": "light"
     },
     "output_type": "display_data"
    }
   ],
   "source": [
    "plt.figure(figsize=(10,5))\n",
    "(feature_importance['coef']).nlargest(10).plot(kind='bar', x=feature_importance.index)\n",
    "plt.title('XGBoost Classifier Feature Coefficients')\n",
    "plt.ylabel('coefficient value')\n",
    "plt.show()"
   ]
  },
  {
   "cell_type": "markdown",
   "metadata": {},
   "source": [
    "According to the feature coefficients, the time_active(differenc in time between the creation time and last login) proved to be the most important feature in determining user adoption. Second was the organization Id and third was what user they were invited by. Fourth and Fifth were email domain and creation source."
   ]
  }
 ],
 "metadata": {
  "kernelspec": {
   "display_name": "Python 3",
   "language": "python",
   "name": "python3"
  },
  "language_info": {
   "codemirror_mode": {
    "name": "ipython",
    "version": 3
   },
   "file_extension": ".py",
   "mimetype": "text/x-python",
   "name": "python",
   "nbconvert_exporter": "python",
   "pygments_lexer": "ipython3",
   "version": "3.7.1"
  }
 },
 "nbformat": 4,
 "nbformat_minor": 2
}
