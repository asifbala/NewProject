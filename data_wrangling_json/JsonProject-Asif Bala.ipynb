{
 "cells": [
  {
   "cell_type": "markdown",
   "metadata": {},
   "source": [
    "****\n",
    "## JSON exercise\n",
    "\n",
    "Using data in file 'data/world_bank_projects.json' and the techniques demonstrated above,\n",
    "1. Find the 10 countries with most projects\n",
    "2. Find the top 10 major project themes (using column 'mjtheme_namecode')\n",
    "3. In 2. above you will notice that some entries have only the code and the name is missing. Create a dataframe with the missing names filled in."
   ]
  },
  {
   "cell_type": "code",
   "execution_count": 1,
   "metadata": {},
   "outputs": [],
   "source": [
    "import pandas as pd\n",
    "import json\n",
    "from pandas.io.json import json_normalize\n",
    "import numpy as np"
   ]
  },
  {
   "cell_type": "markdown",
   "metadata": {},
   "source": [
    "Load Json and Normalize it"
   ]
  },
  {
   "cell_type": "code",
   "execution_count": 3,
   "metadata": {
    "collapsed": true
   },
   "outputs": [],
   "source": [
    "data = json.load((open('/Users/asifbala/Downloads/data_wrangling_json/data/world_bank_projects.json')))\n",
    "n_json = json_normalize(data,'mjtheme_namecode',['countryshortname',['_id','$oid'],['theme1', 'Name'],['theme1','Percent']])\n",
    "df = pd.DataFrame(n_json)"
   ]
  },
  {
   "cell_type": "markdown",
   "metadata": {},
   "source": [
    "Find the 10 countries with most projects"
   ]
  },
  {
   "cell_type": "code",
   "execution_count": 4,
   "metadata": {},
   "outputs": [
    {
     "name": "stdout",
     "output_type": "stream",
     "text": [
      "Indonesia             56\n",
      "India                 51\n",
      "Vietnam               43\n",
      "Brazil                41\n",
      "Bangladesh            41\n",
      "China                 40\n",
      "Africa                39\n",
      "Yemen, Republic of    34\n",
      "Morocco               32\n",
      "Mozambique            31\n",
      "Name: countryshortname, dtype: int64\n"
     ]
    }
   ],
   "source": [
    "x = df.countryshortname.value_counts()\n",
    "print(x.head(10))"
   ]
  },
  {
   "cell_type": "markdown",
   "metadata": {},
   "source": [
    "Find the top 10 major project themes (using column 'mjtheme_namecode')"
   ]
  },
  {
   "cell_type": "code",
   "execution_count": 6,
   "metadata": {},
   "outputs": [
    {
     "name": "stdout",
     "output_type": "stream",
     "text": [
      "Environment and natural resources management    223\n",
      "Rural development                               202\n",
      "Human development                               197\n",
      "Public sector governance                        184\n",
      "Social protection and risk management           158\n",
      "Financial and private sector development        130\n",
      "                                                122\n",
      "Social dev/gender/inclusion                     119\n",
      "Trade and integration                            72\n",
      "Urban development                                47\n",
      "Name: name, dtype: int64\n"
     ]
    }
   ],
   "source": [
    "z = df.name.value_counts()\n",
    "print(z.head(10))"
   ]
  },
  {
   "cell_type": "markdown",
   "metadata": {},
   "source": [
    "In 2. above you will notice that some entries have only the code and the name is missing. Create a dataframe with the missing names filled in."
   ]
  },
  {
   "cell_type": "code",
   "execution_count": 7,
   "metadata": {},
   "outputs": [
    {
     "name": "stdout",
     "output_type": "stream",
     "text": [
      "     code                                          name  theme1.Percent  \\\n",
      "0       8                             Human development             100   \n",
      "1      11                           Economic management             100   \n",
      "2       1                           Economic management              30   \n",
      "3       6         Social protection and risk management              30   \n",
      "4       5                         Trade and integration              46   \n",
      "5       2                      Public sector governance              46   \n",
      "6      11  Environment and natural resources management              46   \n",
      "7       6         Social protection and risk management              46   \n",
      "8       7                   Social dev/gender/inclusion              50   \n",
      "9       7                   Social dev/gender/inclusion              50   \n",
      "10      5                         Trade and integration              30   \n",
      "11      4      Financial and private sector development              30   \n",
      "12      6         Social protection and risk management             100   \n",
      "13      6         Social protection and risk management             100   \n",
      "14      2                      Public sector governance              20   \n",
      "15      4      Financial and private sector development              20   \n",
      "16     11  Environment and natural resources management             100   \n",
      "17      8                             Human development             100   \n",
      "18     10                             Rural development              87   \n",
      "19      7                   Social dev/gender/inclusion              87   \n",
      "20      2                      Public sector governance              33   \n",
      "21      2                      Public sector governance              33   \n",
      "22      2                      Public sector governance              33   \n",
      "23     10                             Rural development             100   \n",
      "24      2                      Public sector governance             100   \n",
      "25     10                             Rural development              60   \n",
      "26      6         Social protection and risk management              60   \n",
      "27      6         Social protection and risk management              60   \n",
      "28     11  Environment and natural resources management              60   \n",
      "29      4      Financial and private sector development               0   \n",
      "...   ...                                           ...             ...   \n",
      "1469    8                             Human development              20   \n",
      "1470    9                             Urban development              50   \n",
      "1471    6         Social protection and risk management              50   \n",
      "1472    6         Social protection and risk management              50   \n",
      "1473    9                             Urban development              50   \n",
      "1474    2                      Public sector governance              80   \n",
      "1475    2                      Public sector governance              80   \n",
      "1476   10                             Rural development             100   \n",
      "1477   11  Environment and natural resources management             100   \n",
      "1478    8                             Human development              70   \n",
      "1479    7                   Social dev/gender/inclusion              70   \n",
      "1480   11  Environment and natural resources management             100   \n",
      "1481    5                         Trade and integration             100   \n",
      "1482    6         Social protection and risk management             100   \n",
      "1483    8                             Human development             100   \n",
      "1484    4      Financial and private sector development              50   \n",
      "1485    7                   Social dev/gender/inclusion              50   \n",
      "1486    8                             Human development              14   \n",
      "1487    5                         Trade and integration              14   \n",
      "1488    2                      Public sector governance              14   \n",
      "1489    8                             Human development              14   \n",
      "1490   10                             Rural development             100   \n",
      "1491    6         Social protection and risk management             100   \n",
      "1492   10                             Rural development              85   \n",
      "1493   10                             Rural development              85   \n",
      "1494   10                             Rural development              85   \n",
      "1495    9                             Urban development               1   \n",
      "1496    8                             Human development               1   \n",
      "1497    5                         Trade and integration               1   \n",
      "1498    4      Financial and private sector development               1   \n",
      "\n",
      "                                            theme1.Name  \\\n",
      "0                                     Education for all   \n",
      "1                                     Education for all   \n",
      "2                             Other economic management   \n",
      "3                             Other economic management   \n",
      "4                                  Regional integration   \n",
      "5                                  Regional integration   \n",
      "6                                  Regional integration   \n",
      "7                                  Regional integration   \n",
      "8                    Participation and civic engagement   \n",
      "9                    Participation and civic engagement   \n",
      "10               Export development and competitiveness   \n",
      "11               Export development and competitiveness   \n",
      "12                                   Social safety nets   \n",
      "13                                   Social safety nets   \n",
      "14              Administrative and civil service reform   \n",
      "15              Administrative and civil service reform   \n",
      "16                                       Climate change   \n",
      "17                                       Climate change   \n",
      "18                              Other rural development   \n",
      "19                              Other rural development   \n",
      "20                 Other accountability/anti-corruption   \n",
      "21                 Other accountability/anti-corruption   \n",
      "22                 Other accountability/anti-corruption   \n",
      "23                          Global food crisis response   \n",
      "24                          Global food crisis response   \n",
      "25                    Rural services and infrastructure   \n",
      "26                    Rural services and infrastructure   \n",
      "27                    Rural services and infrastructure   \n",
      "28                    Rural services and infrastructure   \n",
      "29                                                        \n",
      "...                                                 ...   \n",
      "1469                          Health system performance   \n",
      "1470            Urban services and housing for the poor   \n",
      "1471            Urban services and housing for the poor   \n",
      "1472            Urban services and housing for the poor   \n",
      "1473            Urban services and housing for the poor   \n",
      "1474  Public expenditure, financial management and p...   \n",
      "1475  Public expenditure, financial management and p...   \n",
      "1476                  Rural services and infrastructure   \n",
      "1477                  Rural services and infrastructure   \n",
      "1478                                  Education for all   \n",
      "1479                                  Education for all   \n",
      "1480  Other environment and natural resources manage...   \n",
      "1481  Other environment and natural resources manage...   \n",
      "1482                        Natural disaster management   \n",
      "1483                        Natural disaster management   \n",
      "1484                  Regulation and competition policy   \n",
      "1485                  Regulation and competition policy   \n",
      "1486                                       Child health   \n",
      "1487                                       Child health   \n",
      "1488                                       Child health   \n",
      "1489                                       Child health   \n",
      "1490                        Global food crisis response   \n",
      "1491                        Global food crisis response   \n",
      "1492                  Rural services and infrastructure   \n",
      "1493                  Rural services and infrastructure   \n",
      "1494                  Rural services and infrastructure   \n",
      "1495      Municipal governance and institution building   \n",
      "1496      Municipal governance and institution building   \n",
      "1497      Municipal governance and institution building   \n",
      "1498      Municipal governance and institution building   \n",
      "\n",
      "                      countryshortname                  _id.$oid  \n",
      "0                             Ethiopia  52b213b38594d8a2be17c780  \n",
      "1                             Ethiopia  52b213b38594d8a2be17c780  \n",
      "2                              Tunisia  52b213b38594d8a2be17c781  \n",
      "3                              Tunisia  52b213b38594d8a2be17c781  \n",
      "4                               Tuvalu  52b213b38594d8a2be17c782  \n",
      "5                               Tuvalu  52b213b38594d8a2be17c782  \n",
      "6                               Tuvalu  52b213b38594d8a2be17c782  \n",
      "7                               Tuvalu  52b213b38594d8a2be17c782  \n",
      "8                   Yemen, Republic of  52b213b38594d8a2be17c783  \n",
      "9                   Yemen, Republic of  52b213b38594d8a2be17c783  \n",
      "10                             Lesotho  52b213b38594d8a2be17c784  \n",
      "11                             Lesotho  52b213b38594d8a2be17c784  \n",
      "12                               Kenya  52b213b38594d8a2be17c785  \n",
      "13                               Kenya  52b213b38594d8a2be17c785  \n",
      "14                               India  52b213b38594d8a2be17c786  \n",
      "15                               India  52b213b38594d8a2be17c786  \n",
      "16                               China  52b213b38594d8a2be17c787  \n",
      "17                               China  52b213b38594d8a2be17c787  \n",
      "18                               India  52b213b38594d8a2be17c788  \n",
      "19                               India  52b213b38594d8a2be17c788  \n",
      "20                             Morocco  52b213b38594d8a2be17c789  \n",
      "21                             Morocco  52b213b38594d8a2be17c789  \n",
      "22                             Morocco  52b213b38594d8a2be17c789  \n",
      "23                         South Sudan  52b213b38594d8a2be17c78a  \n",
      "24                         South Sudan  52b213b38594d8a2be17c78a  \n",
      "25                               India  52b213b38594d8a2be17c78b  \n",
      "26                               India  52b213b38594d8a2be17c78b  \n",
      "27                               India  52b213b38594d8a2be17c78b  \n",
      "28                               India  52b213b38594d8a2be17c78b  \n",
      "29                               Ghana  52b213b38594d8a2be17c78c  \n",
      "...                                ...                       ...  \n",
      "1469                            Brazil  52b213b38594d8a2be17c968  \n",
      "1470                  Papua New Guinea  52b213b38594d8a2be17c969  \n",
      "1471                  Papua New Guinea  52b213b38594d8a2be17c969  \n",
      "1472                  Papua New Guinea  52b213b38594d8a2be17c969  \n",
      "1473                  Papua New Guinea  52b213b38594d8a2be17c969  \n",
      "1474                             Nepal  52b213b38594d8a2be17c96a  \n",
      "1475                             Nepal  52b213b38594d8a2be17c96a  \n",
      "1476                West Bank and Gaza  52b213b38594d8a2be17c96b  \n",
      "1477                West Bank and Gaza  52b213b38594d8a2be17c96b  \n",
      "1478                          Pakistan  52b213b38594d8a2be17c96c  \n",
      "1479                          Pakistan  52b213b38594d8a2be17c96c  \n",
      "1480                        Bangladesh  52b213b38594d8a2be17c96d  \n",
      "1481                        Bangladesh  52b213b38594d8a2be17c96d  \n",
      "1482                             Nepal  52b213b38594d8a2be17c96e  \n",
      "1483                             Nepal  52b213b38594d8a2be17c96e  \n",
      "1484                           Jamaica  52b213b38594d8a2be17c96f  \n",
      "1485                           Jamaica  52b213b38594d8a2be17c96f  \n",
      "1486  Lao People's Democratic Republic  52b213b38594d8a2be17c970  \n",
      "1487  Lao People's Democratic Republic  52b213b38594d8a2be17c970  \n",
      "1488  Lao People's Democratic Republic  52b213b38594d8a2be17c970  \n",
      "1489  Lao People's Democratic Republic  52b213b38594d8a2be17c970  \n",
      "1490                            Guinea  52b213b38594d8a2be17c971  \n",
      "1491                            Guinea  52b213b38594d8a2be17c971  \n",
      "1492                         Indonesia  52b213b38594d8a2be17c972  \n",
      "1493                         Indonesia  52b213b38594d8a2be17c972  \n",
      "1494                         Indonesia  52b213b38594d8a2be17c972  \n",
      "1495                             Kenya  52b213b38594d8a2be17c973  \n",
      "1496                             Kenya  52b213b38594d8a2be17c973  \n",
      "1497                             Kenya  52b213b38594d8a2be17c973  \n",
      "1498                             Kenya  52b213b38594d8a2be17c973  \n",
      "\n",
      "[1499 rows x 6 columns]\n"
     ]
    }
   ],
   "source": [
    "new_df = df.replace('',np.nan)\n",
    "\n",
    "df['name'] = new_df.groupby('code')['name'].ffill().bfill()\n",
    "print(df)"
   ]
  },
  {
   "cell_type": "markdown",
   "metadata": {},
   "source": [
    "Values for top 10 major project themes has now updated to include the the previously missing values"
   ]
  },
  {
   "cell_type": "code",
   "execution_count": 8,
   "metadata": {},
   "outputs": [
    {
     "name": "stdout",
     "output_type": "stream",
     "text": [
      "Environment and natural resources management    249\n",
      "Rural development                               216\n",
      "Human development                               210\n",
      "Public sector governance                        199\n",
      "Social protection and risk management           168\n",
      "Financial and private sector development        146\n",
      "Social dev/gender/inclusion                     130\n",
      "Trade and integration                            77\n",
      "Urban development                                50\n",
      "Economic management                              39\n",
      "Name: name, dtype: int64\n"
     ]
    }
   ],
   "source": [
    "w = df.name.value_counts()\n",
    "print(w.head(10))"
   ]
  }
 ],
 "metadata": {
  "kernelspec": {
   "display_name": "Python 3",
   "language": "python",
   "name": "python3"
  },
  "language_info": {
   "codemirror_mode": {
    "name": "ipython",
    "version": 3
   },
   "file_extension": ".py",
   "mimetype": "text/x-python",
   "name": "python",
   "nbconvert_exporter": "python",
   "pygments_lexer": "ipython3",
   "version": "3.7.1"
  }
 },
 "nbformat": 4,
 "nbformat_minor": 2
}
