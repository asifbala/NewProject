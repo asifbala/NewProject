{
 "cells": [
  {
   "cell_type": "markdown",
   "metadata": {},
   "source": [
    "# Examining Racial Discrimination in the US Job Market\n",
    "\n",
    "### Background\n",
    "Racial discrimination continues to be pervasive in cultures throughout the world. Researchers examined the level of racial discrimination in the United States labor market by randomly assigning identical résumés to black-sounding or white-sounding names and observing the impact on requests for interviews from employers.\n",
    "\n",
    "### Data\n",
    "In the dataset provided, each row represents a resume. The 'race' column has two values, 'b' and 'w', indicating black-sounding and white-sounding. The column 'call' has two values, 1 and 0, indicating whether the resume received a call from employers or not.\n",
    "\n",
    "Note that the 'b' and 'w' values in race are assigned randomly to the resumes when presented to the employer."
   ]
  },
  {
   "cell_type": "markdown",
   "metadata": {},
   "source": [
    "### Exercises\n",
    "You will perform a statistical analysis to establish whether race has a significant impact on the rate of callbacks for resumes.\n",
    "\n",
    "Answer the following questions **in this notebook below and submit to your Github account**. \n",
    "\n",
    "   1. What test is appropriate for this problem? Does CLT apply?\n",
    "   2. What are the null and alternate hypotheses?\n",
    "   3. Compute margin of error, confidence interval, and p-value. Try using both the bootstrapping and the frequentist statistical approaches.\n",
    "   4. Write a story describing the statistical significance in the context or the original problem.\n",
    "   5. Does your analysis mean that race/name is the most important factor in callback success? Why or why not? If not, how would you amend your analysis?\n",
    "\n",
    "You can include written notes in notebook cells using Markdown: \n",
    "   - In the control panel at the top, choose Cell > Cell Type > Markdown\n",
    "   - Markdown syntax: http://nestacms.com/docs/creating-content/markdown-cheat-sheet\n",
    "\n",
    "#### Resources\n",
    "+ Experiment information and data source: http://www.povertyactionlab.org/evaluation/discrimination-job-market-united-states\n",
    "+ Scipy statistical methods: http://docs.scipy.org/doc/scipy/reference/stats.html \n",
    "+ Markdown syntax: http://nestacms.com/docs/creating-content/markdown-cheat-sheet\n",
    "+ Formulas for the Bernoulli distribution: https://en.wikipedia.org/wiki/Bernoulli_distribution"
   ]
  },
  {
   "cell_type": "code",
   "execution_count": 8,
   "metadata": {
    "collapsed": true
   },
   "outputs": [],
   "source": [
    "import pandas as pd\n",
    "import numpy as np\n",
    "from scipy import stats\n",
    "import matplotlib.pyplot as plt"
   ]
  },
  {
   "cell_type": "code",
   "execution_count": 9,
   "metadata": {},
   "outputs": [],
   "source": [
    "data = pd.io.stata.read_stata('data/us_job_market_discrimination.dta')"
   ]
  },
  {
   "cell_type": "code",
   "execution_count": 10,
   "metadata": {},
   "outputs": [
    {
     "name": "stdout",
     "output_type": "stream",
     "text": [
      "235.0\n",
      "157.0\n"
     ]
    }
   ],
   "source": [
    "# number of callbacks for black-sounding names\n",
    "print(sum(data[data.race=='w'].call))\n",
    "print(sum(data[data.race=='b'].call))"
   ]
  },
  {
   "cell_type": "code",
   "execution_count": 11,
   "metadata": {},
   "outputs": [
    {
     "name": "stdout",
     "output_type": "stream",
     "text": [
      "0       0.0\n",
      "1       0.0\n",
      "2       0.0\n",
      "3       0.0\n",
      "4       0.0\n",
      "5       0.0\n",
      "6       0.0\n",
      "7       0.0\n",
      "8       0.0\n",
      "9       0.0\n",
      "10      0.0\n",
      "11      0.0\n",
      "12      0.0\n",
      "13      0.0\n",
      "14      0.0\n",
      "15      0.0\n",
      "16      0.0\n",
      "17      0.0\n",
      "18      0.0\n",
      "19      0.0\n",
      "20      0.0\n",
      "21      0.0\n",
      "22      0.0\n",
      "23      0.0\n",
      "24      0.0\n",
      "25      0.0\n",
      "26      0.0\n",
      "27      0.0\n",
      "28      0.0\n",
      "29      0.0\n",
      "       ... \n",
      "4840    0.0\n",
      "4841    0.0\n",
      "4842    0.0\n",
      "4843    1.0\n",
      "4844    0.0\n",
      "4845    0.0\n",
      "4846    1.0\n",
      "4847    1.0\n",
      "4848    1.0\n",
      "4849    0.0\n",
      "4850    0.0\n",
      "4851    0.0\n",
      "4852    0.0\n",
      "4853    0.0\n",
      "4854    0.0\n",
      "4855    0.0\n",
      "4856    0.0\n",
      "4857    0.0\n",
      "4858    0.0\n",
      "4859    1.0\n",
      "4860    0.0\n",
      "4861    1.0\n",
      "4862    0.0\n",
      "4863    0.0\n",
      "4864    0.0\n",
      "4865    0.0\n",
      "4866    0.0\n",
      "4867    0.0\n",
      "4868    0.0\n",
      "4869    0.0\n",
      "Name: call, Length: 4870, dtype: float32\n"
     ]
    }
   ],
   "source": [
    "data.head()\n",
    "print(data.call)"
   ]
  },
  {
   "cell_type": "markdown",
   "metadata": {
    "collapsed": true
   },
   "source": [
    "1.- 2.) A Two Sample Hypothesis test is appropriate here. The null hypothesis is that race has no impact on interview requests from employers and it all happened by chance. Basically, the mean of calls for white names minus the mean of calls for black names will equal zero. Alternative hypthesis is that race has an impact on interview requests. The mean of calls for white names and the mean of calls for black names will not be zero."
   ]
  },
  {
   "cell_type": "code",
   "execution_count": 12,
   "metadata": {
    "collapsed": true
   },
   "outputs": [],
   "source": [
    "w = data[data.race=='w']\n",
    "b = data[data.race=='b']"
   ]
  },
  {
   "cell_type": "code",
   "execution_count": 13,
   "metadata": {},
   "outputs": [
    {
     "name": "stdout",
     "output_type": "stream",
     "text": [
      "0.0320329\n",
      "('p-value =', 0.0)\n",
      "[ 0.01724846  0.04722793]\n"
     ]
    }
   ],
   "source": [
    "def bootstrap_replicate_1d(data, func):\n",
    "    return func(np.random.choice(data, size=len(data)))\n",
    "\n",
    "def draw_bs_reps(data, func, size=1):\n",
    "    bs_replicates = np.empty(size)\n",
    "    for i in range(size):\n",
    "        bs_replicates[i] = bootstrap_replicate_1d(data,func)\n",
    "    return bs_replicates\n",
    "\n",
    "sample_white = data[data.race=='w'].call.values\n",
    "\n",
    "sample_black = data[data.race=='b'].call.values\n",
    "\n",
    "sample_all = data.call.values\n",
    "\n",
    "diff_of_means = np.mean(sample_white) - np.mean(sample_black)\n",
    "\n",
    "print(diff_of_means)\n",
    "\n",
    "combined_mean = np.mean(sample_all)\n",
    "\n",
    "shifted_white = sample_white - np.mean(sample_white) + combined_mean\n",
    "\n",
    "shifted_black = sample_black - np.mean(sample_black) + combined_mean\n",
    "\n",
    "sample_dist_white = draw_bs_reps(shifted_white,np.mean,10000)\n",
    "\n",
    "sample_dist_black = draw_bs_reps(shifted_black,np.mean,10000)\n",
    "\n",
    "replicates = sample_dist_white - sample_dist_black\n",
    "\n",
    "p = np.true_divide(np.sum(replicates >= diff_of_means),10000) \n",
    "\n",
    "print('p-value =', p)\n",
    "\n",
    "#P-Value is 0, so reject the null hypothesis.\n",
    "\n",
    "sample_dist_white_2 = draw_bs_reps(sample_white,np.mean,10000)\n",
    "\n",
    "sample_dist_black_2 = draw_bs_reps(sample_black,np.mean,10000)\n",
    "\n",
    "bs_diff_replicates = sample_dist_white_2 - sample_dist_black_2\n",
    "\n",
    "conf_int_95 = np.percentile(bs_diff_replicates,[2.5,97.5])\n",
    "\n",
    "print(conf_int_95)"
   ]
  },
  {
   "cell_type": "code",
   "execution_count": 14,
   "metadata": {},
   "outputs": [
    {
     "name": "stdout",
     "output_type": "stream",
     "text": [
      "4.11555050957\n",
      "(0.016777448471402157, 0.047288261238719001)\n"
     ]
    }
   ],
   "source": [
    "top = diff_of_means - 0\n",
    "\n",
    "white = (np.std(sample_white) ** 2) / len(sample_white)\n",
    "\n",
    "black = (np.std(sample_black) ** 2) / len(sample_black)\n",
    "\n",
    "bottom = np.sqrt(white + black)\n",
    "\n",
    "z_stat = top / bottom\n",
    "\n",
    "print(z_stat)\n",
    "\n",
    "#P-Value is 0.\n",
    "\n",
    "#z_critical_value = 1.96\n",
    "\n",
    "conf_interval_right = diff_of_means + (1.96 * bottom)\n",
    "\n",
    "conf_interval_left = diff_of_means - (1.96 * bottom)\n",
    "\n",
    "conf_interval = (conf_interval_left,conf_interval_right)\n",
    "\n",
    "print(conf_interval)"
   ]
  },
  {
   "cell_type": "markdown",
   "metadata": {},
   "source": [
    "4.) Considering a p value of 0 for both bootstrap and frequentist approach, I would conclude that I could reject the null hypothesis. I assume that the population mean of calls for white sounding names and the population mean of calls for black sounding names are not equal. I fail to reject the alternative hypthothesis that race does have an impact on interview calls and that the mean of calls for black and white names are not equal. Also, the confidence interval of the difference of means was equal for both bootstrap and freqientist approaches. It is 0.016 to .047. That means there is 95% confidence that the true difference of means of calls between white and black names lies within that range."
   ]
  },
  {
   "cell_type": "markdown",
   "metadata": {},
   "source": [
    "5.) According to my analysis, I reject the null hypothesis that race is not a factor callback success. This forces me to fail to reject(or accept) the alternative hypothesis that states that race is a factor in callback success."
   ]
  }
 ],
 "metadata": {
  "kernelspec": {
   "display_name": "Python 2",
   "language": "python",
   "name": "python2"
  },
  "language_info": {
   "codemirror_mode": {
    "name": "ipython",
    "version": 2
   },
   "file_extension": ".py",
   "mimetype": "text/x-python",
   "name": "python",
   "nbconvert_exporter": "python",
   "pygments_lexer": "ipython2",
   "version": "2.7.14"
  }
 },
 "nbformat": 4,
 "nbformat_minor": 1
}
