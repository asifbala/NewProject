{
 "cells": [
  {
   "cell_type": "markdown",
   "metadata": {},
   "source": [
    "# What is the True Normal Human Body Temperature? \n",
    "\n",
    "#### Background\n",
    "\n",
    "The mean normal body temperature was held to be 37$^{\\circ}$C or 98.6$^{\\circ}$F for more than 120 years since it was first conceptualized and reported by Carl Wunderlich in a famous 1868 book. But, is this value statistically correct?"
   ]
  },
  {
   "cell_type": "markdown",
   "metadata": {},
   "source": [
    "<h3>Exercises</h3>\n",
    "\n",
    "<p>In this exercise, you will analyze a dataset of human body temperatures and employ the concepts of hypothesis testing, confidence intervals, and statistical significance.</p>\n",
    "\n",
    "<p>Answer the following questions <b>in this notebook below and submit to your Github account</b>.</p> \n",
    "\n",
    "<ol>\n",
    "<li>  Is the distribution of body temperatures normal? \n",
    "    <ul>\n",
    "    <li> Although this is not a requirement for the Central Limit Theorem to hold (read the introduction on Wikipedia's page about the CLT carefully: https://en.wikipedia.org/wiki/Central_limit_theorem), it gives us some peace of mind that the population may also be normally distributed if we assume that this sample is representative of the population.\n",
    "    <li> Think about the way you're going to check for the normality of the distribution. Graphical methods are usually used first, but there are also other ways: https://en.wikipedia.org/wiki/Normality_test\n",
    "    </ul>\n",
    "<li>  Is the sample size large? Are the observations independent?\n",
    "    <ul>\n",
    "    <li> Remember that this is a condition for the Central Limit Theorem, and hence the statistical tests we are using, to apply.\n",
    "    </ul>\n",
    "<li>  Is the true population mean really 98.6 degrees F?\n",
    "    <ul>\n",
    "    <li> First, try a bootstrap hypothesis test.\n",
    "    <li> Now, let's try frequentist statistical testing. Would you use a one-sample or two-sample test? Why?\n",
    "    <li> In this situation, is it appropriate to use the $t$ or $z$ statistic? \n",
    "    <li> Now try using the other test. How is the result be different? Why?\n",
    "    </ul>\n",
    "<li>  Draw a small sample of size 10 from the data and repeat both frequentist tests. \n",
    "    <ul>\n",
    "    <li> Which one is the correct one to use? \n",
    "    <li> What do you notice? What does this tell you about the difference in application of the $t$ and $z$ statistic?\n",
    "    </ul>\n",
    "<li>  At what temperature should we consider someone's temperature to be \"abnormal\"?\n",
    "    <ul>\n",
    "    <li> As in the previous example, try calculating everything using the boostrap approach, as well as the frequentist approach.\n",
    "    <li> Start by computing the margin of error and confidence interval. When calculating the confidence interval, keep in mind that you should use the appropriate formula for one draw, and not N draws.\n",
    "    </ul>\n",
    "<li>  Is there a significant difference between males and females in normal temperature?\n",
    "    <ul>\n",
    "    <li> What testing approach did you use and why?\n",
    "    <li> Write a story with your conclusion in the context of the original problem.\n",
    "    </ul>\n",
    "</ol>\n",
    "\n",
    "You can include written notes in notebook cells using Markdown: \n",
    "   - In the control panel at the top, choose Cell > Cell Type > Markdown\n",
    "   - Markdown syntax: http://nestacms.com/docs/creating-content/markdown-cheat-sheet\n",
    "\n",
    "#### Resources\n",
    "\n",
    "+ Information and data sources: http://www.amstat.org/publications/jse/datasets/normtemp.txt, http://www.amstat.org/publications/jse/jse_data_archive.htm\n",
    "+ Markdown syntax: http://nestacms.com/docs/creating-content/markdown-cheat-sheet\n",
    "\n",
    "****"
   ]
  },
  {
   "cell_type": "code",
   "execution_count": 3,
   "metadata": {},
   "outputs": [
    {
     "name": "stdout",
     "output_type": "stream",
     "text": [
      "     temperature gender  heart_rate\n",
      "0           99.3      F        68.0\n",
      "1           98.4      F        81.0\n",
      "2           97.8      M        73.0\n",
      "3           99.2      F        66.0\n",
      "4           98.0      F        73.0\n",
      "5           99.2      M        83.0\n",
      "6           98.0      M        71.0\n",
      "7           98.8      M        78.0\n",
      "8           98.4      F        84.0\n",
      "9           98.6      F        86.0\n",
      "10          98.8      F        89.0\n",
      "11          96.7      F        62.0\n",
      "12          98.2      M        72.0\n",
      "13          98.7      F        79.0\n",
      "14          97.8      F        77.0\n",
      "15          98.8      F        83.0\n",
      "16          98.3      F        79.0\n",
      "17          98.2      M        64.0\n",
      "18          97.2      F        68.0\n",
      "19          99.4      M        70.0\n",
      "20          98.3      F        78.0\n",
      "21          98.2      M        71.0\n",
      "22          98.6      M        70.0\n",
      "23          98.4      M        68.0\n",
      "24          97.8      M        65.0\n",
      "25          98.0      F        87.0\n",
      "26          97.8      F        62.0\n",
      "27          98.2      F        69.0\n",
      "28          98.4      F        73.0\n",
      "29          98.1      M        67.0\n",
      "30          98.3      M        86.0\n",
      "31          97.6      F        61.0\n",
      "32          98.5      M        71.0\n",
      "33          98.6      M        82.0\n",
      "34          99.3      M        63.0\n",
      "35          99.5      M        75.0\n",
      "36          99.1      M        71.0\n",
      "37          98.3      M        72.0\n",
      "38          97.9      F        79.0\n",
      "39          96.4      F        69.0\n",
      "40          98.4      F        79.0\n",
      "41          98.4      M        82.0\n",
      "42          96.9      M        74.0\n",
      "43          97.2      M        64.0\n",
      "44          99.0      F        79.0\n",
      "45          97.9      F        69.0\n",
      "46          97.4      M        72.0\n",
      "47          97.4      M        68.0\n",
      "48          97.9      M        76.0\n",
      "49          97.1      M        82.0\n",
      "50          98.9      F        76.0\n",
      "51          98.3      F        80.0\n",
      "52          98.5      F        83.0\n",
      "53          98.6      M        78.0\n",
      "54          98.2      F        73.0\n",
      "55          98.6      F        82.0\n",
      "56          98.8      F        70.0\n",
      "57          98.2      M        66.0\n",
      "58          98.2      F        65.0\n",
      "59          97.6      M        73.0\n",
      "60          99.1      F        80.0\n",
      "61          98.4      M        84.0\n",
      "62          98.2      F        57.0\n",
      "63          98.6      M        83.0\n",
      "64          98.7      F        65.0\n",
      "65          97.4      M        70.0\n",
      "66          97.4      F        57.0\n",
      "67          98.6      M        77.0\n",
      "68          98.7      F        82.0\n",
      "69          98.9      M        80.0\n",
      "70          98.1      F        81.0\n",
      "71          97.7      F        61.0\n",
      "72          98.0      M        78.0\n",
      "73          98.8      M        81.0\n",
      "74          99.0      M        75.0\n",
      "75          98.8      M        78.0\n",
      "76          98.0      F        76.0\n",
      "77          98.4      M        70.0\n",
      "78          97.4      M        78.0\n",
      "79          97.6      M        74.0\n",
      "80          98.8      F        73.0\n",
      "81          98.0      M        67.0\n",
      "82          97.5      M        70.0\n",
      "83          99.2      F        77.0\n",
      "84          98.6      F        85.0\n",
      "85          97.1      M        75.0\n",
      "86          98.6      F        77.0\n",
      "87          98.0      M        78.0\n",
      "88          98.7      M        73.0\n",
      "89          98.1      M        73.0\n",
      "90          97.8      M        74.0\n",
      "91         100.0      F        78.0\n",
      "92          98.8      F        84.0\n",
      "93          97.1      M        73.0\n",
      "94          97.8      M        58.0\n",
      "95          96.8      F        75.0\n",
      "96          99.9      F        79.0\n",
      "97          98.7      F        64.0\n",
      "98          98.8      F        64.0\n",
      "99          98.0      M        74.0\n",
      "100         99.0      M        81.0\n",
      "101         98.5      M        68.0\n",
      "102         98.0      F        78.0\n",
      "103         99.4      F        77.0\n",
      "104         97.6      M        69.0\n",
      "105         96.7      M        71.0\n",
      "106         97.0      M        80.0\n",
      "107         98.6      M        66.0\n",
      "108         98.7      F        72.0\n",
      "109         97.3      M        69.0\n",
      "110         98.8      F        69.0\n",
      "111         98.0      F        89.0\n",
      "112         98.2      F        64.0\n",
      "113         99.1      F        74.0\n",
      "114         99.0      M        79.0\n",
      "115         98.0      M        64.0\n",
      "116        100.8      F        77.0\n",
      "117         97.8      F        71.0\n",
      "118         98.7      M        78.0\n",
      "119         98.4      F        74.0\n",
      "120         97.7      F        84.0\n",
      "121         97.9      F        68.0\n",
      "122         99.0      F        81.0\n",
      "123         97.2      F        66.0\n",
      "124         97.5      M        75.0\n",
      "125         96.3      M        70.0\n",
      "126         97.7      M        77.0\n",
      "127         98.2      F        73.0\n",
      "128         97.9      M        72.0\n",
      "129         98.7      F        59.0\n"
     ]
    }
   ],
   "source": [
    "import pandas as pd\n",
    "import numpy as np\n",
    "import matplotlib.pyplot as plt\n",
    "import seaborn as sns\n",
    "from scipy import stats\n",
    "import math\n",
    "\n",
    "df = pd.read_csv('data/human_body_temperature.csv')\n",
    "pd.set_option('display.max_rows', None)\n",
    "print(df)"
   ]
  },
  {
   "cell_type": "code",
   "execution_count": 4,
   "metadata": {},
   "outputs": [
    {
     "data": {
      "image/png": "[encoded data removed]",
      "text/plain": [
       "<matplotlib.figure.Figure at 0x111239650>"
      ]
     },
     "metadata": {},
     "output_type": "display_data"
    }
   ],
   "source": [
    "n_data = len(df['temperature'])\n",
    "n_bins = np.sqrt(n_data)\n",
    "n_bins = int(n_bins)\n",
    "\n",
    "df['temperature'].plot(kind='hist',bins=n_bins,normed=True,histtype='step')\n",
    "plt.xlabel('temperature')\n",
    "plt.show()"
   ]
  },
  {
   "cell_type": "markdown",
   "metadata": {},
   "source": [
    "1.) Yes,it is approximately normal, as seen by the bell shape curve. It resembles a normal distribution."
   ]
  },
  {
   "cell_type": "markdown",
   "metadata": {},
   "source": [
    "2.) The sample size is 130, which is well about 30, so yes, the sample size is large. The sample size is less than 10% of population, so it can be considered to be independent."
   ]
  },
  {
   "cell_type": "markdown",
   "metadata": {},
   "source": [
    "3a.) Null hypothesis: The true population mean is 98.6 degrees. Alternative hypothesis: The true population mean is not 98.6 degrees. "
   ]
  },
  {
   "cell_type": "code",
   "execution_count": 5,
   "metadata": {},
   "outputs": [
    {
     "name": "stdout",
     "output_type": "stream",
     "text": [
      "0.0\n"
     ]
    }
   ],
   "source": [
    "def bootstrap_replicate_1d(data, func):\n",
    "    return func(np.random.choice(data, size=len(data)))\n",
    "\n",
    "def draw_bs_reps(data, func, size=1):\n",
    "    bs_replicates = np.empty(size)\n",
    "    for i in range(size):\n",
    "        bs_replicates[i] = bootstrap_replicate_1d(data,func)\n",
    "    return bs_replicates\n",
    "\n",
    "temp = df['temperature'].values\n",
    "\n",
    "translated_temp = temp - np.mean(temp) + 98.6\n",
    "\n",
    "bs_replicates = draw_bs_reps(translated_temp,np.mean,10000)\n",
    "\n",
    "p = np.true_divide(np.sum(bs_replicates <= np.mean(temp)), 10000)\n",
    "\n",
    "print(p)\n",
    "\n",
    "#P value is small, so reject the null hypothesis. The true population mean is not 98.6 degrees."
   ]
  },
  {
   "cell_type": "code",
   "execution_count": 6,
   "metadata": {},
   "outputs": [
    {
     "name": "stdout",
     "output_type": "stream",
     "text": [
      "-5.47592520208\n",
      "4.35231516587e-08\n",
      "2.18874646241e-07\n"
     ]
    }
   ],
   "source": [
    "z_stat = (np.mean(temp) - 98.6) / (np.std(temp) / np.sqrt(130))\n",
    "\n",
    "p_value_z_130 = stats.norm.cdf(z_stat)*2\n",
    "\n",
    "p_value_t_130 =  stats.t.cdf(x = z_stat, df =len(temp) - 1)*2\n",
    "\n",
    "print(z_stat)\n",
    "\n",
    "print(p_value_z_130)\n",
    "\n",
    "print(p_value_t_130)\n",
    "\n",
    "#The p-value is 0 for both z-table and t-table."
   ]
  },
  {
   "cell_type": "markdown",
   "metadata": {},
   "source": [
    "3b.) I would use a one sample test because we are comparing a dataset to a particular value rather than another dataset. I will use the z statistic because the sample size is large(above 30)."
   ]
  },
  {
   "cell_type": "markdown",
   "metadata": {},
   "source": [
    "3c.) The P-Values using the z-table or the t-table are the same. There is no difference. This is because the value of n is >= 30, so it really doesnt matter which one is used. Results of a t test and z test grow closer and closer as the sample size gets larger."
   ]
  },
  {
   "cell_type": "code",
   "execution_count": 31,
   "metadata": {
    "collapsed": true
   },
   "outputs": [],
   "source": [
    "x = np.random.choice(temp,size=10) #Random sample of size 10"
   ]
  },
  {
   "cell_type": "code",
   "execution_count": 32,
   "metadata": {},
   "outputs": [
    {
     "data": {
      "image/png": "[encoded data removed]",
      "text/plain": [
       "<matplotlib.figure.Figure at 0x1a1f4cfc50>"
      ]
     },
     "metadata": {},
     "output_type": "display_data"
    }
   ],
   "source": [
    "n_data = len(x)\n",
    "n_bins = np.sqrt(n_data)\n",
    "n_bins = int(n_bins)\n",
    "\n",
    "plt.hist(x,bins=n_bins,normed=True,histtype='step')\n",
    "plt.xlabel('temperature')\n",
    "plt.show()"
   ]
  },
  {
   "cell_type": "code",
   "execution_count": 48,
   "metadata": {},
   "outputs": [
    {
     "name": "stdout",
     "output_type": "stream",
     "text": [
      "-0.922377899975\n",
      "0.380393942738\n",
      "0.356331493255\n"
     ]
    }
   ],
   "source": [
    "t_statistic = (np.mean(x) - 98.6) / (np.std(x) / np.sqrt(10))\n",
    "\n",
    "p_value_t_test = stats.t.cdf(x = t_statistic, df =len(x) - 1)*2\n",
    "\n",
    "p_value_z_test = stats.norm.cdf(t_statistic)*2\n",
    "\n",
    "print(t_statistic)\n",
    "\n",
    "print(p_value_t_test)\n",
    "\n",
    "print(p_value_z_test)"
   ]
  },
  {
   "cell_type": "markdown",
   "metadata": {},
   "source": [
    "4.) The correct one to use in this case is the t-statistic, because the value of n(size) is less than 30. The P-Values for z and t are very close however."
   ]
  },
  {
   "cell_type": "code",
   "execution_count": 51,
   "metadata": {},
   "outputs": [
    {
     "name": "stdout",
     "output_type": "stream",
     "text": [
      "0.784754274815\n",
      "98.28\n",
      "(97.495245725185271, 99.064754274814732)\n"
     ]
    }
   ],
   "source": [
    "#The t critical value for 95% confidence interval with df of nine : 2.262\n",
    "\n",
    "sd_sampling_dist = np.true_divide(np.std(x),np.sqrt(10))\n",
    "\n",
    "standard_dev = 2.262 * sd_sampling_dist\n",
    "\n",
    "print(standard_dev)\n",
    "\n",
    "sample_mean = np.mean(x)\n",
    "\n",
    "print(sample_mean)\n",
    "\n",
    "conf_int_right = sample_mean + standard_dev\n",
    "\n",
    "conf_int_left = sample_mean - standard_dev\n",
    "\n",
    "conf_interval = conf_int_left,conf_int_right\n",
    "\n",
    "print(conf_interval)"
   ]
  },
  {
   "cell_type": "code",
   "execution_count": 52,
   "metadata": {},
   "outputs": [
    {
     "name": "stdout",
     "output_type": "stream",
     "text": [
      "[ 97.66  98.99]\n"
     ]
    }
   ],
   "source": [
    "bs_replicates_2 = draw_bs_reps(x,np.mean,10000)\n",
    "\n",
    "conf_int_bootstrap = np.percentile(bs_replicates_2,[2.5,97.5])\n",
    "\n",
    "print(conf_int_bootstrap)"
   ]
  },
  {
   "cell_type": "markdown",
   "metadata": {},
   "source": [
    "5.) The confidence interval for the true population mean(using one sample of size 10) is between 97.96 and 98.79. The confidence interval for the true population mean(using one sample of size 10)(using bootstrapping) is between 98.01 and 98.72. Abnormal temperatures would be any temperature below 97.96 or greater than 98.79."
   ]
  },
  {
   "cell_type": "code",
   "execution_count": 53,
   "metadata": {},
   "outputs": [
    {
     "name": "stdout",
     "output_type": "stream",
     "text": [
      "65\n"
     ]
    }
   ],
   "source": [
    "female_temp = df.loc[df['gender'] == 'F']\n",
    "print(len(female_temp['temperature']))"
   ]
  },
  {
   "cell_type": "code",
   "execution_count": 54,
   "metadata": {},
   "outputs": [
    {
     "name": "stdout",
     "output_type": "stream",
     "text": [
      "65\n"
     ]
    }
   ],
   "source": [
    "male_temp = df.loc[df['gender'] == 'M']\n",
    "print(len(male_temp))"
   ]
  },
  {
   "cell_type": "code",
   "execution_count": 55,
   "metadata": {},
   "outputs": [
    {
     "name": "stdout",
     "output_type": "stream",
     "text": [
      "0.289230769231\n",
      "98.2492307692\n",
      "98.2492307692\n",
      "[-0.08769231 -0.02153846  0.12307692 ...,  0.02769231  0.          0.11692308]\n",
      "('p-value =', 0.0117)\n"
     ]
    }
   ],
   "source": [
    "np_male_temp = male_temp['temperature'].values\n",
    "\n",
    "np_female_temp = female_temp['temperature'].values\n",
    "\n",
    "diff_of_means = np.mean(np_female_temp) - np.mean(np_male_temp)\n",
    "\n",
    "print(diff_of_means)\n",
    "\n",
    "combined_mean = np.mean(temp)\n",
    "\n",
    "male_mean_shifted = np_male_temp - np.mean(np_male_temp) + combined_mean\n",
    "\n",
    "print(np.mean(male_mean_shifted))\n",
    "\n",
    "female_mean_shifted = np_female_temp - np.mean(np_female_temp) + combined_mean\n",
    "\n",
    "print(np.mean(female_mean_shifted))\n",
    "\n",
    "bs_replicates_a = draw_bs_reps(male_mean_shifted, np.mean, 10000)\n",
    "\n",
    "bs_replicates_b = draw_bs_reps(female_mean_shifted, np.mean, 10000)\n",
    "\n",
    "bs_replicates = bs_replicates_b - bs_replicates_a\n",
    "\n",
    "print(bs_replicates)\n",
    "\n",
    "c = np.true_divide(np.sum(bs_replicates >= diff_of_means),10000) \n",
    "\n",
    "print('p-value =', c)"
   ]
  },
  {
   "cell_type": "markdown",
   "metadata": {},
   "source": [
    "6.) I used a two sample hypothesis test with a bootstrap approach. Since the p-value of 0.0106 is low, I can reject the the null hypothesis that there is no difference between the mean of male temps and female temps. I fail to reject the alternative hypothesis stating there is a difference in means between male and female temp. The story I can conclude that there is a difference in normal temp between males and females."
   ]
  }
 ],
 "metadata": {
  "kernelspec": {
   "display_name": "Python 2",
   "language": "python",
   "name": "python2"
  },
  "language_info": {
   "codemirror_mode": {
    "name": "ipython",
    "version": 2
   },
   "file_extension": ".py",
   "mimetype": "text/x-python",
   "name": "python",
   "nbconvert_exporter": "python",
   "pygments_lexer": "ipython2",
   "version": "2.7.14"
  }
 },
 "nbformat": 4,
 "nbformat_minor": 1
}
