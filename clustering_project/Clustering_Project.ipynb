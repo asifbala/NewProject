{
 "cells": [
  {
   "cell_type": "markdown",
   "metadata": {},
   "source": [
    "# Customer Segmentation using Clustering\n",
    "***\n",
    "This mini-project is based on [this blog post](http://blog.yhat.com/posts/customer-segmentation-using-python.html) by yhat. Please feel free to refer to the post for additional information, and solutions."
   ]
  },
  {
   "cell_type": "code",
   "execution_count": 193,
   "metadata": {},
   "outputs": [],
   "source": [
    "%matplotlib inline\n",
    "import pandas as pd\n",
    "import sklearn\n",
    "import matplotlib.pyplot as plt\n",
    "import seaborn as sns\n",
    "\n",
    "# Setup Seaborn\n",
    "sns.set_style(\"whitegrid\")\n",
    "sns.set_context(\"poster\")"
   ]
  },
  {
   "cell_type": "markdown",
   "metadata": {},
   "source": [
    "## Data\n",
    "\n",
    "The dataset contains information on marketing newsletters/e-mail campaigns (e-mail offers sent to customers) and transaction level data from customers. The transactional data shows which offer customers responded to, and what the customer ended up buying. The data is presented as an Excel workbook containing two worksheets. Each worksheet contains a different dataset."
   ]
  },
  {
   "cell_type": "code",
   "execution_count": 194,
   "metadata": {},
   "outputs": [
    {
     "name": "stderr",
     "output_type": "stream",
     "text": [
      "/Users/asifbala/anaconda3/lib/python3.7/site-packages/pandas/io/excel.py:329: FutureWarning: The `sheetname` keyword is deprecated, use `sheet_name` instead\n",
      "  **kwds)\n"
     ]
    },
    {
     "data": {
      "text/html": [
       "<div>\n",
       "<style scoped>\n",
       "    .dataframe tbody tr th:only-of-type {\n",
       "        vertical-align: middle;\n",
       "    }\n",
       "\n",
       "    .dataframe tbody tr th {\n",
       "        vertical-align: top;\n",
       "    }\n",
       "\n",
       "    .dataframe thead th {\n",
       "        text-align: right;\n",
       "    }\n",
       "</style>\n",
       "<table border=\"1\" class=\"dataframe\">\n",
       "  <thead>\n",
       "    <tr style=\"text-align: right;\">\n",
       "      <th></th>\n",
       "      <th>offer_id</th>\n",
       "      <th>campaign</th>\n",
       "      <th>varietal</th>\n",
       "      <th>min_qty</th>\n",
       "      <th>discount</th>\n",
       "      <th>origin</th>\n",
       "      <th>past_peak</th>\n",
       "    </tr>\n",
       "  </thead>\n",
       "  <tbody>\n",
       "    <tr>\n",
       "      <th>0</th>\n",
       "      <td>1</td>\n",
       "      <td>January</td>\n",
       "      <td>Malbec</td>\n",
       "      <td>72</td>\n",
       "      <td>56</td>\n",
       "      <td>France</td>\n",
       "      <td>False</td>\n",
       "    </tr>\n",
       "    <tr>\n",
       "      <th>1</th>\n",
       "      <td>2</td>\n",
       "      <td>January</td>\n",
       "      <td>Pinot Noir</td>\n",
       "      <td>72</td>\n",
       "      <td>17</td>\n",
       "      <td>France</td>\n",
       "      <td>False</td>\n",
       "    </tr>\n",
       "    <tr>\n",
       "      <th>2</th>\n",
       "      <td>3</td>\n",
       "      <td>February</td>\n",
       "      <td>Espumante</td>\n",
       "      <td>144</td>\n",
       "      <td>32</td>\n",
       "      <td>Oregon</td>\n",
       "      <td>True</td>\n",
       "    </tr>\n",
       "    <tr>\n",
       "      <th>3</th>\n",
       "      <td>4</td>\n",
       "      <td>February</td>\n",
       "      <td>Champagne</td>\n",
       "      <td>72</td>\n",
       "      <td>48</td>\n",
       "      <td>France</td>\n",
       "      <td>True</td>\n",
       "    </tr>\n",
       "    <tr>\n",
       "      <th>4</th>\n",
       "      <td>5</td>\n",
       "      <td>February</td>\n",
       "      <td>Cabernet Sauvignon</td>\n",
       "      <td>144</td>\n",
       "      <td>44</td>\n",
       "      <td>New Zealand</td>\n",
       "      <td>True</td>\n",
       "    </tr>\n",
       "  </tbody>\n",
       "</table>\n",
       "</div>"
      ],
      "text/plain": [
       "   offer_id  campaign            varietal  min_qty  discount       origin  \\\n",
       "0         1   January              Malbec       72        56       France   \n",
       "1         2   January          Pinot Noir       72        17       France   \n",
       "2         3  February           Espumante      144        32       Oregon   \n",
       "3         4  February           Champagne       72        48       France   \n",
       "4         5  February  Cabernet Sauvignon      144        44  New Zealand   \n",
       "\n",
       "   past_peak  \n",
       "0      False  \n",
       "1      False  \n",
       "2       True  \n",
       "3       True  \n",
       "4       True  "
      ]
     },
     "execution_count": 194,
     "metadata": {},
     "output_type": "execute_result"
    }
   ],
   "source": [
    "df_offers = pd.read_excel(\"./WineKMC.xlsx\", sheetname=0)\n",
    "df_offers.columns = [\"offer_id\", \"campaign\", \"varietal\", \"min_qty\", \"discount\", \"origin\", \"past_peak\"]\n",
    "df_offers.head()"
   ]
  },
  {
   "cell_type": "markdown",
   "metadata": {},
   "source": [
    "We see that the first dataset contains information about each offer such as the month it is in effect and several attributes about the wine that the offer refers to: the variety, minimum quantity, discount, country of origin and whether or not it is past peak. The second dataset in the second worksheet contains transactional data -- which offer each customer responded to."
   ]
  },
  {
   "cell_type": "code",
   "execution_count": 195,
   "metadata": {},
   "outputs": [
    {
     "data": {
      "text/html": [
       "<div>\n",
       "<style scoped>\n",
       "    .dataframe tbody tr th:only-of-type {\n",
       "        vertical-align: middle;\n",
       "    }\n",
       "\n",
       "    .dataframe tbody tr th {\n",
       "        vertical-align: top;\n",
       "    }\n",
       "\n",
       "    .dataframe thead th {\n",
       "        text-align: right;\n",
       "    }\n",
       "</style>\n",
       "<table border=\"1\" class=\"dataframe\">\n",
       "  <thead>\n",
       "    <tr style=\"text-align: right;\">\n",
       "      <th></th>\n",
       "      <th>customer_name</th>\n",
       "      <th>offer_id</th>\n",
       "      <th>n</th>\n",
       "    </tr>\n",
       "  </thead>\n",
       "  <tbody>\n",
       "    <tr>\n",
       "      <th>0</th>\n",
       "      <td>Smith</td>\n",
       "      <td>2</td>\n",
       "      <td>1</td>\n",
       "    </tr>\n",
       "    <tr>\n",
       "      <th>1</th>\n",
       "      <td>Smith</td>\n",
       "      <td>24</td>\n",
       "      <td>1</td>\n",
       "    </tr>\n",
       "    <tr>\n",
       "      <th>2</th>\n",
       "      <td>Johnson</td>\n",
       "      <td>17</td>\n",
       "      <td>1</td>\n",
       "    </tr>\n",
       "    <tr>\n",
       "      <th>3</th>\n",
       "      <td>Johnson</td>\n",
       "      <td>24</td>\n",
       "      <td>1</td>\n",
       "    </tr>\n",
       "    <tr>\n",
       "      <th>4</th>\n",
       "      <td>Johnson</td>\n",
       "      <td>26</td>\n",
       "      <td>1</td>\n",
       "    </tr>\n",
       "  </tbody>\n",
       "</table>\n",
       "</div>"
      ],
      "text/plain": [
       "  customer_name  offer_id  n\n",
       "0         Smith         2  1\n",
       "1         Smith        24  1\n",
       "2       Johnson        17  1\n",
       "3       Johnson        24  1\n",
       "4       Johnson        26  1"
      ]
     },
     "execution_count": 195,
     "metadata": {},
     "output_type": "execute_result"
    }
   ],
   "source": [
    "df_transactions = pd.read_excel(\"./WineKMC.xlsx\", sheetname=1)\n",
    "df_transactions.columns = [\"customer_name\", \"offer_id\"]\n",
    "df_transactions['n'] = 1\n",
    "df_transactions.head()"
   ]
  },
  {
   "cell_type": "markdown",
   "metadata": {},
   "source": [
    "## Data wrangling"
   ]
  },
  {
   "cell_type": "markdown",
   "metadata": {},
   "source": [
    "We're trying to learn more about how our customers behave, so we can use their behavior (whether or not they purchased something based on an offer) as a way to group similar minded customers together. We can then study those groups to look for patterns and trends which can help us formulate future offers.\n",
    "\n",
    "The first thing we need is a way to compare customers. To do this, we're going to create a matrix that contains each customer and a 0/1 indicator for whether or not they responded to a given offer. "
   ]
  },
  {
   "cell_type": "markdown",
   "metadata": {},
   "source": [
    "<div class=\"span5 alert alert-info\">\n",
    "<h3>Checkup Exercise Set I</h3>\n",
    "\n",
    "<p><b>Exercise:</b> Create a data frame where each row has the following columns (Use the pandas [`merge`](http://pandas.pydata.org/pandas-docs/stable/generated/pandas.DataFrame.merge.html) and [`pivot_table`](http://pandas.pydata.org/pandas-docs/stable/generated/pandas.pivot_table.html) functions for this purpose):\n",
    "<ul>\n",
    "<li> customer_name\n",
    "<li> One column for each offer, with a 1 if the customer responded to the offer\n",
    "</ul>\n",
    "<p>Make sure you also deal with any weird values such as `NaN`. Read the documentation to develop your solution.</p>\n",
    "</div>"
   ]
  },
  {
   "cell_type": "code",
   "execution_count": 202,
   "metadata": {
    "scrolled": true
   },
   "outputs": [
    {
     "name": "stdout",
     "output_type": "stream",
     "text": [
      "offer_id        1    2    3    4    5    6    7    8    9    10 ...    23  \\\n",
      "customer_name                                                   ...         \n",
      "Adams          0.0  0.0  0.0  0.0  0.0  0.0  0.0  0.0  0.0  0.0 ...   0.0   \n",
      "Allen          0.0  0.0  0.0  0.0  0.0  0.0  0.0  0.0  1.0  0.0 ...   0.0   \n",
      "Anderson       0.0  0.0  0.0  0.0  0.0  0.0  0.0  0.0  0.0  0.0 ...   0.0   \n",
      "Bailey         0.0  0.0  0.0  0.0  0.0  0.0  1.0  0.0  0.0  0.0 ...   0.0   \n",
      "Baker          0.0  0.0  0.0  0.0  0.0  0.0  1.0  0.0  0.0  1.0 ...   0.0   \n",
      "Barnes         0.0  0.0  0.0  0.0  0.0  0.0  0.0  0.0  0.0  1.0 ...   0.0   \n",
      "Bell           0.0  1.0  0.0  0.0  0.0  0.0  0.0  0.0  0.0  0.0 ...   0.0   \n",
      "Bennett        0.0  0.0  0.0  0.0  0.0  0.0  0.0  1.0  0.0  0.0 ...   0.0   \n",
      "Brooks         0.0  0.0  1.0  0.0  0.0  0.0  0.0  1.0  0.0  0.0 ...   0.0   \n",
      "Brown          0.0  0.0  0.0  0.0  0.0  0.0  1.0  0.0  0.0  0.0 ...   0.0   \n",
      "Butler         1.0  0.0  0.0  1.0  0.0  0.0  0.0  0.0  0.0  0.0 ...   0.0   \n",
      "Campbell       0.0  1.0  0.0  0.0  0.0  0.0  0.0  0.0  0.0  0.0 ...   0.0   \n",
      "Carter         0.0  0.0  0.0  0.0  0.0  0.0  1.0  0.0  0.0  0.0 ...   0.0   \n",
      "Clark          0.0  0.0  0.0  1.0  0.0  0.0  0.0  0.0  0.0  0.0 ...   0.0   \n",
      "Collins        0.0  0.0  0.0  0.0  0.0  0.0  0.0  0.0  0.0  0.0 ...   0.0   \n",
      "Cook           0.0  0.0  0.0  0.0  0.0  0.0  0.0  0.0  0.0  0.0 ...   0.0   \n",
      "Cooper         0.0  0.0  0.0  1.0  0.0  0.0  0.0  0.0  0.0  0.0 ...   0.0   \n",
      "Cox            0.0  1.0  0.0  0.0  0.0  0.0  0.0  0.0  0.0  0.0 ...   0.0   \n",
      "Cruz           0.0  0.0  0.0  0.0  0.0  0.0  0.0  0.0  0.0  0.0 ...   0.0   \n",
      "Davis          0.0  0.0  0.0  0.0  0.0  0.0  0.0  0.0  0.0  0.0 ...   0.0   \n",
      "Diaz           0.0  0.0  0.0  0.0  0.0  0.0  1.0  1.0  0.0  0.0 ...   0.0   \n",
      "Edwards        0.0  0.0  0.0  0.0  0.0  0.0  0.0  1.0  0.0  0.0 ...   0.0   \n",
      "Evans          0.0  0.0  0.0  0.0  0.0  0.0  0.0  0.0  0.0  0.0 ...   0.0   \n",
      "Fisher         1.0  1.0  0.0  0.0  0.0  0.0  0.0  0.0  0.0  0.0 ...   0.0   \n",
      "Flores         0.0  0.0  0.0  0.0  0.0  0.0  0.0  0.0  0.0  0.0 ...   0.0   \n",
      "Foster         1.0  0.0  0.0  0.0  0.0  0.0  0.0  0.0  1.0  0.0 ...   1.0   \n",
      "Garcia         0.0  0.0  0.0  0.0  0.0  0.0  0.0  0.0  0.0  0.0 ...   0.0   \n",
      "Gomez          0.0  0.0  0.0  0.0  0.0  0.0  0.0  0.0  0.0  0.0 ...   0.0   \n",
      "Gonzalez       0.0  0.0  0.0  0.0  0.0  0.0  0.0  0.0  1.0  0.0 ...   0.0   \n",
      "Gray           0.0  0.0  0.0  0.0  0.0  0.0  0.0  0.0  0.0  0.0 ...   0.0   \n",
      "...            ...  ...  ...  ...  ...  ...  ...  ...  ...  ... ...   ...   \n",
      "Reed           0.0  0.0  0.0  0.0  1.0  0.0  0.0  0.0  0.0  0.0 ...   0.0   \n",
      "Reyes          0.0  0.0  0.0  0.0  0.0  0.0  0.0  0.0  1.0  0.0 ...   1.0   \n",
      "Richardson     0.0  0.0  1.0  0.0  0.0  1.0  0.0  0.0  0.0  0.0 ...   0.0   \n",
      "Rivera         0.0  0.0  0.0  0.0  0.0  0.0  1.0  0.0  0.0  0.0 ...   0.0   \n",
      "Roberts        0.0  0.0  0.0  0.0  0.0  0.0  0.0  0.0  0.0  0.0 ...   0.0   \n",
      "Robinson       0.0  0.0  0.0  0.0  0.0  0.0  1.0  0.0  0.0  0.0 ...   0.0   \n",
      "Rodriguez      0.0  1.0  0.0  0.0  0.0  0.0  0.0  0.0  0.0  0.0 ...   0.0   \n",
      "Rogers         0.0  0.0  1.0  0.0  0.0  0.0  1.0  1.0  0.0  0.0 ...   0.0   \n",
      "Ross           0.0  0.0  0.0  0.0  0.0  0.0  0.0  0.0  0.0  0.0 ...   0.0   \n",
      "Russell        0.0  0.0  0.0  0.0  0.0  0.0  0.0  0.0  0.0  0.0 ...   0.0   \n",
      "Sanchez        0.0  0.0  0.0  1.0  1.0  0.0  0.0  0.0  0.0  0.0 ...   0.0   \n",
      "Sanders        1.0  0.0  0.0  1.0  1.0  1.0  0.0  0.0  1.0  0.0 ...   0.0   \n",
      "Scott          0.0  0.0  0.0  0.0  0.0  1.0  0.0  0.0  0.0  0.0 ...   1.0   \n",
      "Smith          0.0  1.0  0.0  0.0  0.0  0.0  0.0  0.0  0.0  0.0 ...   0.0   \n",
      "Stewart        0.0  0.0  0.0  0.0  0.0  0.0  0.0  1.0  0.0  0.0 ...   0.0   \n",
      "Sullivan       0.0  0.0  0.0  0.0  0.0  0.0  0.0  1.0  0.0  0.0 ...   0.0   \n",
      "Taylor         0.0  0.0  0.0  0.0  0.0  0.0  1.0  0.0  0.0  0.0 ...   0.0   \n",
      "Thomas         1.0  0.0  0.0  1.0  0.0  0.0  0.0  0.0  1.0  0.0 ...   0.0   \n",
      "Thompson       0.0  0.0  0.0  0.0  0.0  0.0  0.0  0.0  1.0  0.0 ...   0.0   \n",
      "Torres         0.0  0.0  0.0  0.0  0.0  0.0  0.0  1.0  0.0  0.0 ...   0.0   \n",
      "Turner         0.0  0.0  0.0  1.0  0.0  1.0  0.0  0.0  0.0  0.0 ...   0.0   \n",
      "Walker         0.0  0.0  0.0  0.0  0.0  0.0  0.0  0.0  0.0  0.0 ...   0.0   \n",
      "Ward           0.0  0.0  0.0  1.0  0.0  0.0  0.0  0.0  0.0  0.0 ...   0.0   \n",
      "Watson         0.0  0.0  0.0  0.0  0.0  0.0  1.0  0.0  0.0  0.0 ...   0.0   \n",
      "White          0.0  0.0  0.0  0.0  0.0  0.0  0.0  0.0  0.0  0.0 ...   0.0   \n",
      "Williams       0.0  0.0  0.0  0.0  0.0  0.0  0.0  0.0  0.0  0.0 ...   0.0   \n",
      "Wilson         0.0  0.0  0.0  0.0  0.0  0.0  0.0  1.0  0.0  0.0 ...   0.0   \n",
      "Wood           1.0  0.0  0.0  0.0  0.0  0.0  0.0  0.0  0.0  1.0 ...   0.0   \n",
      "Wright         0.0  0.0  0.0  1.0  0.0  1.0  0.0  0.0  0.0  0.0 ...   0.0   \n",
      "Young          0.0  0.0  0.0  0.0  0.0  1.0  0.0  0.0  1.0  0.0 ...   0.0   \n",
      "\n",
      "offer_id        24   25   26   27   28   29   30   31   32  \n",
      "customer_name                                               \n",
      "Adams          0.0  0.0  0.0  0.0  0.0  1.0  1.0  0.0  0.0  \n",
      "Allen          0.0  0.0  0.0  1.0  0.0  0.0  0.0  0.0  0.0  \n",
      "Anderson       1.0  0.0  1.0  0.0  0.0  0.0  0.0  0.0  0.0  \n",
      "Bailey         0.0  0.0  0.0  0.0  0.0  0.0  1.0  0.0  0.0  \n",
      "Baker          0.0  0.0  0.0  0.0  0.0  0.0  0.0  1.0  0.0  \n",
      "Barnes         0.0  0.0  0.0  0.0  0.0  0.0  0.0  1.0  0.0  \n",
      "Bell           1.0  0.0  1.0  0.0  0.0  0.0  0.0  0.0  0.0  \n",
      "Bennett        0.0  0.0  0.0  0.0  0.0  1.0  0.0  0.0  0.0  \n",
      "Brooks         0.0  0.0  0.0  0.0  0.0  0.0  0.0  0.0  0.0  \n",
      "Brown          0.0  0.0  0.0  0.0  0.0  1.0  1.0  0.0  0.0  \n",
      "Butler         0.0  0.0  0.0  0.0  1.0  0.0  1.0  0.0  0.0  \n",
      "Campbell       1.0  0.0  1.0  0.0  0.0  0.0  0.0  0.0  0.0  \n",
      "Carter         0.0  0.0  0.0  0.0  0.0  1.0  1.0  0.0  0.0  \n",
      "Clark          0.0  0.0  0.0  0.0  1.0  0.0  0.0  1.0  0.0  \n",
      "Collins        0.0  0.0  0.0  0.0  0.0  0.0  1.0  0.0  0.0  \n",
      "Cook           1.0  0.0  1.0  0.0  0.0  0.0  0.0  0.0  0.0  \n",
      "Cooper         0.0  0.0  0.0  0.0  0.0  0.0  0.0  0.0  1.0  \n",
      "Cox            1.0  0.0  1.0  0.0  0.0  0.0  0.0  0.0  0.0  \n",
      "Cruz           0.0  0.0  0.0  0.0  0.0  1.0  1.0  0.0  0.0  \n",
      "Davis          0.0  1.0  0.0  0.0  0.0  0.0  0.0  0.0  0.0  \n",
      "Diaz           0.0  0.0  0.0  0.0  0.0  1.0  1.0  0.0  0.0  \n",
      "Edwards        0.0  0.0  0.0  1.0  0.0  0.0  0.0  0.0  0.0  \n",
      "Evans          0.0  0.0  0.0  1.0  0.0  0.0  0.0  0.0  0.0  \n",
      "Fisher         0.0  0.0  0.0  0.0  1.0  0.0  1.0  1.0  0.0  \n",
      "Flores         1.0  0.0  0.0  0.0  0.0  0.0  0.0  0.0  0.0  \n",
      "Foster         0.0  0.0  0.0  0.0  0.0  0.0  0.0  0.0  0.0  \n",
      "Garcia         0.0  0.0  0.0  0.0  0.0  0.0  0.0  0.0  0.0  \n",
      "Gomez          0.0  1.0  0.0  0.0  0.0  0.0  0.0  0.0  1.0  \n",
      "Gonzalez       0.0  0.0  0.0  0.0  0.0  0.0  0.0  1.0  0.0  \n",
      "Gray           0.0  0.0  1.0  0.0  0.0  0.0  0.0  0.0  0.0  \n",
      "...            ...  ...  ...  ...  ...  ...  ...  ...  ...  \n",
      "Reed           0.0  0.0  0.0  0.0  0.0  0.0  0.0  0.0  0.0  \n",
      "Reyes          0.0  0.0  0.0  0.0  0.0  0.0  0.0  0.0  0.0  \n",
      "Richardson     0.0  0.0  0.0  0.0  0.0  0.0  0.0  0.0  0.0  \n",
      "Rivera         0.0  0.0  0.0  0.0  0.0  0.0  0.0  0.0  0.0  \n",
      "Roberts        0.0  0.0  0.0  0.0  0.0  0.0  0.0  1.0  0.0  \n",
      "Robinson       0.0  0.0  0.0  0.0  0.0  1.0  0.0  0.0  0.0  \n",
      "Rodriguez      0.0  0.0  1.0  0.0  0.0  0.0  0.0  0.0  0.0  \n",
      "Rogers         0.0  0.0  0.0  0.0  0.0  0.0  0.0  0.0  0.0  \n",
      "Ross           0.0  0.0  0.0  0.0  0.0  0.0  0.0  0.0  0.0  \n",
      "Russell        0.0  0.0  1.0  0.0  0.0  0.0  0.0  0.0  0.0  \n",
      "Sanchez        0.0  0.0  1.0  0.0  0.0  0.0  0.0  0.0  0.0  \n",
      "Sanders        0.0  1.0  1.0  0.0  0.0  0.0  0.0  0.0  0.0  \n",
      "Scott          0.0  0.0  0.0  0.0  0.0  0.0  0.0  0.0  0.0  \n",
      "Smith          1.0  0.0  0.0  0.0  0.0  0.0  0.0  0.0  0.0  \n",
      "Stewart        0.0  0.0  0.0  0.0  0.0  1.0  1.0  0.0  0.0  \n",
      "Sullivan       0.0  0.0  0.0  0.0  0.0  0.0  0.0  0.0  0.0  \n",
      "Taylor         0.0  0.0  0.0  0.0  0.0  1.0  1.0  0.0  0.0  \n",
      "Thomas         0.0  0.0  1.0  0.0  0.0  0.0  0.0  0.0  0.0  \n",
      "Thompson       0.0  1.0  0.0  0.0  0.0  0.0  1.0  0.0  0.0  \n",
      "Torres         0.0  0.0  0.0  0.0  0.0  0.0  0.0  0.0  0.0  \n",
      "Turner         0.0  0.0  0.0  1.0  0.0  0.0  0.0  1.0  0.0  \n",
      "Walker         0.0  0.0  0.0  0.0  0.0  1.0  0.0  0.0  0.0  \n",
      "Ward           0.0  0.0  0.0  0.0  0.0  0.0  0.0  0.0  0.0  \n",
      "Watson         0.0  0.0  0.0  0.0  0.0  1.0  0.0  0.0  0.0  \n",
      "White          0.0  1.0  0.0  0.0  0.0  0.0  1.0  0.0  0.0  \n",
      "Williams       0.0  0.0  0.0  0.0  0.0  0.0  0.0  1.0  0.0  \n",
      "Wilson         0.0  0.0  0.0  0.0  0.0  0.0  1.0  0.0  0.0  \n",
      "Wood           0.0  0.0  0.0  0.0  0.0  0.0  0.0  1.0  0.0  \n",
      "Wright         0.0  0.0  0.0  1.0  0.0  0.0  0.0  0.0  0.0  \n",
      "Young          0.0  0.0  0.0  0.0  0.0  0.0  0.0  1.0  1.0  \n",
      "\n",
      "[100 rows x 32 columns]\n"
     ]
    }
   ],
   "source": [
    "new_df = df_transactions.merge(df_offers,left_on='offer_id',right_on='offer_id')\n",
    "\n",
    "new_df = pd.pivot_table(new_df, columns=['offer_id'],index=['customer_name'],values='n')\n",
    "\n",
    "new_df = new_df.fillna(0)\n",
    "\n",
    "print(new_df)"
   ]
  },
  {
   "cell_type": "markdown",
   "metadata": {},
   "source": [
    "## K-Means Clustering\n",
    "\n",
    "Recall that in K-Means Clustering we want to *maximize* the distance between centroids and *minimize* the distance between data points and the respective centroid for the cluster they are in. True evaluation for unsupervised learning would require labeled data; however, we can use a variety of intuitive metrics to try to pick the number of clusters K. We will introduce two methods: the Elbow method, the Silhouette method and the gap statistic."
   ]
  },
  {
   "cell_type": "markdown",
   "metadata": {},
   "source": [
    "### Choosing K: The Elbow Sum-of-Squares Method\n",
    "\n",
    "The first method looks at the sum-of-squares error in each cluster against $K$. We compute the distance from each data point to the center of the cluster (centroid) to which the data point was assigned. \n",
    "\n",
    "$$SS = \\sum_k \\sum_{x_i \\in C_k} \\sum_{x_j \\in C_k} \\left( x_i - x_j \\right)^2 = \\sum_k \\sum_{x_i \\in C_k} \\left( x_i - \\mu_k \\right)^2$$\n",
    "\n",
    "where $x_i$ is a point, $C_k$ represents cluster $k$ and $\\mu_k$ is the centroid for cluster $k$. We can plot SS vs. $K$ and choose the *elbow point* in the plot as the best value for $K$. The elbow point is the point at which the plot starts descending much more slowly. "
   ]
  },
  {
   "cell_type": "markdown",
   "metadata": {},
   "source": [
    "<div class=\"span5 alert alert-info\">\n",
    "<h3>Checkup Exercise Set II</h3>\n",
    "\n",
    "<p><b>Exercise:</b></p> \n",
    "<ul>\n",
    "<li> What values of $SS$ do you believe represent better clusterings? Why?\n",
    "<li> Create a numpy matrix `x_cols` with only the columns representing the offers (i.e. the 0/1 colums) \n",
    "<li> Write code that applies the [`KMeans`](http://scikit-learn.org/stable/modules/generated/sklearn.cluster.KMeans.html) clustering method from scikit-learn to this matrix. \n",
    "<li> Construct a plot showing $SS$ for each $K$ and pick $K$ using this plot. For simplicity, test $2 \\le K \\le 10$.\n",
    "<li> Make a bar chart showing the number of points in each cluster for k-means under the best $K$.\n",
    "<li> What challenges did you experience using the Elbow method to pick $K$?\n",
    "</ul>\n",
    "</div>"
   ]
  },
  {
   "cell_type": "code",
   "execution_count": 197,
   "metadata": {},
   "outputs": [
    {
     "name": "stdout",
     "output_type": "stream",
     "text": [
      "[[0. 0. 0. ... 1. 0. 0.]\n",
      " [0. 0. 0. ... 0. 0. 0.]\n",
      " [0. 0. 0. ... 0. 0. 0.]\n",
      " ...\n",
      " [1. 0. 0. ... 0. 1. 0.]\n",
      " [0. 0. 0. ... 0. 0. 0.]\n",
      " [0. 0. 0. ... 0. 1. 1.]]\n",
      "[251.46031746031744, 227.625, 214.8799603174603, 207.14976076555024, 198.74999510252056, 186.99147727272725, 177.9788961038961, 173.02916666666667]\n"
     ]
    },
    {
     "data": {
      "image/png": "[encoded data removed]",
      "text/plain": [
       "<Figure size 432x288 with 1 Axes>"
      ]
     },
     "metadata": {},
     "output_type": "display_data"
    },
    {
     "name": "stdout",
     "output_type": "stream",
     "text": [
      "KMeans(algorithm='auto', copy_x=True, init='k-means++', max_iter=300,\n",
      "    n_clusters=4, n_init=10, n_jobs=None, precompute_distances='auto',\n",
      "    random_state=0, tol=0.0001, verbose=0)\n",
      "[2 3 1 2 3 3 1 2 3 2 3 1 2 3 3 1 0 1 2 3 2 2 3 3 1 3 3 3 3 1 2 2 3 0 2 2 3\n",
      " 2 3 2 1 1 2 0 2 0 2 2 3 3 3 0 3 1 0 2 1 2 2 3 3 2 3 2 2 1 1 3 3 3 3 3 0 2\n",
      " 3 2 1 2 2 1 0 0 0 1 2 2 2 3 3 2 0 2 3 2 3 3 2 3 0 0]\n",
      "Counter({3: 36, 2: 35, 1: 16, 0: 13})\n"
     ]
    },
    {
     "data": {
      "image/png": "[encoded data removed]",
      "text/plain": [
       "<Figure size 432x288 with 1 Axes>"
      ]
     },
     "metadata": {},
     "output_type": "display_data"
    }
   ],
   "source": [
    "from sklearn.cluster import KMeans\n",
    "import numpy as np\n",
    "import matplotlib.pyplot as plt\n",
    "from collections import Counter, defaultdict\n",
    "\n",
    "x_cols = np.array(new_df)\n",
    "\n",
    "print(x_cols)\n",
    "\n",
    "Ks = range(2,10)\n",
    "\n",
    "inertias = []\n",
    "\n",
    "for k in Ks:\n",
    "    kmeans = KMeans(n_clusters=k,random_state=0)\n",
    "    kmeans.fit(x_cols)\n",
    "    inertias.append(kmeans.inertia_)\n",
    "\n",
    "print(inertias)\n",
    "\n",
    "#4 Clusters gets the best result. Decreases most slowly at 4 clusters.\n",
    "\n",
    "plt.plot(Ks,inertias,'-o')\n",
    "plt.xlabel('# of clusters,k')\n",
    "plt.ylabel('inertia')\n",
    "plt.xticks(Ks)\n",
    "plt.show()\n",
    "\n",
    "model = KMeans(n_clusters=4,random_state=0)\n",
    "model.fit(x_cols)\n",
    "\n",
    "print(model)\n",
    "\n",
    "print(model.labels_)\n",
    "\n",
    "counter = Counter(model.labels_)\n",
    "\n",
    "print(counter)\n",
    "\n",
    "plt.bar(range(len(counter)), list(counter.values()), align='center')\n",
    "plt.xticks(range(len(counter)), list(counter.keys()))\n",
    "plt.show()"
   ]
  },
  {
   "cell_type": "markdown",
   "metadata": {},
   "source": [
    "### Choosing K: The Silhouette Method\n",
    "\n",
    "There exists another method that measures how well each datapoint $x_i$ \"fits\" its assigned cluster *and also* how poorly it fits into other clusters. This is a different way of looking at the same objective. Denote $a_{x_i}$ as the *average* distance from $x_i$ to all other points within its own cluster $k$. The lower the value, the better. On the other hand $b_{x_i}$ is the minimum average distance from $x_i$ to points in a different cluster, minimized over clusters. That is, compute separately for each cluster the average distance from $x_i$ to the points within that cluster, and then take the minimum. The silhouette $s(x_i)$ is defined as\n",
    "\n",
    "$$s(x_i) = \\frac{b_{x_i} - a_{x_i}}{\\max{\\left( a_{x_i}, b_{x_i}\\right)}}$$\n",
    "\n",
    "The silhouette score is computed on *every datapoint in every cluster*. The silhouette score ranges from -1 (a poor clustering) to +1 (a very dense clustering) with 0 denoting the situation where clusters overlap. Some criteria for the silhouette coefficient is provided in the table below."
   ]
  },
  {
   "cell_type": "markdown",
   "metadata": {},
   "source": [
    "<pre>\n",
    "\n",
    "| Range       | Interpretation                                |\n",
    "|-------------|-----------------------------------------------|\n",
    "| 0.71 - 1.0  | A strong structure has been found.            |\n",
    "| 0.51 - 0.7  | A reasonable structure has been found.        |\n",
    "| 0.26 - 0.5  | The structure is weak and could be artificial.|\n",
    "| < 0.25      | No substantial structure has been found.      |\n",
    "\n",
    "</pre>\n",
    "Source: http://www.stat.berkeley.edu/~spector/s133/Clus.html"
   ]
  },
  {
   "cell_type": "markdown",
   "metadata": {},
   "source": [
    "Fortunately, scikit-learn provides a function to compute this for us (phew!) called [`sklearn.metrics.silhouette_score`](http://scikit-learn.org/stable/modules/generated/sklearn.metrics.silhouette_score.html). Take a look at [this article](http://scikit-learn.org/stable/auto_examples/cluster/plot_kmeans_silhouette_analysis.html) on picking $K$ in scikit-learn, as it will help you in the next exercise set."
   ]
  },
  {
   "cell_type": "markdown",
   "metadata": {},
   "source": [
    "<div class=\"span5 alert alert-info\">\n",
    "<h3>Checkup Exercise Set III</h3>\n",
    "\n",
    "<p><b>Exercise:</b> Using the documentation for the `silhouette_score` function above, construct a series of silhouette plots like the ones in the article linked above.</p>\n",
    "\n",
    "<p><b>Exercise:</b> Compute the average silhouette score for each $K$ and plot it. What $K$ does the plot suggest we should choose? Does it differ from what we found using the Elbow method?</p>\n",
    "</div>"
   ]
  },
  {
   "cell_type": "code",
   "execution_count": 198,
   "metadata": {},
   "outputs": [
    {
     "name": "stdout",
     "output_type": "stream",
     "text": [
      "[0.08449693651721066, 0.12088714398658584, 0.13720053781493177, 0.11745130472322612, 0.10325924291106423, 0.12048190546794987, 0.09882843090592872, 0.1280591636861987]\n"
     ]
    },
    {
     "data": {
      "image/png": "[encoded data removed]",
      "text/plain": [
       "<Figure size 432x288 with 1 Axes>"
      ]
     },
     "metadata": {},
     "output_type": "display_data"
    }
   ],
   "source": [
    "from sklearn.metrics import silhouette_samples, silhouette_score\n",
    "\n",
    "Ks = range(2,10)\n",
    "\n",
    "avg_silhouette = []\n",
    "\n",
    "for k in Ks:\n",
    "    kmeans = KMeans(n_clusters=k,random_state=21)\n",
    "    kmeans.fit(x_cols)\n",
    "    cluster_labels = kmeans.labels_\n",
    "    silhouette_avg = silhouette_score(x_cols, cluster_labels)\n",
    "    avg_silhouette.append(silhouette_avg)\n",
    "    \n",
    "print(avg_silhouette)\n",
    "    \n",
    "plt.plot(Ks,avg_silhouette,'-o')\n",
    "plt.xlabel('# of clusters,k')\n",
    "plt.ylabel('avg silhouette')\n",
    "plt.xticks(Ks)\n",
    "plt.show()"
   ]
  },
  {
   "cell_type": "markdown",
   "metadata": {},
   "source": [
    "### Choosing $K$: The Gap Statistic\n",
    "\n",
    "There is one last method worth covering for picking $K$, the so-called Gap statistic. The computation for the gap statistic builds on the sum-of-squares established in the Elbow method discussion, and compares it to the sum-of-squares of a \"null distribution,\" that is, a random set of points with no clustering. The estimate for the optimal number of clusters $K$ is the value for which $\\log{SS}$ falls the farthest below that of the reference distribution:\n",
    "\n",
    "$$G_k = E_n^*\\{\\log SS_k\\} - \\log SS_k$$\n",
    "\n",
    "In other words a good clustering yields a much larger difference between the reference distribution and the clustered data. The reference distribution is a Monte Carlo (randomization) procedure that constructs $B$ random distributions of points within the bounding box (limits) of the original data and then applies K-means to this synthetic distribution of data points.. $E_n^*\\{\\log SS_k\\}$ is just the average $SS_k$ over all $B$ replicates. We then compute the standard deviation $\\sigma_{SS}$ of the values of $SS_k$ computed from the $B$ replicates of the reference distribution and compute\n",
    "\n",
    "$$s_k = \\sqrt{1+1/B}\\sigma_{SS}$$\n",
    "\n",
    "Finally, we choose $K=k$ such that $G_k \\geq G_{k+1} - s_{k+1}$."
   ]
  },
  {
   "cell_type": "markdown",
   "metadata": {},
   "source": [
    "### Aside: Choosing $K$ when we Have Labels\n",
    "\n",
    "Unsupervised learning expects that we do not have the labels. In some situations, we may wish to cluster data that is labeled. Computing the optimal number of clusters is much easier if we have access to labels. There are several methods available. We will not go into the math or details since it is rare to have access to the labels, but we provide the names and references of these measures.\n",
    "\n",
    "* Adjusted Rand Index\n",
    "* Mutual Information\n",
    "* V-Measure\n",
    "* Fowlkes–Mallows index\n",
    "\n",
    "See [this article](http://scikit-learn.org/stable/modules/clustering.html) for more information about these metrics."
   ]
  },
  {
   "cell_type": "markdown",
   "metadata": {},
   "source": [
    "## Visualizing Clusters using PCA\n",
    "\n",
    "How do we visualize clusters? If we only had two features, we could likely plot the data as is. But we have 100 data points each containing 32 features (dimensions). Principal Component Analysis (PCA) will help us reduce the dimensionality of our data from 32 to something lower. For a visualization on the coordinate plane, we will use 2 dimensions. In this exercise, we're going to use it to transform our multi-dimensional dataset into a 2 dimensional dataset.\n",
    "\n",
    "This is only one use of PCA for dimension reduction. We can also use PCA when we want to perform regression but we have a set of highly correlated variables. PCA untangles these correlations into a smaller number of features/predictors all of which are orthogonal (not correlated). PCA is also used to reduce a large set of variables into a much smaller one."
   ]
  },
  {
   "cell_type": "markdown",
   "metadata": {},
   "source": [
    "<div class=\"span5 alert alert-info\">\n",
    "<h3>Checkup Exercise Set IV</h3>\n",
    "\n",
    "<p><b>Exercise:</b> Use PCA to plot your clusters:</p>\n",
    "\n",
    "<ul>\n",
    "<li> Use scikit-learn's [`PCA`](http://scikit-learn.org/stable/modules/generated/sklearn.decomposition.PCA.html) function to reduce the dimensionality of your clustering data to 2 components\n",
    "<li> Create a data frame with the following fields:\n",
    "  <ul>\n",
    "  <li> customer name\n",
    "  <li> cluster id the customer belongs to\n",
    "  <li> the two PCA components (label them `x` and `y`)\n",
    "  </ul>\n",
    "<li> Plot a scatterplot of the `x` vs `y` columns\n",
    "<li> Color-code points differently based on cluster ID\n",
    "<li> How do the clusters look? \n",
    "<li> Based on what you see, what seems to be the best value for $K$? Moreover, which method of choosing $K$ seems to have produced the optimal result visually?\n",
    "</ul>\n",
    "\n",
    "<p><b>Exercise:</b> Now look at both the original raw data about the offers and transactions and look at the fitted clusters. Tell a story about the clusters in context of the original data. For example, do the clusters correspond to wine variants or something else interesting?</p>\n",
    "</div>"
   ]
  },
  {
   "cell_type": "code",
   "execution_count": 199,
   "metadata": {},
   "outputs": [
    {
     "name": "stdout",
     "output_type": "stream",
     "text": [
      "(100, 2)\n",
      "                      x         y  cluster_id\n",
      "customer_name                                \n",
      "Adams          1.007580  0.108215           1\n",
      "Allen         -0.287539  0.044715           5\n",
      "Anderson      -0.392032  1.038391           0\n",
      "Bailey         0.699477 -0.022542           1\n",
      "Baker          0.088183 -0.471695           3\n",
      "Barnes        -0.485282 -0.725503           3\n",
      "Bell          -0.591941  1.506500           0\n",
      "Bennett        0.661732  0.090308           4\n",
      "Brooks        -0.118943 -0.577499           4\n",
      "Brown          1.079827 -0.007488           1\n",
      "Butler        -0.240431 -0.617026           2\n",
      "Campbell      -0.522247  1.231406           0\n",
      "Carter         1.260763 -0.014255           1\n",
      "Clark         -0.579221 -0.420475           5\n",
      "Collins        0.193998  0.010306           4\n",
      "Cook          -0.392032  1.038391           0\n",
      "Cooper        -0.406276 -0.045771           5\n",
      "Cox           -0.591941  1.506500           0\n",
      "Cruz           0.736155  0.117752           1\n",
      "Davis         -0.349057 -0.267081           2\n",
      "Diaz           1.412247 -0.123874           1\n",
      "Edwards        0.181048 -0.020653           4\n",
      "Evans         -0.371485 -0.348007           2\n",
      "Fisher        -0.509137 -0.687321           3\n",
      "Flores        -0.239706  0.911844           0\n",
      "Foster        -0.782355 -0.518475           2\n",
      "Garcia        -0.299666  0.006964           4\n",
      "Gomez         -0.412830 -0.012199           5\n",
      "Gonzalez      -0.339146 -0.185585           5\n",
      "Gray          -0.330960  0.607623           4\n",
      "...                 ...       ...         ...\n",
      "Reed          -0.252065  0.100076           4\n",
      "Reyes         -0.266650  0.097532           5\n",
      "Richardson    -0.443190 -0.634112           2\n",
      "Rivera         0.564060  0.056861           1\n",
      "Roberts       -0.202978 -0.134566           3\n",
      "Robinson       0.672985  0.081453           1\n",
      "Rodriguez     -0.403273  0.786296           0\n",
      "Rogers         0.377123 -0.791758           4\n",
      "Ross           0.210842  0.123742           4\n",
      "Russell       -0.273058  0.593281           0\n",
      "Sanchez       -1.077511 -0.229397           2\n",
      "Sanders       -1.274329 -0.114296           5\n",
      "Scott         -0.418022 -0.206640           2\n",
      "Smith         -0.300227  0.829765           0\n",
      "Stewart        1.068574  0.001366           1\n",
      "Sullivan       0.733742  0.058949           4\n",
      "Taylor         1.351253 -0.017026           1\n",
      "Thomas        -1.041879  0.122314           5\n",
      "Thompson       0.135104  0.036918           5\n",
      "Torres         0.281381  0.075254           4\n",
      "Turner        -0.632199 -0.651152           2\n",
      "Walker         0.600737  0.197156           1\n",
      "Ward          -0.226293  0.036352           4\n",
      "Watson         0.672985  0.081453           1\n",
      "White         -0.050484 -0.452883           2\n",
      "Williams      -0.151666 -0.587844           3\n",
      "Wilson         0.688224 -0.013688           4\n",
      "Wood          -0.551215 -0.395670           3\n",
      "Wright        -0.489805 -0.383307           2\n",
      "Young         -0.881994 -1.041788           3\n",
      "\n",
      "[100 rows x 3 columns]\n"
     ]
    }
   ],
   "source": [
    "from sklearn.decomposition import PCA\n",
    "\n",
    "pca = PCA(n_components=2)\n",
    "n_df = pca.fit_transform(x_cols)\n",
    "\n",
    "first_pc = pca.components_[0,:]\n",
    "\n",
    "second_pc = pca.components_[1,:]\n",
    "\n",
    "print(n_df.shape)\n",
    "\n",
    "nu_df = pd.DataFrame({'x':n_df[:,0],'y':n_df[:,1]})\n",
    "\n",
    "nu_df.index = new_df.index\n",
    "\n",
    "nu_df['cluster_id'] = kmeans_sixclusters.labels_\n",
    "\n",
    "print(nu_df)"
   ]
  },
  {
   "cell_type": "markdown",
   "metadata": {},
   "source": [
    "What we've done is we've taken those columns of 0/1 indicator variables, and we've transformed them into a 2-D dataset. We took one column and arbitrarily called it `x` and then called the other `y`. Now we can throw each point into a scatterplot. We color coded each point based on it's cluster so it's easier to see them."
   ]
  },
  {
   "cell_type": "markdown",
   "metadata": {},
   "source": [
    "<div class=\"span5 alert alert-info\">\n",
    "<h3>Exercise Set V</h3>\n",
    "\n",
    "<p>As we saw earlier, PCA has a lot of other uses. Since we wanted to visualize our data in 2 dimensions, restricted the number of dimensions to 2 in PCA. But what is the true optimal number of dimensions?</p>\n",
    "\n",
    "<p><b>Exercise:</b> Using a new PCA object shown in the next cell, plot the `explained_variance_` field and look for the elbow point, the point where the curve's rate of descent seems to slow sharply. This value is one possible value for the optimal number of dimensions. What is it?</p>\n",
    "</div>"
   ]
  },
  {
   "cell_type": "code",
   "execution_count": 200,
   "metadata": {},
   "outputs": [
    {
     "name": "stdout",
     "output_type": "stream",
     "text": [
      "6\n",
      "[0.4096489  0.30753551 0.2022926  0.16703717 0.15015248 0.1434373 ]\n"
     ]
    },
    {
     "data": {
      "image/png": "[encoded data removed]",
      "text/plain": [
       "<Figure size 432x288 with 1 Axes>"
      ]
     },
     "metadata": {},
     "output_type": "display_data"
    }
   ],
   "source": [
    "#your turn\n",
    "# Initialize a new PCA model with a default number of components.\n",
    "import sklearn.decomposition\n",
    "pca = sklearn.decomposition.PCA(n_components=6)\n",
    "cx = pca.fit(x_cols)\n",
    "\n",
    "print(cx.n_components_)\n",
    "\n",
    "print(cx.explained_variance_)\n",
    "\n",
    "plt.plot(cx.explained_variance_)\n",
    "plt.show()\n"
   ]
  },
  {
   "cell_type": "markdown",
   "metadata": {},
   "source": [
    "## Other Clustering Algorithms\n",
    "\n",
    "k-means is only one of a ton of clustering algorithms. Below is a brief description of several clustering algorithms, and the table provides references to the other clustering algorithms in scikit-learn. \n",
    "\n",
    "* **Affinity Propagation** does not require the number of clusters $K$ to be known in advance! AP uses a \"message passing\" paradigm to cluster points based on their similarity. \n",
    "\n",
    "* **Spectral Clustering** uses the eigenvalues of a similarity matrix to reduce the dimensionality of the data before clustering in a lower dimensional space. This is tangentially similar to what we did to visualize k-means clusters using PCA. The number of clusters must be known a priori.\n",
    "\n",
    "* **Ward's Method** applies to hierarchical clustering. Hierarchical clustering algorithms take a set of data and successively divide the observations into more and more clusters at each layer of the hierarchy. Ward's method is used to determine when two clusters in the hierarchy should be combined into one. It is basically an extension of hierarchical clustering. Hierarchical clustering is *divisive*, that is, all observations are part of the same cluster at first, and at each successive iteration, the clusters are made smaller and smaller. With hierarchical clustering, a hierarchy is constructed, and there is not really the concept of \"number of clusters.\" The number of clusters simply determines how low or how high in the hierarchy we reference and can be determined empirically or by looking at the [dendogram](https://docs.scipy.org/doc/scipy-0.18.1/reference/generated/scipy.cluster.hierarchy.dendrogram.html).\n",
    "\n",
    "* **Agglomerative Clustering** is similar to hierarchical clustering but but is not divisive, it is *agglomerative*. That is, every observation is placed into its own cluster and at each iteration or level or the hierarchy, observations are merged into fewer and fewer clusters until convergence. Similar to hierarchical clustering, the constructed hierarchy contains all possible numbers of clusters and it is up to the analyst to pick the number by reviewing statistics or the dendogram.\n",
    "\n",
    "* **DBSCAN** is based on point density rather than distance. It groups together points with many nearby neighbors. DBSCAN is one of the most cited algorithms in the literature. It does not require knowing the number of clusters a priori, but does require specifying the neighborhood size."
   ]
  },
  {
   "cell_type": "markdown",
   "metadata": {},
   "source": [
    "### Clustering Algorithms in Scikit-learn\n",
    "<table border=\"1\">\n",
    "<colgroup>\n",
    "<col width=\"15%\" />\n",
    "<col width=\"16%\" />\n",
    "<col width=\"20%\" />\n",
    "<col width=\"27%\" />\n",
    "<col width=\"22%\" />\n",
    "</colgroup>\n",
    "<thead valign=\"bottom\">\n",
    "<tr><th>Method name</th>\n",
    "<th>Parameters</th>\n",
    "<th>Scalability</th>\n",
    "<th>Use Case</th>\n",
    "<th>Geometry (metric used)</th>\n",
    "</tr>\n",
    "</thead>\n",
    "<tbody valign=\"top\">\n",
    "<tr><td>K-Means</span></a></td>\n",
    "<td>number of clusters</td>\n",
    "<td>Very large<span class=\"pre\">n_samples</span>, medium <span class=\"pre\">n_clusters</span> with\n",
    "MiniBatch code</td>\n",
    "<td>General-purpose, even cluster size, flat geometry, not too many clusters</td>\n",
    "<td>Distances between points</td>\n",
    "</tr>\n",
    "<tr><td>Affinity propagation</td>\n",
    "<td>damping, sample preference</td>\n",
    "<td>Not scalable with n_samples</td>\n",
    "<td>Many clusters, uneven cluster size, non-flat geometry</td>\n",
    "<td>Graph distance (e.g. nearest-neighbor graph)</td>\n",
    "</tr>\n",
    "<tr><td>Mean-shift</td>\n",
    "<td>bandwidth</td>\n",
    "<td>Not scalable with <span class=\"pre\">n_samples</span></td>\n",
    "<td>Many clusters, uneven cluster size, non-flat geometry</td>\n",
    "<td>Distances between points</td>\n",
    "</tr>\n",
    "<tr><td>Spectral clustering</td>\n",
    "<td>number of clusters</td>\n",
    "<td>Medium <span class=\"pre\">n_samples</span>, small <span class=\"pre\">n_clusters</span></td>\n",
    "<td>Few clusters, even cluster size, non-flat geometry</td>\n",
    "<td>Graph distance (e.g. nearest-neighbor graph)</td>\n",
    "</tr>\n",
    "<tr><td>Ward hierarchical clustering</td>\n",
    "<td>number of clusters</td>\n",
    "<td>Large <span class=\"pre\">n_samples</span> and <span class=\"pre\">n_clusters</span></td>\n",
    "<td>Many clusters, possibly connectivity constraints</td>\n",
    "<td>Distances between points</td>\n",
    "</tr>\n",
    "<tr><td>Agglomerative clustering</td>\n",
    "<td>number of clusters, linkage type, distance</td>\n",
    "<td>Large <span class=\"pre\">n_samples</span> and <span class=\"pre\">n_clusters</span></td>\n",
    "<td>Many clusters, possibly connectivity constraints, non Euclidean\n",
    "distances</td>\n",
    "<td>Any pairwise distance</td>\n",
    "</tr>\n",
    "<tr><td>DBSCAN</td>\n",
    "<td>neighborhood size</td>\n",
    "<td>Very large <span class=\"pre\">n_samples</span>, medium <span class=\"pre\">n_clusters</span></td>\n",
    "<td>Non-flat geometry, uneven cluster sizes</td>\n",
    "<td>Distances between nearest points</td>\n",
    "</tr>\n",
    "<tr><td>Gaussian mixtures</td>\n",
    "<td>many</td>\n",
    "<td>Not scalable</td>\n",
    "<td>Flat geometry, good for density estimation</td>\n",
    "<td>Mahalanobis distances to  centers</td>\n",
    "</tr>\n",
    "<tr><td>Birch</td>\n",
    "<td>branching factor, threshold, optional global clusterer.</td>\n",
    "<td>Large <span class=\"pre\">n_clusters</span> and <span class=\"pre\">n_samples</span></td>\n",
    "<td>Large dataset, outlier removal, data reduction.</td>\n",
    "<td>Euclidean distance between points</td>\n",
    "</tr>\n",
    "</tbody>\n",
    "</table>\n",
    "Source: http://scikit-learn.org/stable/modules/clustering.html"
   ]
  },
  {
   "cell_type": "markdown",
   "metadata": {},
   "source": [
    "<div class=\"span5 alert alert-info\">\n",
    "<h3>Exercise Set VI</h3>\n",
    "\n",
    "<p><b>Exercise:</b> Try clustering using the following algorithms. </p>\n",
    "<ol>\n",
    "<li>Affinity propagation\n",
    "<li>Spectral clustering\n",
    "<li>Agglomerative clustering\n",
    "<li>DBSCAN\n",
    "</ol>\n",
    "<p>How do their results compare? Which performs the best? Tell a story why you think it performs the best.</p>\n",
    "</div>\n"
   ]
  },
  {
   "cell_type": "code",
   "execution_count": 211,
   "metadata": {},
   "outputs": [
    {
     "name": "stdout",
     "output_type": "stream",
     "text": [
      "[ 0  0  0  0  0  0  0  0  0  0  0  0  0  0  0  0  0  0  0  0  0  0  0  0\n",
      "  0  0  0  0  0  0  0  0  0  0  0  0  0  0  0  0  0  0  0  0  0  0  0  0\n",
      "  0  0  0  0  0  0  0  0  0  0  0  0  0  0  0  0  0  0  0  0  0  0  0  0\n",
      "  0  0  0  0  0  0  0  0 -1 -1  0  0  0  0  0 -1  0  0  0  0  0  0  0  0\n",
      "  0  0  0  0]\n",
      "0.2348896595208253\n",
      "[ 0 10  6  3  3 12  6  7  4  2  9 13  2 12  4  6  3  6  0  1  2  7  4  9\n",
      "  6 10 11  4 12 13  3  7  4  8  0  5  4  2  4  5  6  6  7 12  0  8  2  3\n",
      " 10 13  1 12 13  6  7  7  6  3  0  7 12  7 12  0  0 13  6 11  9 10 11 10\n",
      "  8  3 12  3 13  3  3 13 11 10 11 13  2  5  0 10 10  7 12  0  7  3  1 12\n",
      "  7 12  8 12]\n",
      "0.12346523604478911\n",
      "[1 0 2 1 0 0 2 1 0 1 0 2 1 0 1 2 0 2 1 0 1 1 3 0 2 0 0 0 0 2 1 1 0 3 1 1 0\n",
      " 1 0 1 2 2 1 0 1 3 1 0 0 0 0 0 2 2 3 1 2 1 1 0 0 1 0 1 1 2 2 0 0 0 0 0 3 1\n",
      " 0 1 2 3 1 2 0 0 0 2 1 1 1 0 0 1 3 1 0 1 0 0 1 0 3 0]\n",
      "0.128937578158815\n",
      "[1 0 2 1 0 0 2 1 0 1 0 2 1 0 1 2 0 2 1 0 1 1 0 3 2 0 0 0 0 0 1 1 0 3 1 1 0\n",
      " 1 0 1 2 2 1 0 1 3 1 0 0 0 0 3 0 2 0 1 2 0 1 0 0 1 0 1 1 0 2 0 0 0 0 0 3 1\n",
      " 0 1 2 0 1 2 0 3 0 2 1 1 1 0 0 1 3 1 0 1 0 0 1 0 3 3]\n",
      "0.11581750804633346\n"
     ]
    }
   ],
   "source": [
    "from sklearn.cluster import DBSCAN\n",
    "from sklearn.cluster import AffinityPropagation\n",
    "from sklearn.cluster import SpectralClustering\n",
    "from sklearn.cluster import AgglomerativeClustering\n",
    "\n",
    "dbscan = DBSCAN(eps=2, min_samples=3)\n",
    "dbscan_model = dbscan.fit(x_cols)\n",
    "\n",
    "print(dbscan_model.labels_)\n",
    "\n",
    "cluster_labels = dbscan_model.labels_\n",
    "silhouette_avg_dbscan = silhouette_score(x_cols, cluster_labels)\n",
    "\n",
    "print(silhouette_avg_dbscan)\n",
    "\n",
    "affinitypropagation = AffinityPropagation(affinity='euclidean', convergence_iter=15, copy=True,\n",
    "          damping=0.5, max_iter=200, preference=None, verbose=False)\n",
    "ap_model = affinitypropagation.fit(x_cols)\n",
    "\n",
    "print(ap_model.labels_)\n",
    "\n",
    "cluster_labels = ap_model.labels_\n",
    "silhouette_avg_ap = silhouette_score(x_cols, cluster_labels)\n",
    "\n",
    "print(silhouette_avg_ap)\n",
    "\n",
    "agglomerativeclustering = AgglomerativeClustering(n_clusters=4)\n",
    "agg_model = agglomerativeclustering.fit(x_cols)\n",
    "\n",
    "print(agg_model.labels_)\n",
    "\n",
    "cluster_labels = agg_model.labels_\n",
    "silhouette_avg_agg = silhouette_score(x_cols, cluster_labels)\n",
    "\n",
    "print(silhouette_avg_agg)\n",
    "\n",
    "spectralclustering = SpectralClustering(n_clusters=4,random_state=0)\n",
    "spec_model = spectralclustering.fit(x_cols)\n",
    "\n",
    "print(spec_model.labels_)\n",
    "\n",
    "cluster_labels = spec_model.labels_\n",
    "silhouette_avg_spec = silhouette_score(x_cols, cluster_labels)\n",
    "\n",
    "print(silhouette_avg_spec)\n",
    "\n",
    "#Based on silhouette score, DBSCAN performed the best at assigning cluster labels to the samples."
   ]
  }
 ],
 "metadata": {
  "anaconda-cloud": {},
  "kernelspec": {
   "display_name": "Python 3",
   "language": "python",
   "name": "python3"
  },
  "language_info": {
   "codemirror_mode": {
    "name": "ipython",
    "version": 3
   },
   "file_extension": ".py",
   "mimetype": "text/x-python",
   "name": "python",
   "nbconvert_exporter": "python",
   "pygments_lexer": "ipython3",
   "version": "3.7.1"
  }
 },
 "nbformat": 4,
 "nbformat_minor": 1
}
