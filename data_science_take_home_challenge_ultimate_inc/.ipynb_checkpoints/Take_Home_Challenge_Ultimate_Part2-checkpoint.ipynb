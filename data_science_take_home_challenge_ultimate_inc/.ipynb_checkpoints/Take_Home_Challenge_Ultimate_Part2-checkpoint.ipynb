{
 "cells": [
  {
   "cell_type": "markdown",
   "metadata": {},
   "source": [
    "# Part2-Experiment and metrics design"
   ]
  },
  {
   "cell_type": "markdown",
   "metadata": {},
   "source": [
    "The neighboring cities of Gotham and Metropolis have complementary circadian rhythms: on weekdays, Ultimate Gotham is most active at night, and Ultimate Metropolis is most active during the day. On weekends, there is reasonable activity in both cities.\n",
    "However, a toll bridge, with a two­way toll, between the two cities causes driver partners to tend to be exclusive to each city. The Ultimate managers of city operations for the two cities have proposed an experiment to encourage driver partners to be available in both cities, by reimbursing all toll costs.\n",
    "1. What would you choose as the key measure of success of this experiment in encouraging driver partners to serve both cities, and why would you choose this metric?"
   ]
  },
  {
   "cell_type": "markdown",
   "metadata": {},
   "source": [
    "A good metric would be the mean number of riders who have done trips in both cities before the experiment(of reimbursing toll costs) vs the mean number of riders who have done trips in both cities after the experiment. "
   ]
  },
  {
   "cell_type": "markdown",
   "metadata": {},
   "source": [
    "2. Describe a practical experiment you would design to compare the effectiveness of the proposed change in relation to the key measure of success. Please provide details on:\n",
    "a. how you will implement the experiment\n",
    "b. what statistical test(s) you will conduct to verify the significance of the\n",
    "observation\n",
    "c. how you would interpret the results and provide recommendations to the city\n",
    "operations team along with any caveats."
   ]
  },
  {
   "cell_type": "markdown",
   "metadata": {},
   "source": [
    "I would do a two-sample hypothesis test.\n",
    "\n",
    "The first sample is the number of riders who drove in both cities before the experiment and the the second sample would the the number of riders who drove in both cities after the experiment.\n",
    "\n",
    "The null hypothesis would be that there was no statistical difference in the population mean of riders who have done trips in both cities before and after the experiment.\n",
    "\n",
    "The alternative hypothesis is that there is a statistical difference in the population mean of riders who have done trips in both cities before and after the experiment.\n",
    "\n",
    "I would first establish a signifciance level. \n",
    "\n",
    "Assuming the null hypothesis is true, I would perform a z-test and calculate the z statistic(assuming sample size greater than 30) for the difference in means. I would then calculate a p-value, if the p-value is less than the significance level then I would reject the null hypothesis and conclude there is a statistical difference in population means between the samples. If the p-value is more than the signicance level, then I would accept the null hypothesis that there is no statistical difference between the samples.\n",
    "\n",
    "If the alternative hypothesis is accepted(null rejected), then that means the experiment is working (although to what extent would depend on the p-value). I would recommend keeping this policy of reimbursement as it has proven itself.\n",
    "\n",
    "If the null hypothesis is accepted(alternative rejected), then that means the experiment has failed (although again to what extent it failed depends on the p-value) and I would recommend reversing this policy immediately.  "
   ]
  }
 ],
 "metadata": {
  "kernelspec": {
   "display_name": "Python 3",
   "language": "python",
   "name": "python3"
  },
  "language_info": {
   "codemirror_mode": {
    "name": "ipython",
    "version": 3
   },
   "file_extension": ".py",
   "mimetype": "text/x-python",
   "name": "python",
   "nbconvert_exporter": "python",
   "pygments_lexer": "ipython3",
   "version": "3.7.1"
  }
 },
 "nbformat": 4,
 "nbformat_minor": 2
}
