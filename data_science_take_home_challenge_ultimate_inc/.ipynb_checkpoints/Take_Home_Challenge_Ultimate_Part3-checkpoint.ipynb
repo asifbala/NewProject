{
 "cells": [
  {
   "cell_type": "markdown",
   "metadata": {},
   "source": [
    "# Part 3-Predictive Modeling"
   ]
  },
  {
   "cell_type": "markdown",
   "metadata": {},
   "source": [
    "Ultimate is interested in predicting rider retention. To help explore this question, we have provided a sample dataset of a cohort of users who signed up for an Ultimate account in\n",
    "January 2014. The data was pulled several months later; we consider a user retained if they were “active” (i.e. took a trip) in the preceding 30 days.\n",
    "We would like you to use this data set to help understand what factors are the best predictors for retention, and offer suggestions to operationalize those insights to help Ultimate.\n",
    "The data is in the attached file ultimate_data_challenge.json. See below for a detailed description of the dataset. Please include any code you wrote for the analysis and delete the dataset when you have finished with the challenge.\n",
    "\n",
    "1. Perform any cleaning, exploratory analysis, and/or visualizations to use the provided data for this analysis (a few sentences/plots describing your approach will suffice). What fraction of the observed users were retained?\n",
    "2. Build a predictive model to help Ultimate determine whether or not a user will be active in their 6th month on the system. Discuss why you chose your approach, what alternatives you considered, and any concerns you have. How valid is your model? Include any key indicators of model performance.\n",
    "3. Briefly discuss how Ultimate might leverage the insights gained from the model to improve its long­term rider retention (again, a few sentences will suffice)."
   ]
  },
  {
   "cell_type": "code",
   "execution_count": 970,
   "metadata": {},
   "outputs": [],
   "source": [
    "import numpy as np\n",
    "import pandas as pd \n",
    "import os\n",
    "import matplotlib.pyplot as plt\n",
    "import json\n",
    "import datetime \n",
    "from sklearn.model_selection import train_test_split\n",
    "from sklearn.model_selection import cross_val_score\n",
    "from sklearn.metrics import classification_report\n",
    "os.environ['KMP_DUPLICATE_LIB_OK']='True'\n",
    "from xgboost import XGBClassifier\n",
    "from sklearn.preprocessing import LabelEncoder"
   ]
  },
  {
   "cell_type": "markdown",
   "metadata": {},
   "source": [
    "Convert Json File into Pandas DF"
   ]
  },
  {
   "cell_type": "code",
   "execution_count": 971,
   "metadata": {},
   "outputs": [],
   "source": [
    "time_format = '%Y-%m-%d'\n",
    "\n",
    "openfile=open('/Users/asifbala/Local-SpringBoard/ultimate_challenge/ultimate_data_challenge.json')\n",
    "\n",
    "jsondata=json.load(openfile)\n",
    "\n",
    "df=pd.DataFrame(jsondata)\n",
    "\n",
    "openfile.close()"
   ]
  },
  {
   "cell_type": "code",
   "execution_count": 972,
   "metadata": {},
   "outputs": [
    {
     "name": "stdout",
     "output_type": "stream",
     "text": [
      "   avg_dist  avg_rating_by_driver  avg_rating_of_driver  avg_surge  \\\n",
      "0      3.67                   5.0                   4.7       1.10   \n",
      "1      8.26                   5.0                   5.0       1.00   \n",
      "2      0.77                   5.0                   4.3       1.00   \n",
      "3      2.36                   4.9                   4.6       1.14   \n",
      "4      3.13                   4.9                   4.4       1.19   \n",
      "\n",
      "             city last_trip_date    phone signup_date  surge_pct  \\\n",
      "0  King's Landing     2014-06-17   iPhone  2014-01-25       15.4   \n",
      "1         Astapor     2014-05-05  Android  2014-01-29        0.0   \n",
      "2         Astapor     2014-01-07   iPhone  2014-01-06        0.0   \n",
      "3  King's Landing     2014-06-29   iPhone  2014-01-10       20.0   \n",
      "4      Winterfell     2014-03-15  Android  2014-01-27       11.8   \n",
      "\n",
      "   trips_in_first_30_days  ultimate_black_user  weekday_pct  \n",
      "0                       4                 True         46.2  \n",
      "1                       0                False         50.0  \n",
      "2                       3                False        100.0  \n",
      "3                       9                 True         80.0  \n",
      "4                      14                False         82.4  \n"
     ]
    }
   ],
   "source": [
    "print(df.head())"
   ]
  },
  {
   "cell_type": "code",
   "execution_count": 973,
   "metadata": {},
   "outputs": [
    {
     "name": "stdout",
     "output_type": "stream",
     "text": [
      "(50000, 12)\n"
     ]
    }
   ],
   "source": [
    "print(df.shape)"
   ]
  },
  {
   "cell_type": "code",
   "execution_count": 974,
   "metadata": {},
   "outputs": [
    {
     "name": "stdout",
     "output_type": "stream",
     "text": [
      "<class 'pandas.core.frame.DataFrame'>\n",
      "RangeIndex: 50000 entries, 0 to 49999\n",
      "Data columns (total 12 columns):\n",
      "avg_dist                  50000 non-null float64\n",
      "avg_rating_by_driver      49799 non-null float64\n",
      "avg_rating_of_driver      41878 non-null float64\n",
      "avg_surge                 50000 non-null float64\n",
      "city                      50000 non-null object\n",
      "last_trip_date            50000 non-null object\n",
      "phone                     49604 non-null object\n",
      "signup_date               50000 non-null object\n",
      "surge_pct                 50000 non-null float64\n",
      "trips_in_first_30_days    50000 non-null int64\n",
      "ultimate_black_user       50000 non-null bool\n",
      "weekday_pct               50000 non-null float64\n",
      "dtypes: bool(1), float64(6), int64(1), object(4)\n",
      "memory usage: 4.2+ MB\n",
      "None\n"
     ]
    }
   ],
   "source": [
    "print(df.info())"
   ]
  },
  {
   "cell_type": "code",
   "execution_count": 975,
   "metadata": {},
   "outputs": [
    {
     "name": "stdout",
     "output_type": "stream",
     "text": [
      "           avg_dist  avg_rating_by_driver  avg_rating_of_driver     avg_surge  \\\n",
      "count  50000.000000          49799.000000          41878.000000  50000.000000   \n",
      "mean       5.796827              4.778158              4.601559      1.074764   \n",
      "std        5.707357              0.446652              0.617338      0.222336   \n",
      "min        0.000000              1.000000              1.000000      1.000000   \n",
      "25%        2.420000              4.700000              4.300000      1.000000   \n",
      "50%        3.880000              5.000000              4.900000      1.000000   \n",
      "75%        6.940000              5.000000              5.000000      1.050000   \n",
      "max      160.960000              5.000000              5.000000      8.000000   \n",
      "\n",
      "          surge_pct  trips_in_first_30_days   weekday_pct  \n",
      "count  50000.000000            50000.000000  50000.000000  \n",
      "mean       8.849536                2.278200     60.926084  \n",
      "std       19.958811                3.792684     37.081503  \n",
      "min        0.000000                0.000000      0.000000  \n",
      "25%        0.000000                0.000000     33.300000  \n",
      "50%        0.000000                1.000000     66.700000  \n",
      "75%        8.600000                3.000000    100.000000  \n",
      "max      100.000000              125.000000    100.000000  \n"
     ]
    }
   ],
   "source": [
    "print(df.describe())"
   ]
  },
  {
   "cell_type": "markdown",
   "metadata": {},
   "source": [
    "Fill in missing values(for avg_rating_by_driver and avg_rating_of_driver)"
   ]
  },
  {
   "cell_type": "code",
   "execution_count": 976,
   "metadata": {},
   "outputs": [
    {
     "name": "stdout",
     "output_type": "stream",
     "text": [
      "<class 'pandas.core.frame.DataFrame'>\n",
      "RangeIndex: 50000 entries, 0 to 49999\n",
      "Data columns (total 12 columns):\n",
      "avg_dist                  50000 non-null float64\n",
      "avg_rating_by_driver      50000 non-null float64\n",
      "avg_rating_of_driver      50000 non-null float64\n",
      "avg_surge                 50000 non-null float64\n",
      "city                      50000 non-null object\n",
      "last_trip_date            50000 non-null object\n",
      "phone                     49604 non-null object\n",
      "signup_date               50000 non-null object\n",
      "surge_pct                 50000 non-null float64\n",
      "trips_in_first_30_days    50000 non-null int64\n",
      "ultimate_black_user       50000 non-null bool\n",
      "weekday_pct               50000 non-null float64\n",
      "dtypes: bool(1), float64(6), int64(1), object(4)\n",
      "memory usage: 4.2+ MB\n",
      "None\n"
     ]
    }
   ],
   "source": [
    "df.avg_rating_by_driver = df.avg_rating_by_driver.fillna(df.avg_rating_by_driver.mean())\n",
    "df.avg_rating_of_driver = df.avg_rating_of_driver.fillna(df.avg_rating_of_driver.mean())\n",
    "print(df.info())"
   ]
  },
  {
   "cell_type": "markdown",
   "metadata": {},
   "source": [
    "Create Active Target Variable\n",
    "\n",
    "'1' is active and '0' is not active."
   ]
  },
  {
   "cell_type": "code",
   "execution_count": 977,
   "metadata": {},
   "outputs": [
    {
     "name": "stdout",
     "output_type": "stream",
     "text": [
      "(50000, 15)\n"
     ]
    }
   ],
   "source": [
    "df['signup_date'] = pd.to_datetime(df['signup_date'], format=time_format)\n",
    "\n",
    "df['six_months'] = df['signup_date'] + datetime.timedelta(days=181)\n",
    "\n",
    "df['last_trip_date'] = pd.to_datetime(df['last_trip_date'], format=time_format)\n",
    "\n",
    "df['diff'] = list(df['six_months'] - df['last_trip_date'])\n",
    "\n",
    "df['diff'] = df['diff'].dt.days\n",
    "\n",
    "df['active'] = np.where(df['diff'] <= 30,1,0)\n",
    "\n",
    "print(df.shape)"
   ]
  },
  {
   "cell_type": "markdown",
   "metadata": {},
   "source": [
    "Fix Class Imbalance"
   ]
  },
  {
   "cell_type": "code",
   "execution_count": 978,
   "metadata": {},
   "outputs": [
    {
     "name": "stdout",
     "output_type": "stream",
     "text": [
      "12198\n",
      "37802\n",
      "(24396, 15)\n"
     ]
    }
   ],
   "source": [
    "#Find Number of samples which are active\n",
    "no_active = len(df[df['active'] == 1])\n",
    "no_non_active = len(df[df['active'] == 0])\n",
    "\n",
    "print(no_active)\n",
    "print(no_non_active)\n",
    "\n",
    "#Get indices of non active samples\n",
    "non_active_indices = df[df.active == 0].index\n",
    "\n",
    "#Random sample non active indices\n",
    "random_indices = np.random.choice(non_active_indices,no_active, replace=False)\n",
    "\n",
    "#Find the indices of active samples\n",
    "active_indices = df[df.active == 1].index\n",
    "\n",
    "#Concat active indices with sample non-active ones\n",
    "under_sample_indices = np.concatenate([active_indices,random_indices])\n",
    "\n",
    "#Get Balanced Dataframe\n",
    "under_sample = df.loc[under_sample_indices]\n",
    "\n",
    "print(under_sample.shape)"
   ]
  },
  {
   "cell_type": "markdown",
   "metadata": {},
   "source": [
    "# Visual Exploratory Data Analysis"
   ]
  },
  {
   "cell_type": "markdown",
   "metadata": {},
   "source": [
    "Perform feature to target exploratory data analysis. I will plot and analyze the various inputs to derive any key features that show a large difference between active non active users. I will then leverage those key features for my predictive model. "
   ]
  },
  {
   "cell_type": "code",
   "execution_count": 979,
   "metadata": {},
   "outputs": [
    {
     "name": "stdout",
     "output_type": "stream",
     "text": [
      "1    12198\n",
      "0    12198\n",
      "Name: active, dtype: int64\n"
     ]
    },
    {
     "data": {
      "image/png": "[encoded data removed]",
      "text/plain": [
       "<Figure size 432x288 with 1 Axes>"
      ]
     },
     "metadata": {
      "needs_background": "light"
     },
     "output_type": "display_data"
    }
   ],
   "source": [
    "class_counts = under_sample['active'].value_counts()\n",
    "\n",
    "print(class_counts)\n",
    "\n",
    "class_counts.plot(kind='bar')\n",
    "\n",
    "plt.show()"
   ]
  },
  {
   "cell_type": "code",
   "execution_count": 980,
   "metadata": {},
   "outputs": [
    {
     "name": "stdout",
     "output_type": "stream",
     "text": [
      "active     0  1\n",
      "avg_dist       \n",
      "0.00      46  6\n",
      "0.01      13  2\n",
      "0.02       4  1\n",
      "0.03       2  0\n",
      "0.04       2  0\n"
     ]
    },
    {
     "data": {
      "image/png": "[encoded data removed]",
      "text/plain": [
       "<Figure size 432x288 with 1 Axes>"
      ]
     },
     "metadata": {
      "needs_background": "light"
     },
     "output_type": "display_data"
    }
   ],
   "source": [
    "avg_dist_active = pd.crosstab(under_sample['avg_dist'], under_sample['active'])\n",
    "\n",
    "print(avg_dist_active.head())\n",
    "\n",
    "avg_dist_active.plot()\n",
    "\n",
    "plt.show()"
   ]
  },
  {
   "cell_type": "code",
   "execution_count": 981,
   "metadata": {},
   "outputs": [
    {
     "name": "stdout",
     "output_type": "stream",
     "text": [
      "active                 0   1\n",
      "avg_rating_by_driver        \n",
      "1.0                   62  12\n",
      "1.5                    2   0\n",
      "2.0                   38   6\n",
      "2.3                    1   0\n",
      "2.5                    6   0\n"
     ]
    },
    {
     "data": {
      "image/png": "[encoded data removed]",
      "text/plain": [
       "<Figure size 432x288 with 1 Axes>"
      ]
     },
     "metadata": {
      "needs_background": "light"
     },
     "output_type": "display_data"
    }
   ],
   "source": [
    "avg_rating_by_driver_active = pd.crosstab(under_sample['avg_rating_by_driver'],under_sample['active'])\n",
    "\n",
    "print(avg_rating_by_driver_active.head())\n",
    "\n",
    "avg_rating_by_driver_active.plot()\n",
    "\n",
    "plt.show()"
   ]
  },
  {
   "cell_type": "code",
   "execution_count": 982,
   "metadata": {},
   "outputs": [
    {
     "name": "stdout",
     "output_type": "stream",
     "text": [
      "active                 0   1\n",
      "avg_rating_of_driver        \n",
      "1.0                   77  22\n",
      "1.5                    2   0\n",
      "1.6                    0   1\n",
      "1.9                    1   0\n",
      "2.0                   62  22\n"
     ]
    },
    {
     "data": {
      "image/png": "[encoded data removed]",
      "text/plain": [
       "<Figure size 432x288 with 1 Axes>"
      ]
     },
     "metadata": {
      "needs_background": "light"
     },
     "output_type": "display_data"
    }
   ],
   "source": [
    "avg_rating_of_driver_active = pd.crosstab(under_sample['avg_rating_of_driver'],under_sample['active'])\n",
    "\n",
    "print(avg_rating_of_driver_active.head())\n",
    "\n",
    "avg_rating_of_driver_active.plot()\n",
    "\n",
    "plt.show()"
   ]
  },
  {
   "cell_type": "code",
   "execution_count": 983,
   "metadata": {},
   "outputs": [
    {
     "name": "stdout",
     "output_type": "stream",
     "text": [
      "active        0     1\n",
      "avg_surge            \n",
      "1.00       9260  5747\n",
      "1.01         60   297\n",
      "1.02        107   509\n",
      "1.03         84   368\n",
      "1.04        111   413\n"
     ]
    },
    {
     "data": {
      "image/png": "[encoded data removed]",
      "text/plain": [
       "<Figure size 432x288 with 1 Axes>"
      ]
     },
     "metadata": {
      "needs_background": "light"
     },
     "output_type": "display_data"
    }
   ],
   "source": [
    "avg_surge_active = pd.crosstab(under_sample['avg_surge'],under_sample['active'])\n",
    "\n",
    "print(avg_surge_active.head())\n",
    "\n",
    "avg_surge_active.plot()\n",
    "\n",
    "plt.show()"
   ]
  },
  {
   "cell_type": "code",
   "execution_count": 984,
   "metadata": {},
   "outputs": [
    {
     "name": "stdout",
     "output_type": "stream",
     "text": [
      "active                 0         1\n",
      "city                              \n",
      "Astapor         0.626800  0.373200\n",
      "King's Landing  0.325694  0.674306\n",
      "Winterfell      0.511256  0.488744\n"
     ]
    },
    {
     "data": {
      "image/png": "[encoded data removed]",
      "text/plain": [
       "<Figure size 432x288 with 1 Axes>"
      ]
     },
     "metadata": {
      "needs_background": "light"
     },
     "output_type": "display_data"
    }
   ],
   "source": [
    "city_active = pd.crosstab(under_sample['city'],under_sample['active'],normalize='index')\n",
    "\n",
    "print(city_active.head())\n",
    "\n",
    "city_active.plot(kind='bar')\n",
    "\n",
    "plt.show()"
   ]
  },
  {
   "cell_type": "code",
   "execution_count": 985,
   "metadata": {},
   "outputs": [
    {
     "name": "stdout",
     "output_type": "stream",
     "text": [
      "active        0     1\n",
      "surge_pct            \n",
      "0.0        9255  5718\n",
      "0.4           0     1\n",
      "0.5           0     3\n",
      "0.6           0     1\n",
      "0.7           0     5\n"
     ]
    },
    {
     "data": {
      "image/png": "[encoded data removed]",
      "text/plain": [
       "<Figure size 432x288 with 1 Axes>"
      ]
     },
     "metadata": {
      "needs_background": "light"
     },
     "output_type": "display_data"
    }
   ],
   "source": [
    "surge_pct_active = pd.crosstab(under_sample['surge_pct'],under_sample['active'])\n",
    "\n",
    "print(surge_pct_active.head())\n",
    "\n",
    "surge_pct_active.plot()\n",
    "\n",
    "plt.show()"
   ]
  },
  {
   "cell_type": "code",
   "execution_count": 986,
   "metadata": {},
   "outputs": [
    {
     "name": "stdout",
     "output_type": "stream",
     "text": [
      "active                     0     1\n",
      "trips_in_first_30_days            \n",
      "0                       3915  3381\n",
      "1                       3901  2001\n",
      "2                       1810  1728\n",
      "3                        873  1067\n",
      "4                        552   864\n"
     ]
    },
    {
     "data": {
      "image/png": "[encoded data removed]",
      "text/plain": [
       "<Figure size 432x288 with 1 Axes>"
      ]
     },
     "metadata": {
      "needs_background": "light"
     },
     "output_type": "display_data"
    }
   ],
   "source": [
    "trips_in_first_30_days_active = pd.crosstab(under_sample['trips_in_first_30_days'],under_sample['active'])\n",
    "\n",
    "print(trips_in_first_30_days_active.head())\n",
    "\n",
    "trips_in_first_30_days_active.plot()\n",
    "\n",
    "plt.show()"
   ]
  },
  {
   "cell_type": "code",
   "execution_count": 987,
   "metadata": {},
   "outputs": [
    {
     "name": "stdout",
     "output_type": "stream",
     "text": [
      "active                  0     1\n",
      "ultimate_black_user            \n",
      "False                8113  5942\n",
      "True                 4085  6256\n"
     ]
    },
    {
     "data": {
      "image/png": "[encoded data removed]",
      "text/plain": [
       "<Figure size 432x288 with 1 Axes>"
      ]
     },
     "metadata": {
      "needs_background": "light"
     },
     "output_type": "display_data"
    }
   ],
   "source": [
    "ultimate_black_user_active = pd.crosstab(under_sample['ultimate_black_user'],under_sample['active'])\n",
    "\n",
    "print(ultimate_black_user_active.head())\n",
    "\n",
    "ultimate_black_user_active.plot(kind='bar')\n",
    "\n",
    "plt.show()"
   ]
  },
  {
   "cell_type": "code",
   "execution_count": 988,
   "metadata": {
    "scrolled": true
   },
   "outputs": [
    {
     "name": "stdout",
     "output_type": "stream",
     "text": [
      "active          0    1\n",
      "weekday_pct           \n",
      "0.0          2663  873\n",
      "4.0             0    1\n",
      "5.0             0    1\n",
      "6.3             1    2\n",
      "6.7             1    1\n"
     ]
    }
   ],
   "source": [
    "weekday_pct_active = pd.crosstab(under_sample['weekday_pct'],under_sample['active'])\n",
    "\n",
    "print(weekday_pct_active.head())"
   ]
  },
  {
   "cell_type": "code",
   "execution_count": 989,
   "metadata": {},
   "outputs": [
    {
     "data": {
      "image/png": "[encoded data removed]",
      "text/plain": [
       "<Figure size 432x288 with 1 Axes>"
      ]
     },
     "metadata": {
      "needs_background": "light"
     },
     "output_type": "display_data"
    }
   ],
   "source": [
    "weekday_pct_active.plot()\n",
    "\n",
    "plt.show()"
   ]
  },
  {
   "cell_type": "markdown",
   "metadata": {},
   "source": [
    "# Feature Engineering"
   ]
  },
  {
   "cell_type": "markdown",
   "metadata": {},
   "source": [
    "Derived features:\n",
    "\n",
    "-Number of drivers with 100 weekday pct\n",
    "\n",
    "-number of drivers with 0 weekday pct\n",
    "\n",
    "-number of drivers with average distance of 0 in first 30 days\n",
    "\n",
    "-true or false ultimate_black_user\n",
    "\n",
    "-number of 0 surge percentage\n",
    "\n",
    "-city signed up in was Kings Landing or not\n",
    "\n",
    "-city signed up in was Astapor or not\n",
    "\n",
    "-number of avg_surge being 1\n",
    "\n",
    "-number of avg_rating_of_driver being 5\n",
    "\n",
    "-number of avg_rating_by_driver being 5"
   ]
  },
  {
   "cell_type": "markdown",
   "metadata": {},
   "source": [
    "Create Features DF that will be input into model"
   ]
  },
  {
   "cell_type": "code",
   "execution_count": 990,
   "metadata": {},
   "outputs": [
    {
     "name": "stdout",
     "output_type": "stream",
     "text": [
      "    avg_dist_0  weekday_pct_100  weekday_pct_0  surge_pct_0  avg_surge_1  \\\n",
      "3            0                0              0            0            0   \n",
      "16           0                0              0            1            1   \n",
      "17           0                0              0            1            1   \n",
      "19           0                0              0            0            0   \n",
      "32           0                1              0            0            0   \n",
      "\n",
      "    avg_rating_of_driver_5  avg_rating_by_driver_5  one_hot_Astapor  \\\n",
      "3                        0                       0                0   \n",
      "16                       1                       0                0   \n",
      "17                       0                       0                0   \n",
      "19                       1                       1                0   \n",
      "32                       0                       1                0   \n",
      "\n",
      "    one_hot_King's Landing  one_hot_True  one_hot_False  active  \n",
      "3                        1             1              0       1  \n",
      "16                       1             1              0       1  \n",
      "17                       1             1              0       1  \n",
      "19                       1             0              1       1  \n",
      "32                       0             0              1       1  \n"
     ]
    }
   ],
   "source": [
    "under_sample['weekday_pct_100'] = np.where(under_sample['weekday_pct'] == 100,1,0)\n",
    "\n",
    "under_sample['weekday_pct_0'] = np.where(under_sample['weekday_pct'] == 0,1,0)\n",
    "\n",
    "under_sample['avg_dist_0'] = np.where(under_sample['avg_dist'] == 0,1,0)\n",
    "\n",
    "under_sample = pd.get_dummies(under_sample, prefix='one_hot', columns=['ultimate_black_user'])\n",
    "\n",
    "under_sample['surge_pct_0'] = np.where(under_sample['surge_pct'] == 0,1,0)\n",
    "\n",
    "under_sample['avg_surge_1'] = np.where(under_sample['avg_surge'] == 1,1,0)\n",
    "\n",
    "under_sample['avg_rating_of_driver_5'] = np.where(under_sample['avg_rating_of_driver'] == 5,1,0)\n",
    "\n",
    "under_sample['avg_rating_by_driver_5'] = np.where(under_sample['avg_rating_by_driver'] == 5,1,0)\n",
    "\n",
    "under_sample = pd.get_dummies(under_sample, prefix='one_hot', columns=['city'])\n",
    "\n",
    "feature_df = under_sample[['avg_dist_0','weekday_pct_100','weekday_pct_0','surge_pct_0','avg_surge_1','avg_rating_of_driver_5','avg_rating_by_driver_5','one_hot_Astapor','one_hot_King\\'s Landing','one_hot_True','one_hot_False','active']]\n",
    "\n",
    "print(feature_df.head())"
   ]
  },
  {
   "cell_type": "markdown",
   "metadata": {},
   "source": [
    "# Model"
   ]
  },
  {
   "cell_type": "code",
   "execution_count": 991,
   "metadata": {},
   "outputs": [
    {
     "name": "stdout",
     "output_type": "stream",
     "text": [
      "0    8539\n",
      "1    8538\n",
      "Name: active, dtype: int64\n",
      "1    3660\n",
      "0    3659\n",
      "Name: active, dtype: int64\n"
     ]
    }
   ],
   "source": [
    "x = feature_df.drop('active',axis=1)\n",
    "\n",
    "y = feature_df['active']\n",
    "\n",
    "x_train,x_test,y_train,y_test = train_test_split(x,y,test_size=0.3,random_state=21,stratify=y)\n",
    "\n",
    "print(y_train.value_counts())\n",
    "\n",
    "print(y_test.value_counts())"
   ]
  },
  {
   "cell_type": "code",
   "execution_count": 992,
   "metadata": {},
   "outputs": [
    {
     "name": "stdout",
     "output_type": "stream",
     "text": [
      "[0.72397541 0.72233607 0.73012295 0.73185732 0.73349733]\n",
      "0.7283578159552088\n"
     ]
    }
   ],
   "source": [
    "xgb = XGBClassifier(max_depth=3,n_estimators=250,learning_rate=0.1)\n",
    "\n",
    "cv_scores_xgb = cross_val_score(xgb,x,y,cv=5)\n",
    "\n",
    "print(cv_scores_xgb)\n",
    "\n",
    "mean_cv_scores_xgb = np.mean(cv_scores_xgb)\n",
    "\n",
    "print(mean_cv_scores_xgb)"
   ]
  },
  {
   "cell_type": "code",
   "execution_count": 993,
   "metadata": {},
   "outputs": [
    {
     "name": "stdout",
     "output_type": "stream",
     "text": [
      "[1 1 1 ... 0 0 1]\n"
     ]
    }
   ],
   "source": [
    "xgb = xgb.fit(x_train,y_train)\n",
    "\n",
    "y_pred_xgb = xgb.predict(x_test)\n",
    "\n",
    "print(y_pred_xgb)"
   ]
  },
  {
   "cell_type": "code",
   "execution_count": 994,
   "metadata": {},
   "outputs": [
    {
     "name": "stdout",
     "output_type": "stream",
     "text": [
      "[[0.18461353 0.8153865 ]\n",
      " [0.22032088 0.7796791 ]\n",
      " [0.4058841  0.5941159 ]\n",
      " ...\n",
      " [0.5897088  0.4102912 ]\n",
      " [0.7331958  0.2668042 ]\n",
      " [0.41716677 0.58283323]]\n"
     ]
    }
   ],
   "source": [
    "y_pred_proba_xgb = xgb.predict_proba(x_test)\n",
    "\n",
    "print(y_pred_proba_xgb)"
   ]
  },
  {
   "cell_type": "code",
   "execution_count": 995,
   "metadata": {},
   "outputs": [
    {
     "name": "stdout",
     "output_type": "stream",
     "text": [
      "          0         1\n",
      "0  0.184614  0.815386\n",
      "1  0.220321  0.779679\n",
      "2  0.405884  0.594116\n",
      "3  0.124455  0.875545\n",
      "4  0.516211  0.483789\n"
     ]
    }
   ],
   "source": [
    "y_pred_proba_xgb_df = pd.DataFrame(y_pred_proba_xgb)\n",
    "\n",
    "print(y_pred_proba_xgb_df.head())"
   ]
  },
  {
   "cell_type": "code",
   "execution_count": 996,
   "metadata": {},
   "outputs": [
    {
     "name": "stdout",
     "output_type": "stream",
     "text": [
      "              precision    recall  f1-score   support\n",
      "\n",
      "           0       0.74      0.71      0.72      3659\n",
      "           1       0.72      0.75      0.73      3660\n",
      "\n",
      "   micro avg       0.73      0.73      0.73      7319\n",
      "   macro avg       0.73      0.73      0.73      7319\n",
      "weighted avg       0.73      0.73      0.73      7319\n",
      "\n"
     ]
    }
   ],
   "source": [
    "cr_xgb = classification_report(y_test,y_pred_xgb)\n",
    "\n",
    "print(cr_xgb)"
   ]
  },
  {
   "cell_type": "code",
   "execution_count": 997,
   "metadata": {},
   "outputs": [
    {
     "data": {
      "text/plain": [
       "avg_rating_by_driver_5    0.146881\n",
       "one_hot_King's Landing    0.142186\n",
       "avg_dist_0                0.120054\n",
       "avg_rating_of_driver_5    0.109993\n",
       "one_hot_True              0.094567\n",
       "weekday_pct_0             0.091214\n",
       "one_hot_Astapor           0.083166\n",
       "weekday_pct_100           0.077800\n",
       "surge_pct_0               0.075117\n",
       "avg_surge_1               0.059021\n",
       "Name: coef, dtype: float32"
      ]
     },
     "execution_count": 997,
     "metadata": {},
     "output_type": "execute_result"
    }
   ],
   "source": [
    "feature_importance = pd.DataFrame()\n",
    "feature_importance['coef'] = xgb.feature_importances_\n",
    "feature_importance = feature_importance.set_index(x.columns)\n",
    "feature_importance['coef'].nlargest(10)"
   ]
  },
  {
   "cell_type": "code",
   "execution_count": 998,
   "metadata": {},
   "outputs": [
    {
     "data": {
      "image/png": "[encoded data removed]",
      "text/plain": [
       "<Figure size 720x360 with 1 Axes>"
      ]
     },
     "metadata": {
      "needs_background": "light"
     },
     "output_type": "display_data"
    }
   ],
   "source": [
    "plt.figure(figsize=(10,5))\n",
    "(feature_importance['coef']).nlargest(10).plot(kind='bar', x=feature_importance.index)\n",
    "plt.title('XGBoost Classifier Feature Coefficients')\n",
    "plt.ylabel('coefficient value')\n",
    "plt.show()"
   ]
  },
  {
   "cell_type": "markdown",
   "metadata": {},
   "source": [
    "I used the extreme gradient boosting classifier as my machine learning model. With the features highlighted in the graph, I generated an accuracy of 73 percent on whether or not a user will be 'active' within their sixth month in the system.\n",
    "\n",
    "The top two key indicators of performance that stood out above the rest was whether the rider’s average rating over all of their trips by driver was a 5 or not and whether the user signed up in the city of King's Landing. These gave the largest coefficient values indicating the highest feature importances by the XGBoost model. These model coefficients will indicate what to focus on.\n",
    "\n",
    "It would appear how the drivers trips are being rated by the riders(being given a rating of 5 or not) seems to have the most impact on whether or not they will remain active in their sixth month. Perhaps changes could be made that would make it easier/more likely for riders to give 5 star ratings.  Also, it appears people who signed up in King's Landing were the most likely to remain active. For this, I would recommend that Ultimate focus highly on improving aspects of the product that would most appeal to residents of King's Landing."
   ]
  },
  {
   "cell_type": "markdown",
   "metadata": {},
   "source": [
    "It is important to note that the non-active samples in the original df is being undersampled from 37k to 12k, so which samples exactly are being undersampled will change from run to run, which could change the feature importances."
   ]
  }
 ],
 "metadata": {
  "kernelspec": {
   "display_name": "Python 3",
   "language": "python",
   "name": "python3"
  },
  "language_info": {
   "codemirror_mode": {
    "name": "ipython",
    "version": 3
   },
   "file_extension": ".py",
   "mimetype": "text/x-python",
   "name": "python",
   "nbconvert_exporter": "python",
   "pygments_lexer": "ipython3",
   "version": "3.7.1"
  }
 },
 "nbformat": 4,
 "nbformat_minor": 2
}
